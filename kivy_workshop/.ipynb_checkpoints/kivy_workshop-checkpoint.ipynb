{
 "metadata": {
  "name": "",
  "signature": "sha256:9680db3642d2ab510e2f37d7cfd44e6b512927e55249e6b081456d84b8a89ca1"
 },
 "nbformat": 3,
 "nbformat_minor": 0,
 "worksheets": [
  {
   "cells": [
    {
     "cell_type": "markdown",
     "metadata": {},
     "source": [
      "Cross Platform GUI Framework\n",
      "============================\n",
      "\n",
      "Why?\n",
      "----\n",
      "\n",
      "* Because you hate to code the same thing many times for many different platform\n",
      "* Because\n",
      "\n",
      "![Deploy everywhere](deploy_everywhere.png)\n",
      "\n",
      "Why not?\n",
      "--------\n",
      "\n",
      "* Because you want to build a specific application for specific platform\n",
      "* Because speed and size matter\n",
      "\n",
      "Alternatives?\n",
      "-------------\n",
      "\n",
      "* Phonegap (CSS + HTML + JS)\n",
      "* Kivy (Python)\n",
      "* QT (C)\n",
      "\n",
      "What is Kivy?\n",
      "=============\n",
      "\n",
      "Open source Python library for rapid development of applications that make use of innovative user interfaces, such as multi-touch apps. ([http://kivy.org/](http://kivy.org))\n",
      "\n",
      "Why Kivy?\n",
      "=========\n",
      "\n",
      "* Cross platform\n",
      "\n",
      "  Kivy runs on Linux, Windows, OS X, Android and iOS. You can run the same code on all supported platforms.\n",
      "\n",
      "  It can use natively most inputs, protocols and devices including WM_Touch, WM_Pen, Mac OS X Trackpad and Magic Mouse, Mtdev, Linux Kernel HID, TUIO. A multi-touch mouse simulator is included.\n",
      "  \n",
      "\n",
      "* Business Friendly\n",
      "\n",
      "   Kivy is 100% free to use, under an MIT license (starting from 1.7.2) and LGPL 3 for the previous versions. The toolkit is professionally developed, backed and used. You can use it in a commercial product.\n",
      "   \n",
      "   The framework is stable and has a well documented API, plus a programming guide to help you get started.\n",
      "   \n",
      "\n",
      "* GPU Accelerated\n",
      "\n",
      "   The graphics engine is built over OpenGL ES 2, using a modern and fast graphics pipeline.\n",
      "\n",
      "   The toolkit comes with more than 20 widgets, all highly extensible. Many parts are written in C using Cython, and tested with regression tests.\n",
      "\n",
      "\n",
      "What is Python?\n",
      "===============\n",
      "\n",
      "Python is an interpreted, object-oriented, high-level programming language with dynamic semantics. Its high-level built in data structures, combined with dynamic typing and dynamic binding, make it very attractive for Rapid Application Development, as well as for use as a scripting or glue language to connect existing components together. Python's simple, easy to learn syntax emphasizes readability and therefore reduces the cost of program maintenance. Python supports modules and packages, which encourages program modularity and code reuse. The Python interpreter and the extensive standard library are available in source or binary form without charge for all major platforms, and can be freely distributed. [https://www.python.org/doc/essays/blurb/](https://www.python.org/doc/essays/blurb/)\n",
      "\n",
      "Why Python?\n",
      "===========\n",
      "\n",
      "* Efficient\n",
      "* Can be fast\n",
      "* Broad\n",
      "* Easy\n",
      "\n",
      "A little comparison:\n",
      "\n",
      "This is java:\n",
      "\n",
      "```java\n",
      "\n",
      "package Fruit\n",
      "public class Fruit{\n",
      "    public static void main(String[] args){\n",
      "        String[] fruits = {\"orange\", \"apple\", \"grape\"};\n",
      "        for(String fruit:fruits){\n",
      "            System.out.println(fruit);\n",
      "        }\n",
      "    }\n",
      "}\n",
      "\n",
      "```\n",
      "\n",
      "This is Python:"
     ]
    },
    {
     "cell_type": "code",
     "collapsed": false,
     "input": [
      "fruits = [\"orange\", \"apple\", \"grape\"]\n",
      "for fruit in fruits:\n",
      "    print fruit"
     ],
     "language": "python",
     "metadata": {},
     "outputs": [
      {
       "output_type": "stream",
       "stream": "stdout",
       "text": [
        "orange\n",
        "apple\n",
        "grape\n"
       ]
      }
     ],
     "prompt_number": 1
    }
   ],
   "metadata": {}
  }
 ]
}