{
 "metadata": {
  "name": "",
  "signature": "sha256:4be0ed1e9386dd8ce054ea3b56dce148a6d6106df5a73237e334daed3f2e8277"
 },
 "nbformat": 3,
 "nbformat_minor": 0,
 "worksheets": [
  {
   "cells": [
    {
     "cell_type": "markdown",
     "metadata": {},
     "source": [
      "What will we learn?\n",
      "===================\n",
      "\n",
      "* Introduction to information retrieval\n",
      "* Text Analysis and Preprocessing\n",
      "* Text Retrieval\n",
      "* Vector Space Model\n",
      "* Probabilistic Model\n",
      "* Query Expansion and Feedback\n",
      "* Text Filtering\n",
      "* Text Clustering"
     ]
    },
    {
     "cell_type": "code",
     "collapsed": false,
     "input": [],
     "language": "python",
     "metadata": {},
     "outputs": []
    }
   ],
   "metadata": {}
  }
 ]
}