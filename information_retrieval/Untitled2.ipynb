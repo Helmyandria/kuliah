{
 "cells": [
  {
   "cell_type": "code",
   "execution_count": 4,
   "metadata": {
    "collapsed": false
   },
   "outputs": [
    {
     "name": "stdout",
     "output_type": "stream",
     "text": [
      "0.003\n",
      "0.0\n",
      "0.01875\n"
     ]
    }
   ],
   "source": [
    "banana = {'long' : 400.0, 'sweet' : 350.0, 'yellow' : 450.0}\n",
    "orange = {'long' :   0.0, 'sweet' : 150.0, 'yellow' : 300.0}\n",
    "other  = {'long' : 100.0, 'sweet' : 150.0, 'yellow' :  50.0}\n",
    "\n",
    "total_banana = 500\n",
    "total_orange = 300\n",
    "total_other  = 200\n",
    "total = total_banana + total_orange + total_other\n",
    "\n",
    "banana_not_long = total_banana - banana['long']\n",
    "orange_not_long = total_orange - orange['long']\n",
    "other_not_long = total_other - other['long']\n",
    "banana_not_sweet = total_banana - banana['sweet']\n",
    "orange_not_sweet = total_orange - orange['sweet']\n",
    "other_not_sweet = total_other - other['sweet']\n",
    "banana_not_yellow = total_banana - banana['yellow']\n",
    "orange_not_yellow = total_orange - orange['yellow']\n",
    "other_not_yellow = total_other - other['yellow']\n",
    "\n",
    "banana_not_sweet_not_long_not_yellow = banana_not_long/total_banana * \\\n",
    "    banana_not_sweet/total_banana * banana_not_yellow/total_banana * total_banana/total\n",
    "print banana_not_sweet_not_long_not_yellow\n",
    "\n",
    "orange_not_sweet_not_long_not_yellow = orange_not_long/total_orange * \\\n",
    "    orange_not_sweet/total_orange * orange_not_yellow/total_orange * total_orange/total\n",
    "print orange_not_sweet_not_long_not_yellow\n",
    "\n",
    "other_not_sweet_not_long_not_yellow = other_not_long/total_other * \\\n",
    "    other_not_sweet/total_other * other_not_yellow/total_other * total_other/total\n",
    "print other_not_sweet_not_long_not_yellow\n"
   ]
  },
  {
   "cell_type": "code",
   "execution_count": null,
   "metadata": {
    "collapsed": true
   },
   "outputs": [],
   "source": []
  }
 ],
 "metadata": {
  "kernelspec": {
   "display_name": "Python 2",
   "language": "python",
   "name": "python2"
  },
  "language_info": {
   "codemirror_mode": {
    "name": "ipython",
    "version": 2
   },
   "file_extension": ".py",
   "mimetype": "text/x-python",
   "name": "python",
   "nbconvert_exporter": "python",
   "pygments_lexer": "ipython2",
   "version": "2.7.12"
  }
 },
 "nbformat": 4,
 "nbformat_minor": 1
}
