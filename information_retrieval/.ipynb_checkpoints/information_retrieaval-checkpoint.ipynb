{
 "metadata": {
  "name": "",
  "signature": "sha256:f7bbc8a99a036d1e6cfe44f4b97eb65149561ac0ebbc0a39bbae3a1b09677b57"
 },
 "nbformat": 3,
 "nbformat_minor": 0,
 "worksheets": [
  {
   "cells": [
    {
     "cell_type": "markdown",
     "metadata": {},
     "source": [
      "What will we learn?\n",
      "===================\n",
      "\n",
      "* Introduction to information retrieval\n",
      "* Text Analysis and Preprocessing\n",
      "* Text Retrieval\n",
      "* Vector Space Model\n",
      "* Probabilistic Model\n",
      "* Query Expansion and Feedback\n",
      "* Text Filtering\n",
      "* Text Clustering"
     ]
    },
    {
     "cell_type": "markdown",
     "metadata": {},
     "source": [
      "Vector\n",
      "======\n",
      "\n",
      "$$ a=\n",
      "\\begin{bmatrix}\n",
      "    a_{x} \\\\\n",
      "    a_{y} \\\\\n",
      "    a_{z} \\\\\n",
      "\\end{bmatrix}\n",
      "$$\n",
      "\n",
      "Dot product?\n",
      "============\n",
      "$$a \\cdot b = |a| \\times |b| \\cos(\\theta) $$\n",
      "\n",
      "and\n",
      "\n",
      "$$a \\cdot b = (a_x \\times b_x) + (a_y \\times b_y) $$"
     ]
    },
    {
     "cell_type": "code",
     "collapsed": false,
     "input": [],
     "language": "python",
     "metadata": {},
     "outputs": []
    }
   ],
   "metadata": {}
  }
 ]
}