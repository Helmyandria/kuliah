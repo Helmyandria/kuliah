{
 "cells": [
  {
   "cell_type": "code",
   "execution_count": 7,
   "metadata": {
    "collapsed": false
   },
   "outputs": [
    {
     "name": "stdout",
     "output_type": "stream",
     "text": [
      "The Shawshank Redemption\n",
      "['\\n                    Two imprisoned men bond over a number of years, finding solace and eventual redemption through acts of common decency.\\n            ', '\\n            ', '\\n        ']\n",
      "\n",
      "The Godfather\n",
      "['\\n                    The aging patriarch of an organized crime dynasty transfers control of his clandestine empire to his reluctant son.\\n            ', '\\n            ', '\\n        ']\n",
      "\n",
      "The Godfather: Part II\n",
      "['\\n                    The early life and career of Vito Corleone in 1920s New York is portrayed while his son, Michael, expands and tightens his grip on his crime syndicate stretching from Lake Tahoe, Nevada to pre-revolution 1958 Cuba.\\n            ', '\\n            ', '\\n        ']\n",
      "\n",
      "The Dark Knight\n",
      "['\\n                    When the menace known as the Joker wreaks havoc and chaos on the people of Gotham, the caped crusader must come to terms with one of the greatest psychological tests of his ability to fight injustice.\\n            ', '\\n            ', '\\n        ']\n",
      "\n",
      "12 Angry Men\n",
      "['\\n                    A jury holdout attempts to prevent a miscarriage of justice by forcing his colleagues to reconsider the evidence.\\n            ', '\\n            ', '\\n        ']\n",
      "\n"
     ]
    }
   ],
   "source": [
    "from lxml import html\n",
    "import requests\n",
    "\n",
    "page = requests.get('http://www.imdb.com/chart/top')\n",
    "tree = html.fromstring(page.content)\n",
    "link_judul_list = tree.xpath('//td[@class=\"titleColumn\"]/a')\n",
    "# batasi 5 judul saja\n",
    "link_judul_list = link_judul_list[:5]\n",
    "# parse link\n",
    "for link_judul in link_judul_list:\n",
    "    title = link_judul.text # tampilkan ini dari link_judul\n",
    "    print title\n",
    "    if 'href' in link_judul.attrib: # jika ada atribut href di link judul\n",
    "        href = link_judul.attrib['href'] # dapatkan, tambahkan alamat server\n",
    "        href = 'http://www.imdb.com/' + href\n",
    "        detail_page = requests.get(href) # buka halaman detail\n",
    "        detail_tree = html.fromstring(detail_page.content)\n",
    "        description = detail_tree.xpath('//div[@itemprop=\"description\"]/text()')\n",
    "        print description\n",
    "        print ''"
   ]
  },
  {
   "cell_type": "code",
   "execution_count": null,
   "metadata": {
    "collapsed": true
   },
   "outputs": [],
   "source": []
  }
 ],
 "metadata": {
  "kernelspec": {
   "display_name": "Python 2",
   "language": "python",
   "name": "python2"
  },
  "language_info": {
   "codemirror_mode": {
    "name": "ipython",
    "version": 2
   },
   "file_extension": ".py",
   "mimetype": "text/x-python",
   "name": "python",
   "nbconvert_exporter": "python",
   "pygments_lexer": "ipython2",
   "version": "2.7.12"
  }
 },
 "nbformat": 4,
 "nbformat_minor": 1
}
