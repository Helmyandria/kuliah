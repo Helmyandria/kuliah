{
 "metadata": {
  "name": "",
  "signature": "sha256:b3e0ba82e54a9a30de2f33d6b5b376f0bc4434ee5be4e115879b694142331279"
 },
 "nbformat": 3,
 "nbformat_minor": 0,
 "worksheets": [
  {
   "cells": [
    {
     "cell_type": "code",
     "collapsed": false,
     "input": [
      "articles = [\n",
      "   'Pada hari minggu saya pergi ke pasar malam malam',\n",
      "   'Malam itu di pasar ada diskon besar besaran',\n",
      "   'Di pasar malam terdapat banyak permainan',\n",
      "   'Malam minggu di pasar terjadi kebakaran',\n",
      "   'Ada mainan terbuat dari malam'\n",
      "]\n",
      "\n",
      "unique_words = []\n",
      "stem = {\n",
      "    'besaran' : 'besar',\n",
      "    'mainan'  : 'main',\n",
      "    'permainan' : 'main',\n",
      "    'kebakaran' : 'bakar',\n",
      "    'terjadi'   : 'jadi',\n",
      "    'terbuat'   : 'buat',\n",
      "    'terdapat'  : 'dapat',\n",
      "    'di'        : '',\n",
      "    'dan'       : '',\n",
      "    'ke'        : '',\n",
      "    'dari'      : '',\n",
      "    'pada'      : '',\n",
      "    'itu'       : '',\n",
      "}\n",
      "for article in articles:\n",
      "    words = article.split(' ')\n",
      "    for word in words:\n",
      "        word = word.lower()\n",
      "        for key in stem:\n",
      "            if word == key:\n",
      "                word = stem[key]\n",
      "        if word == '':\n",
      "            continue\n",
      "        if word not in unique_words:\n",
      "            unique_words.append(word)\n",
      "print len(unique_words)\n",
      "print unique_words"
     ],
     "language": "python",
     "metadata": {},
     "outputs": [
      {
       "output_type": "stream",
       "stream": "stdout",
       "text": [
        "15\n",
        "['hari', 'minggu', 'saya', 'pergi', 'pasar', 'malam', 'ada', 'diskon', 'besar', 'dapat', 'banyak', 'main', 'jadi', 'bakar', 'buat']\n"
       ]
      }
     ],
     "prompt_number": 7
    },
    {
     "cell_type": "code",
     "collapsed": false,
     "input": [
      "def vectorize(articles):\n",
      "    vectors = []\n",
      "    for article in articles:\n",
      "        vector = []\n",
      "        for i in range(len(unique_words)):\n",
      "            vector.append(0)\n",
      "        words = article.split(' ')\n",
      "        for word in words:\n",
      "            word = word.lower()\n",
      "            for key in stem:\n",
      "                if word == key:\n",
      "                    word = stem[key]\n",
      "            if word == '':\n",
      "                continue\n",
      "            for i, unique_word in enumerate(unique_words):\n",
      "                if unique_word == word:\n",
      "                    vector[i] += 1\n",
      "                    break\n",
      "        vectors.append(vector)\n",
      "    return vectors\n",
      "\n",
      "vectors = vectorize(articles)\n",
      "for i, article in enumerate(articles):\n",
      "    print article\n",
      "    print vectors[i]\n",
      "\n",
      "keyword = 'Pasar Malam Minggu'\n",
      "keyword_vector = vectorize([keyword])[0]\n",
      "print keyword\n",
      "print keyword_vector"
     ],
     "language": "python",
     "metadata": {},
     "outputs": [
      {
       "output_type": "stream",
       "stream": "stdout",
       "text": [
        "Pada hari minggu saya pergi ke pasar malam malam\n",
        "[1, 1, 1, 1, 1, 2, 0, 0, 0, 0, 0, 0, 0, 0, 0]\n",
        "Malam itu di pasar ada diskon besar besaran\n",
        "[0, 0, 0, 0, 1, 1, 1, 1, 2, 0, 0, 0, 0, 0, 0]\n",
        "Di pasar malam terdapat banyak permainan\n",
        "[0, 0, 0, 0, 1, 1, 0, 0, 0, 1, 1, 1, 0, 0, 0]\n",
        "Malam minggu di pasar terjadi kebakaran\n",
        "[0, 1, 0, 0, 1, 1, 0, 0, 0, 0, 0, 0, 1, 1, 0]\n",
        "Ada mainan terbuat dari malam\n",
        "[0, 0, 0, 0, 0, 1, 1, 0, 0, 0, 0, 1, 0, 0, 1]\n",
        "Pasar Malam Minggu\n",
        "[0, 1, 0, 0, 1, 1, 0, 0, 0, 0, 0, 0, 0, 0, 0]\n"
       ]
      }
     ],
     "prompt_number": 14
    },
    {
     "cell_type": "code",
     "collapsed": false,
     "input": [
      "import math\n",
      "\n",
      "def length(vector):\n",
      "    cummulation = 0\n",
      "    for number in vector:\n",
      "        cummulation += number * number\n",
      "    return cummulation ** 0.5\n",
      "\n",
      "def dot_product(vector_1, vector_2):\n",
      "    cummulation = 0\n",
      "    for i, num_1 in enumerate(vector_1):\n",
      "        num_2 = vector_2[i]\n",
      "        cummulation += num_1 * num_2\n",
      "    return cummulation\n",
      "\n",
      "def cos_theta(vector_1, vector_2):\n",
      "    return dot_product(vector_1, vector_2)/(length(vector_1) * length(vector_2))\n",
      "\n",
      "def theta_value(vector_1, vector_2):\n",
      "    return math.acos(cos_theta(vector_1, vector_2))\n",
      "\n",
      "for i, article in enumerate(articles):\n",
      "    vector = vectors[i]\n",
      "    theta = theta_value(vector, keyword_vector)\n",
      "    print article\n",
      "    print vector\n",
      "    print theta\n",
      "    print ''\n"
     ],
     "language": "python",
     "metadata": {},
     "outputs": [
      {
       "output_type": "stream",
       "stream": "stdout",
       "text": [
        "Pada hari minggu saya pergi ke pasar malam malam\n",
        "[1, 1, 1, 1, 1, 2, 0, 0, 0, 0, 0, 0, 0, 0, 0]\n",
        "0.692268011609\n",
        "\n",
        "Malam itu di pasar ada diskon besar besaran\n",
        "[0, 0, 0, 0, 1, 1, 1, 1, 2, 0, 0, 0, 0, 0, 0]\n",
        "1.15026199151\n",
        "\n",
        "Di pasar malam terdapat banyak permainan\n",
        "[0, 0, 0, 0, 1, 1, 0, 0, 0, 1, 1, 1, 0, 0, 0]\n",
        "1.02815722455\n",
        "\n",
        "Malam minggu di pasar terjadi kebakaran\n",
        "[0, 1, 0, 0, 1, 1, 0, 0, 0, 0, 0, 0, 1, 1, 0]\n",
        "0.684719203002\n",
        "\n",
        "Ada mainan terbuat dari malam\n",
        "[0, 0, 0, 0, 0, 1, 1, 0, 0, 0, 0, 1, 0, 0, 1]\n",
        "1.27795355507\n",
        "\n"
       ]
      }
     ],
     "prompt_number": 16
    },
    {
     "cell_type": "code",
     "collapsed": false,
     "input": [],
     "language": "python",
     "metadata": {},
     "outputs": []
    }
   ],
   "metadata": {}
  }
 ]
}