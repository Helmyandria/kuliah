{
 "cells": [
  {
   "cell_type": "code",
   "execution_count": 19,
   "metadata": {
    "collapsed": false
   },
   "outputs": [
    {
     "name": "stdout",
     "output_type": "stream",
     "text": [
      "['d4', 'd5', 'd2', 'd3', 'd1']\n",
      "['apple', 'pen', 'pineapple', 'pin']\n",
      "Weight apple d4 \t= 0.096910\n",
      "Weight apple d5 \t= 0.193820\n",
      "Weight apple d2 \t= 0.000000\n",
      "Weight apple d3 \t= 0.096910\n",
      "Weight apple d1 \t= 0.096910\n",
      "Weight pen d4 \t= 0.000000\n",
      "Weight pen d5 \t= 0.000000\n",
      "Weight pen d2 \t= 0.000000\n",
      "Weight pen d3 \t= 0.000000\n",
      "Weight pen d1 \t= 0.000000\n",
      "Weight pineapple d4 \t= 0.221849\n",
      "Weight pineapple d5 \t= 0.000000\n",
      "Weight pineapple d2 \t= 0.221849\n",
      "Weight pineapple d3 \t= 0.221849\n",
      "Weight pineapple d1 \t= 0.000000\n",
      "Weight pin d4 \t= 0.698970\n",
      "Weight pin d5 \t= 0.000000\n",
      "Weight pin d2 \t= 0.000000\n",
      "Weight pin d3 \t= 0.000000\n",
      "Weight pin d1 \t= 0.000000\n"
     ]
    }
   ],
   "source": [
    "import math\n",
    "data = {\n",
    "    'd1' : 'pen apple',\n",
    "    'd2' : 'pen pineapple',\n",
    "    'd3' : 'pen pineapple apple pen',\n",
    "    'd4' : 'apple pen pineapple pin',\n",
    "    'd5' : 'pen apple apple pen'\n",
    "}\n",
    "# preparation\n",
    "d_list = data.keys()\n",
    "t_list = []\n",
    "N = len(data)\n",
    "for d in d_list:\n",
    "    data[d] = data[d].split(' ')\n",
    "    for t in data[d]:\n",
    "        if t not in t_list:\n",
    "            t_list.append(t)\n",
    "# calculation\n",
    "tf = {}\n",
    "df = {}\n",
    "idf = {}\n",
    "weight = {}\n",
    "for t in t_list:\n",
    "    tf[t] = {}\n",
    "    weight[t] = {}\n",
    "    for d in d_list:\n",
    "        tf[t][d] = len([x for x in data[d] if x == t])\n",
    "    df[t] = len([x for x in data if t in data[x]])\n",
    "    idf[t] = math.log(N/float(df[t]), 10)\n",
    "    for d in d_list:\n",
    "        weight[t][d] = tf[t][d] * idf[t]\n",
    "# show time\n",
    "print d_list\n",
    "print t_list\n",
    "for t in t_list:\n",
    "    for d in d_list:\n",
    "        print 'Weight %s %s \\t= %f' %(t, d, weight[t][d])\n"
   ]
  },
  {
   "cell_type": "code",
   "execution_count": null,
   "metadata": {
    "collapsed": true
   },
   "outputs": [],
   "source": []
  }
 ],
 "metadata": {
  "kernelspec": {
   "display_name": "Python 2",
   "language": "python",
   "name": "python2"
  },
  "language_info": {
   "codemirror_mode": {
    "name": "ipython",
    "version": 2
   },
   "file_extension": ".py",
   "mimetype": "text/x-python",
   "name": "python",
   "nbconvert_exporter": "python",
   "pygments_lexer": "ipython2",
   "version": "2.7.12"
  }
 },
 "nbformat": 4,
 "nbformat_minor": 1
}
