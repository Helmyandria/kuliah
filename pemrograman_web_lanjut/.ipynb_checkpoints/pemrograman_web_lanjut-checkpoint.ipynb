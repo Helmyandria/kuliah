{
 "cells": [
  {
   "cell_type": "markdown",
   "metadata": {},
   "source": [
    "# Array\n",
    "\n",
    "Array is a variable with a lot of values, so instead of doing this:"
   ]
  },
  {
   "cell_type": "code",
   "execution_count": null,
   "metadata": {
    "collapsed": false
   },
   "outputs": [
    {
     "name": "stdout",
     "output_type": "stream",
     "text": [
      "1\n"
     ]
    },
    {
     "data": {},
     "execution_count": 1,
     "metadata": {},
     "output_type": "execute_result"
    },
    {
     "name": "stdout",
     "output_type": "stream",
     "text": [
      "3\n"
     ]
    },
    {
     "data": {},
     "execution_count": 1,
     "metadata": {},
     "output_type": "execute_result"
    },
    {
     "name": "stdout",
     "output_type": "stream",
     "text": [
      "5\n"
     ]
    },
    {
     "data": {},
     "execution_count": 1,
     "metadata": {},
     "output_type": "execute_result"
    },
    {
     "name": "stdout",
     "output_type": "stream",
     "text": [
      "=> \u001b[36mnull\u001b[39m"
     ]
    },
    {
     "data": {},
     "execution_count": 1,
     "metadata": {},
     "output_type": "execute_result"
    }
   ],
   "source": [
    "$a_1 = 1;\n",
    "$a_2 = 3;\n",
    "$a_3 = 5;\n",
    "echo $a_1;\n",
    "echo $a_2;\n",
    "echo $a_3;"
   ]
  },
  {
   "cell_type": "markdown",
   "metadata": {},
   "source": [
    "you better doing this:"
   ]
  },
  {
   "cell_type": "code",
   "execution_count": null,
   "metadata": {
    "collapsed": false
   },
   "outputs": [
    {
     "name": "stdout",
     "output_type": "stream",
     "text": [
      "1\n"
     ]
    },
    {
     "data": {},
     "execution_count": 1,
     "metadata": {},
     "output_type": "execute_result"
    },
    {
     "name": "stdout",
     "output_type": "stream",
     "text": [
      "3\n"
     ]
    },
    {
     "data": {},
     "execution_count": 1,
     "metadata": {},
     "output_type": "execute_result"
    },
    {
     "name": "stdout",
     "output_type": "stream",
     "text": [
      "5\n"
     ]
    },
    {
     "data": {},
     "execution_count": 1,
     "metadata": {},
     "output_type": "execute_result"
    },
    {
     "name": "stdout",
     "output_type": "stream",
     "text": [
      "=> \u001b[36mnull\u001b[39m"
     ]
    },
    {
     "data": {},
     "execution_count": 1,
     "metadata": {},
     "output_type": "execute_result"
    }
   ],
   "source": [
    "$b = array(1, 3, 5);\n",
    "echo $b[0];\n",
    "echo $b[1];\n",
    "echo $b[2];"
   ]
  },
  {
   "cell_type": "markdown",
   "metadata": {},
   "source": [
    "or even better:"
   ]
  },
  {
   "cell_type": "code",
   "execution_count": null,
   "metadata": {
    "collapsed": false
   },
   "outputs": [
    {
     "name": "stdout",
     "output_type": "stream",
     "text": [
      "1\n"
     ]
    },
    {
     "data": {},
     "execution_count": 1,
     "metadata": {},
     "output_type": "execute_result"
    },
    {
     "name": "stdout",
     "output_type": "stream",
     "text": [
      "3\n"
     ]
    },
    {
     "data": {},
     "execution_count": 1,
     "metadata": {},
     "output_type": "execute_result"
    },
    {
     "name": "stdout",
     "output_type": "stream",
     "text": [
      "5\n"
     ]
    },
    {
     "data": {},
     "execution_count": 1,
     "metadata": {},
     "output_type": "execute_result"
    },
    {
     "name": "stdout",
     "output_type": "stream",
     "text": [
      "=> \u001b[36mnull\u001b[39m"
     ]
    },
    {
     "data": {},
     "execution_count": 1,
     "metadata": {},
     "output_type": "execute_result"
    }
   ],
   "source": [
    "$b = array(1, 3, 5);\n",
    "\n",
    "for($i=0; $i<count($b); $i++){\n",
    "    echo $b[$i];\n",
    "}"
   ]
  },
  {
   "cell_type": "code",
   "execution_count": null,
   "metadata": {
    "collapsed": false
   },
   "outputs": [
    {
     "name": "stdout",
     "output_type": "stream",
     "text": [
      "banana\n"
     ]
    },
    {
     "data": {},
     "execution_count": 1,
     "metadata": {},
     "output_type": "execute_result"
    },
    {
     "name": "stdout",
     "output_type": "stream",
     "text": [
      "banana\n"
     ]
    },
    {
     "data": {},
     "execution_count": 1,
     "metadata": {},
     "output_type": "execute_result"
    },
    {
     "name": "stdout",
     "output_type": "stream",
     "text": [
      "orange\n"
     ]
    },
    {
     "data": {},
     "execution_count": 1,
     "metadata": {},
     "output_type": "execute_result"
    },
    {
     "name": "stdout",
     "output_type": "stream",
     "text": [
      "grape\n"
     ]
    },
    {
     "data": {},
     "execution_count": 1,
     "metadata": {},
     "output_type": "execute_result"
    },
    {
     "name": "stdout",
     "output_type": "stream",
     "text": [
      "strawberry\n"
     ]
    },
    {
     "data": {},
     "execution_count": 1,
     "metadata": {},
     "output_type": "execute_result"
    },
    {
     "name": "stdout",
     "output_type": "stream",
     "text": [
      "banana\n"
     ]
    },
    {
     "data": {},
     "execution_count": 1,
     "metadata": {},
     "output_type": "execute_result"
    },
    {
     "name": "stdout",
     "output_type": "stream",
     "text": [
      "orange\n"
     ]
    },
    {
     "data": {},
     "execution_count": 1,
     "metadata": {},
     "output_type": "execute_result"
    },
    {
     "name": "stdout",
     "output_type": "stream",
     "text": [
      "grape\n"
     ]
    },
    {
     "data": {},
     "execution_count": 1,
     "metadata": {},
     "output_type": "execute_result"
    },
    {
     "name": "stdout",
     "output_type": "stream",
     "text": [
      "strawberry\n"
     ]
    },
    {
     "data": {},
     "execution_count": 1,
     "metadata": {},
     "output_type": "execute_result"
    },
    {
     "name": "stdout",
     "output_type": "stream",
     "text": [
      "=> \u001b[36mnull\u001b[39m"
     ]
    },
    {
     "data": {},
     "execution_count": 1,
     "metadata": {},
     "output_type": "execute_result"
    }
   ],
   "source": [
    "$fruits = array(\"banana\", \"orange\", \"grape\"); // define an array with 3 elements\n",
    "\n",
    "$fruits[] = \"strawberry\";                     // add new element to fruits array\n",
    "\n",
    "echo $fruits[0];                              // show the first element\n",
    "\n",
    "// use for to show all elements\n",
    "for( $i=0; $i<count( $fruits); $i++){\n",
    "    $fruit = $fruits[$i];\n",
    "    echo $fruit;\n",
    "}\n",
    "\n",
    "// or foreach to show all elements\n",
    "foreach($fruits as $fruit){\n",
    "    echo $fruit;\n",
    "}"
   ]
  },
  {
   "cell_type": "markdown",
   "metadata": {
    "collapsed": true
   },
   "source": [
    "# Associative array\n",
    "\n",
    "Associative array is array with special keys. It's like dictionary, struct, or record in other programming language.\n",
    "\n",
    "```php\n",
    "$student = array(\n",
    "    'name' => 'Dono',\n",
    "    'age' => 19\n",
    ");\n",
    "echo $student['name'];\n",
    "echo $student['age'];\n",
    "```\n",
    "\n",
    "Suppose we want to make \"gunting-batu-kertas\" game with a bit expansion just like http://bigbangtheory.wikia.com/wiki/Rock_Paper_Scissors_Lizard_Spock\n",
    "\n",
    "You can do this (take a look at how I eliminate unnecessary nested if):"
   ]
  },
  {
   "cell_type": "code",
   "execution_count": null,
   "metadata": {
    "collapsed": false
   },
   "outputs": [
    {
     "name": "stdout",
     "output_type": "stream",
     "text": [
      "player 2\n"
     ]
    },
    {
     "data": {},
     "execution_count": 1,
     "metadata": {},
     "output_type": "execute_result"
    },
    {
     "name": "stdout",
     "output_type": "stream",
     "text": [
      "player 2\n"
     ]
    },
    {
     "data": {},
     "execution_count": 1,
     "metadata": {},
     "output_type": "execute_result"
    },
    {
     "name": "stdout",
     "output_type": "stream",
     "text": [
      "draw\n"
     ]
    },
    {
     "data": {},
     "execution_count": 1,
     "metadata": {},
     "output_type": "execute_result"
    },
    {
     "name": "stdout",
     "output_type": "stream",
     "text": [
      "player 1\n"
     ]
    },
    {
     "data": {},
     "execution_count": 1,
     "metadata": {},
     "output_type": "execute_result"
    },
    {
     "name": "stdout",
     "output_type": "stream",
     "text": [
      "=> \u001b[36mnull\u001b[39m"
     ]
    },
    {
     "data": {},
     "execution_count": 1,
     "metadata": {},
     "output_type": "execute_result"
    }
   ],
   "source": [
    "$player_1 = array('spock', 'gunting', 'batu', 'kertas');\n",
    "$player_2 = array('kadal', 'batu', 'batu', 'batu');\n",
    "\n",
    "$menang = array(\n",
    "    'gunting' => array('kertas', 'kadal'),\n",
    "    'batu' => array('gunting', 'kadal'),\n",
    "    'kertas' => array('batu', 'spock'),\n",
    "    'kadal' => array('spock', 'kertas'),\n",
    "    'spock' => array('gunting', 'batu'),\n",
    ");\n",
    "\n",
    "for($i=0; $i<count($player_1); $i++){\n",
    "    $p1 = $player_1[$i];\n",
    "    $p2 = $player_2[$i];\n",
    "    if($p1 == $p2){\n",
    "        echo 'draw';\n",
    "    }else if(in_array($p2, $menang[$p1])){\n",
    "        echo 'player 1';\n",
    "    }else{\n",
    "        echo 'player 2';\n",
    "    }\n",
    "}"
   ]
  },
  {
   "cell_type": "markdown",
   "metadata": {
    "collapsed": true
   },
   "source": [
    "# Class and Inheritance\n",
    "\n",
    "Notice that `Mahasiswa` has everything `Orang` has. Plus, in `Mahasiswa` you can use `Orang`'s `__construct` and `sapa` to make your code shorter"
   ]
  },
  {
   "cell_type": "code",
   "execution_count": null,
   "metadata": {
    "collapsed": false
   },
   "outputs": [
    {
     "name": "stdout",
     "output_type": "stream",
     "text": [
      "151112345<br />\n"
     ]
    },
    {
     "data": {},
     "execution_count": 1,
     "metadata": {},
     "output_type": "execute_result"
    },
    {
     "name": "stdout",
     "output_type": "stream",
     "text": [
      "Tono Martono Jr.<br />\n"
     ]
    },
    {
     "data": {},
     "execution_count": 1,
     "metadata": {},
     "output_type": "execute_result"
    },
    {
     "name": "stdout",
     "output_type": "stream",
     "text": [
      "Malang<br />\n"
     ]
    },
    {
     "data": {},
     "execution_count": 1,
     "metadata": {},
     "output_type": "execute_result"
    },
    {
     "name": "stdout",
     "output_type": "stream",
     "text": [
      "=> \u001b[36mnull\u001b[39m"
     ]
    },
    {
     "data": {},
     "execution_count": 1,
     "metadata": {},
     "output_type": "execute_result"
    }
   ],
   "source": [
    "class Orang{\n",
    "    public $nama;\n",
    "    public $alamat;\n",
    "    public function __construct($nama, $alamat){\n",
    "        $this->nama = $nama;\n",
    "        $this->alamat = $alamat;\n",
    "    }\n",
    "    public function sapa(){\n",
    "        echo $this->nama.'<br />';\n",
    "        echo $this->alamat.'<br />';\n",
    "    }\n",
    "}\n",
    "class Mahasiswa extends Orang{\n",
    "    public $nrp;\n",
    "    public function __construct($nrp, $nama, $alamat){\n",
    "        $this->nrp = $nrp;\n",
    "        parent::__construct($nama, $alamat);\n",
    "    }\n",
    "    public function sapa(){\n",
    "        echo $this->nrp.'<br />';\n",
    "        parent::sapa();\n",
    "    }\n",
    "}\n",
    "\n",
    "$tono = new Mahasiswa('151112345','Tono Martono', 'Malang');\n",
    "$tono->nama = 'Tono Martono Jr.';\n",
    "$tono->sapa();"
   ]
  },
  {
   "cell_type": "markdown",
   "metadata": {},
   "source": [
    "# Insert and Select From Database (The Old Way)"
   ]
  },
  {
   "cell_type": "code",
   "execution_count": null,
   "metadata": {
    "collapsed": false
   },
   "outputs": [
    {
     "name": "stdout",
     "output_type": "stream",
     "text": [
      "12111234\n"
     ]
    },
    {
     "data": {},
     "execution_count": 1,
     "metadata": {},
     "output_type": "execute_result"
    },
    {
     "name": "stdout",
     "output_type": "stream",
     "text": [
      " \n"
     ]
    },
    {
     "data": {},
     "execution_count": 1,
     "metadata": {},
     "output_type": "execute_result"
    },
    {
     "name": "stdout",
     "output_type": "stream",
     "text": [
      "Budi\n"
     ]
    },
    {
     "data": {},
     "execution_count": 1,
     "metadata": {},
     "output_type": "execute_result"
    },
    {
     "name": "stdout",
     "output_type": "stream",
     "text": [
      "<br />\n"
     ]
    },
    {
     "data": {},
     "execution_count": 1,
     "metadata": {},
     "output_type": "execute_result"
    },
    {
     "name": "stdout",
     "output_type": "stream",
     "text": [
      "=> \u001b[36mnull\u001b[39m"
     ]
    },
    {
     "data": {},
     "execution_count": 1,
     "metadata": {},
     "output_type": "execute_result"
    }
   ],
   "source": [
    "$link = mysqli_connect('localhost', 'root', 'toor', 'belajar_db');\n",
    "$sql = \"INSERT INTO mhs(nrp, nama) VALUES('12111234', 'Budi')\";\n",
    "mysqli_query($link, $sql);\n",
    "$sql = \"SELECT nrp, nama FROM mhs\";\n",
    "$result = mysqli_query($link, $sql);\n",
    "while($row = mysqli_fetch_array($result)){\n",
    "    echo $row['nrp'];\n",
    "    echo ' ';\n",
    "    echo $row['nama'];\n",
    "    echo '<br />';\n",
    "}"
   ]
  },
  {
   "cell_type": "markdown",
   "metadata": {},
   "source": [
    "# Using Class to Make Things Easier"
   ]
  },
  {
   "cell_type": "code",
   "execution_count": null,
   "metadata": {
    "collapsed": false
   },
   "outputs": [
    {
     "name": "stdout",
     "output_type": "stream",
     "text": [
      "12111234 \n"
     ]
    },
    {
     "data": {},
     "execution_count": 1,
     "metadata": {},
     "output_type": "execute_result"
    },
    {
     "name": "stdout",
     "output_type": "stream",
     "text": [
      "Budi \n"
     ]
    },
    {
     "data": {},
     "execution_count": 1,
     "metadata": {},
     "output_type": "execute_result"
    },
    {
     "name": "stdout",
     "output_type": "stream",
     "text": [
      "<br />\n"
     ]
    },
    {
     "data": {},
     "execution_count": 1,
     "metadata": {},
     "output_type": "execute_result"
    },
    {
     "name": "stdout",
     "output_type": "stream",
     "text": [
      "131124566 \n"
     ]
    },
    {
     "data": {},
     "execution_count": 1,
     "metadata": {},
     "output_type": "execute_result"
    },
    {
     "name": "stdout",
     "output_type": "stream",
     "text": [
      "Toni \n"
     ]
    },
    {
     "data": {},
     "execution_count": 1,
     "metadata": {},
     "output_type": "execute_result"
    },
    {
     "name": "stdout",
     "output_type": "stream",
     "text": [
      "<br />\n"
     ]
    },
    {
     "data": {},
     "execution_count": 1,
     "metadata": {},
     "output_type": "execute_result"
    },
    {
     "name": "stdout",
     "output_type": "stream",
     "text": [
      "=> \u001b[36mnull\u001b[39m"
     ]
    },
    {
     "data": {},
     "execution_count": 1,
     "metadata": {},
     "output_type": "execute_result"
    }
   ],
   "source": [
    "// Location: belajar-database-class.php\n",
    "class Table{\n",
    "    private $link;\n",
    "    public $table_name;\n",
    "    public $fields;\n",
    "    public function __construct(){\n",
    "        $this->link = mysqli_connect('localhost', 'root', 'toor', 'belajar_db');\n",
    "    }\n",
    "    public function insert($data){\n",
    "        foreach($data as $key=>$val){\n",
    "            $fields[] = $key;\n",
    "            $values[] = \"'\" . addslashes($val) . \"'\";  \n",
    "        }\n",
    "        $sql = \"INSERT INTO $this->table_name(\";\n",
    "        $sql .= implode(', ', $fields);\n",
    "        $sql .= ') VALUES (';\n",
    "        $sql .= implode(', ', $values);\n",
    "        $sql .= ')';\n",
    "        mysqli_query($this->link, $sql);\n",
    "    }\n",
    "    public function show(){\n",
    "        $sql = \"SELECT \" . implode(', ', $this->fields) . \" FROM \" . $this->table_name; \n",
    "        $result = mysqli_query($this->link, $sql);\n",
    "        while($row = mysqli_fetch_array($result)){\n",
    "            foreach($this->fields as $field){\n",
    "                echo $row[$field].' ';\n",
    "            }\n",
    "            echo '<br />';\n",
    "        }\n",
    "    }\n",
    "}\n",
    "\n",
    "// Location: belajar-db-class-implemented.php\n",
    "// Uncommment a line below\n",
    "//include('belajar-db-class.php');\n",
    "class Student extends Table{\n",
    "    public $table_name = 'mhs';\n",
    "    public $fields = array('nrp', 'nama');\n",
    "}\n",
    "\n",
    "$mhs = new Student();\n",
    "$mhs->insert(array('nrp'=>'131124566', 'nama'=>'Toni'));\n",
    "$mhs->show();"
   ]
  },
  {
   "cell_type": "markdown",
   "metadata": {
    "collapsed": true
   },
   "source": [
    "# Final Project\n",
    "\n",
    "* A team consists of three or less students\n",
    "* Creating a program with any web framework that utilize:\n",
    "\n",
    "    - Authentication/Authorization\n",
    "    - CRUD\n",
    "    - AJAX\n",
    "\n",
    "* What you should do:\n",
    "    \n",
    "    - Edit the spreadsheet here: https://docs.google.com/spreadsheets/d/1XPKYdax5cWEQ1I4BBfFOFdPx9d9D8biEDAKKvpwvv7E/edit?usp=sharing\n",
    "    - Create proposal, and send it to frendi@stiki.ac.id. The proposal should contains:\n",
    "        - Brief description of your project (What it is about, why it is important, who will be the users of your program, etc)\n",
    "        - Previous research related to your project\n",
    "        - What each of you will do in the project\n",
    "    - Fill the schedule (the link will be published here)\n",
    "    - Attend the test\n",
    "        - Present your program\n",
    "        - Answer questions (different questions for different member of the team)\n",
    "        - Modify your program if necessary\n",
    "    - Creating report, and send it to frendi@stiki.ac.id. Here is the template https://github.com/goFrendiAsgard/kuliah/blob/master/template%20laporan%202015.doc?raw=true"
   ]
  },
  {
   "cell_type": "code",
   "execution_count": null,
   "metadata": {
    "collapsed": true
   },
   "outputs": [],
   "source": []
  }
 ],
 "metadata": {
  "kernelspec": {
   "display_name": "PHP",
   "language": "php",
   "name": "jupyter-php"
  }
 },
 "nbformat": 4,
 "nbformat_minor": 0
}
