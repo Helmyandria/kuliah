{
 "metadata": {
  "name": "",
  "signature": "sha256:4092e2cf329ff82257dd2ec6bad91521f05479ec0e9b22052e34fe562ebb13f6"
 },
 "nbformat": 3,
 "nbformat_minor": 0,
 "worksheets": [
  {
   "cells": [
    {
     "cell_type": "markdown",
     "metadata": {},
     "source": [
      "# Do you still remember?\n",
      "\n",
      "## Array\n",
      "\n",
      "```php\n",
      "<?php\n",
      "$fruits = array(\"banana\", \"orange\", \"grape\"); // define an array with 3 elements\n",
      "\n",
      "$fruits[] = \"strawberry\";                     // add new element to fruits array\n",
      "\n",
      "echo $fruits[0];                              // show the first element\n",
      "echo '<br />';\n",
      "\n",
      "// use for\n",
      "for($i=0; $i<count($fruits); $i++){\n",
      "    $fruit = $fruits[$i];\n",
      "    echo $fruit;\n",
      "    echo '<br />';\n",
      "}\n",
      "\n",
      "// or foreach\n",
      "for($fruits as $fruit){\n",
      "    echo $fruit;\n",
      "    echo '<br />';\n",
      "}\n",
      "```\n",
      "\n",
      "## Associative array\n",
      "\n",
      "```php\n",
      "<?php\n",
      "$cat = array();\n",
      "```"
     ]
    },
    {
     "cell_type": "code",
     "collapsed": false,
     "input": [],
     "language": "python",
     "metadata": {},
     "outputs": []
    }
   ],
   "metadata": {}
  }
 ]
}