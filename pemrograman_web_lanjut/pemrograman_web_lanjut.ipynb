{
 "cells": [
  {
   "cell_type": "markdown",
   "metadata": {},
   "source": [
    "# Do you still remember?\n",
    "\n",
    "## Array\n",
    "\n",
    "```php\n",
    "<?php\n",
    "$fruits = array(\"banana\", \"orange\", \"grape\"); // define an array with 3 elements\n",
    "\n",
    "$fruits[] = \"strawberry\";                     // add new element to fruits array\n",
    "\n",
    "echo $fruits[0];                              // show the first element\n",
    "echo '<br />';\n",
    "\n",
    "// use for\n",
    "for($i=0; $i<count($fruits); $i++){\n",
    "    $fruit = $fruits[$i];\n",
    "    echo $fruit;\n",
    "    echo '<br />';\n",
    "}\n",
    "\n",
    "// or foreach\n",
    "for($fruits as $fruit){\n",
    "    echo $fruit;\n",
    "    echo '<br />';\n",
    "}\n",
    "```\n",
    "\n",
    "## Associative array\n",
    "\n",
    "```php\n",
    "<?php\n",
    "$cat = array();\n",
    "```"
   ]
  },
  {
   "cell_type": "code",
   "execution_count": null,
   "metadata": {
    "collapsed": false
   },
   "outputs": [],
   "source": []
  }
 ],
 "metadata": {
  "kernelspec": {
   "display_name": "Python 2",
   "language": "python",
   "name": "python2"
  },
  "language_info": {
   "codemirror_mode": {
    "name": "ipython",
    "version": 2
   },
   "file_extension": ".py",
   "mimetype": "text/x-python",
   "name": "python",
   "nbconvert_exporter": "python",
   "pygments_lexer": "ipython2",
   "version": "2.7.10"
  }
 },
 "nbformat": 4,
 "nbformat_minor": 0
}
