{
 "cells": [
  {
   "cell_type": "code",
   "execution_count": 6,
   "metadata": {
    "collapsed": false
   },
   "outputs": [
    {
     "name": "stdout",
     "output_type": "stream",
     "text": [
      "354224848179261915075\n"
     ]
    }
   ],
   "source": [
    "memo = {}\n",
    "def fibonacci(n):\n",
    "    if n in memo:\n",
    "        return memo[n]\n",
    "    if n == 1 or n == 2:\n",
    "        hasil = 1\n",
    "    else:\n",
    "        hasil = fibonacci(n-1) + fibonacci(n-2)\n",
    "    memo[n] = hasil\n",
    "    return hasil\n",
    "\n",
    "print fibonacci(100)"
   ]
  },
  {
   "cell_type": "code",
   "execution_count": 10,
   "metadata": {
    "collapsed": false
   },
   "outputs": [
    {
     "name": "stdout",
     "output_type": "stream",
     "text": [
      "Bleach \t:  b, d, f\n",
      "Ben \t:  b, d\n",
      "Dono \t:  b, d, h\n",
      "Benny \t:  b, d, f\n",
      "I-miss-u \t:  b, d, i\n",
      "Caramel \t:  b, d\n",
      "013416 \t:  b, d, g\n",
      "a \t:  a, c, b, e, d, j\n",
      "aaaa \t:  c, b, d\n",
      "abaa \t:  b, d\n"
     ]
    }
   ],
   "source": [
    "import re\n",
    "kata_kata = ('Bleach', 'Ben', 'Dono', 'Benny', 'I-miss-u', 'Caramel', '013416', 'a', 'aaaa', 'abaa')\n",
    "pola = {\n",
    "    'a' : r'^a$',\n",
    "    'b' : r'^.*$',\n",
    "    'c' : r'^a+$',\n",
    "    'd' : r'^.+$',\n",
    "    'e' : r'^.?$',\n",
    "    'f' : r'^B....*$',\n",
    "    'g' : r'^[0-9]+$',\n",
    "    'h' : r'.o.o$',\n",
    "    'i' : r'^.*-.*$',\n",
    "    'j' : r'^a?$'\n",
    "}\n",
    "\n",
    "for kata in kata_kata:\n",
    "    jawaban = []\n",
    "    for opsi in pola:\n",
    "        if re.match(pola[opsi], kata, re.M|re.I):\n",
    "            jawaban.append(opsi)\n",
    "    print kata, '\\t: ', ', '.join(jawaban)"
   ]
  }
 ],
 "metadata": {
  "kernelspec": {
   "display_name": "Python 2",
   "language": "python",
   "name": "python2"
  },
  "language_info": {
   "codemirror_mode": {
    "name": "ipython",
    "version": 2
   },
   "file_extension": ".py",
   "mimetype": "text/x-python",
   "name": "python",
   "nbconvert_exporter": "python",
   "pygments_lexer": "ipython2",
   "version": "2.7.11+"
  }
 },
 "nbformat": 4,
 "nbformat_minor": 0
}
