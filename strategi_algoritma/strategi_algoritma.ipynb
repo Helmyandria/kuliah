{
 "cells": [
  {
   "cell_type": "markdown",
   "metadata": {},
   "source": [
    "# What We Will Learn\n",
    "\n",
    "* Brute-Force \n",
    "* Greedy \n",
    "* Divide and Conquer \n",
    "* Decrease and Conquer \n",
    "* Bactracking \n",
    "* Branch and Bound \n",
    "* Dynamic programming\n",
    "\n",
    "# Why Do We Need It?\n",
    "\n",
    "* Find the best way to solve problem\n",
    "* Deep understanding of algorithm's efficiency and how it works\n",
    "\n",
    "# Problem:\n",
    "\n",
    "* Shortest Path\n",
    "* Puzzle\n",
    "* Knapsack\n",
    "* Searching\n",
    "* Etc\n",
    "\n",
    "# Brute Force:\n",
    "\n",
    "## Principle:\n",
    "\n",
    "* Generate all solution\n",
    "* Find the best one\n",
    "* Naive algorithm\n",
    "\n",
    "## Advantage:\n",
    "\n",
    "* High applicability\n",
    "* Easy to understand and implement\n",
    "* Best solution (if exists) warranted to be found\n",
    "\n",
    "## Disadvantage:\n",
    "\n",
    "* Slow\n",
    "\n",
    "# Greedy:\n",
    "\n",
    "## Principle:\n",
    "\n",
    "* Generate “first-level” solution, and chose the best-so-far one\n",
    "* Generate second, third, and fourth level solution, chose the best one, just like in the first step\n",
    "\n",
    "## Advantage:\n",
    "\n",
    "* Fast\n",
    "\n",
    "## Disadvantage:\n",
    "\n",
    "* Lower applicability (compared to brute-force)\n",
    "* Best solution will only found if local optimum = global optimum\n",
    "\n",
    "\n",
    "## Example (Coin Exchange):\n",
    "\n",
    "How many coins at least do you need to represent Rp 2000,-\n",
    "If the coin unit availables are:\n",
    "* Rp 1000,-\n",
    "* Rp  500,-\n",
    "* Rp  100,-\n",
    "\n",
    "Greedy and brute force will find that we need at least 2 coins of Rp 1000,-.\n",
    "\n",
    "How many coins at least do you need to represent Rp 18,-\n",
    "If the coin unit availables are:\n",
    "* Rp  1,-\n",
    "* Rp  9,-\n",
    "* Rp 10,-\n",
    "\n",
    "Greedy will find that we need 9 coins. A coin of Rp 10,-, and 8 coin of Rp 1,-\n",
    "Brute force will find that we need 2 coins of Rp 9,-\n",
    "\n",
    "## Example (Shortest Path):"
   ]
  },
  {
   "cell_type": "code",
   "execution_count": 3,
   "metadata": {
    "collapsed": false
   },
   "outputs": [
    {
     "name": "stdout",
     "output_type": "stream",
     "text": [
      "Brute Force : (['A', 'B', 'E'], 5.39834563766817)\n",
      "Greedy      : (['A', 'D', 'B', 'E'], 9.39834563766817)\n"
     ]
    }
   ],
   "source": [
    "# Author  : Go Frendi Gunawan\n",
    "# Purpose : Comparing Greedy & BruteForce Algorithm\n",
    "\n",
    "'''\n",
    "Graph Structures\n",
    "'''\n",
    "START, END  = 'A', 'E'\n",
    "COORDINATE  = {\n",
    "        'A' : [0,1],\n",
    "        'B' : [2,0],\n",
    "        'C' : [0,5],\n",
    "        'D' : [4,1],\n",
    "        'E' : [5,1]\n",
    "    }\n",
    "EDGE        = {\n",
    "        'A' : ['B','C','D'],\n",
    "        'B' : ['D','E','A'],\n",
    "        'C' : ['B','A'],\n",
    "        'D' : ['B','A'],\n",
    "        'E' : ['B']\n",
    "    }\n",
    "\n",
    "'''\n",
    "Function to calculate euclidean distance. \n",
    "If actual parameter set to be True (which is default), \n",
    "then it will return None if the path is not exits\n",
    "'''\n",
    "def distance(node_1, node_2, actual=True):\n",
    "    if actual and node_1 in EDGE and node_2 not in EDGE[node_1]:\n",
    "        return None\n",
    "    x1, y1 = COORDINATE[node_1]\n",
    "    x2, y2 = COORDINATE[node_2]\n",
    "    return ( ((x1-x2)**2) + ((y1-y2)**2) ) ** 0.5\n",
    "\n",
    "'''\n",
    "Function to calculate path route length\n",
    "'''\n",
    "def path_distance(nodes):\n",
    "    total = 0\n",
    "    for i in range(len(nodes)-1):\n",
    "        dist = distance(nodes[i],nodes[i+1])\n",
    "        if dist == None:\n",
    "            return None\n",
    "        total += dist\n",
    "    return total\n",
    "\n",
    "'''\n",
    "Function to get all path from start with no loop\n",
    "(i.e: A-B-A-B-A-B-E has loop)\n",
    "'''\n",
    "def nonloop_path(previous_path = [START]):\n",
    "    current_node  = previous_path[-1]\n",
    "    new_path_list = []\n",
    "    for next_node in EDGE[current_node]:\n",
    "        new_path = previous_path[:]        \n",
    "        if next_node not in new_path:\n",
    "            new_path.append(next_node)\n",
    "            new_path_list.append(new_path)\n",
    "            next_new_path_list = nonloop_path(new_path)\n",
    "            for next_new_path in next_new_path_list:\n",
    "                new_path_list.append(next_new_path)            \n",
    "    return new_path_list\n",
    "\n",
    "'''\n",
    "Function go get all path from start to end with no loop\n",
    "'''\n",
    "def valid_nonloop_path(previous_path = [START], end = END):\n",
    "    return [x for x in nonloop_path(previous_path) if x[-1] == END]\n",
    "\n",
    "'''\n",
    "Brute Force\n",
    "'''\n",
    "def brute_force(start=START, end=END):\n",
    "    path_list = valid_nonloop_path([start], end)\n",
    "    if len(path_list)>0:\n",
    "        # sort path list based on actual path distances\n",
    "        path_list = sorted(path_list, key = lambda x: path_distance(x))\n",
    "        # the first one is the best\n",
    "        min_path  = path_list[0]\n",
    "        min_distance = path_distance(min_path)\n",
    "        return min_path, min_distance\n",
    "    return None\n",
    "\n",
    "'''\n",
    "Function to calculate approximation.\n",
    "g is the already passed path distance, h is heuristic distance\n",
    "'''\n",
    "def greed_value(path, end = END):\n",
    "    g = path_distance(path)\n",
    "    h = distance(path[-1], end, False)\n",
    "    if g == None or h == None:\n",
    "        return None\n",
    "    return g + h\n",
    "\n",
    "def greedy(start=START, end=END):\n",
    "    path_list = valid_nonloop_path([start], end)\n",
    "    margin = 2\n",
    "    while len(path_list)>1:\n",
    "        path_list = sorted(path_list, key = lambda x: greed_value(x[:margin]))\n",
    "        min_val = greed_value(path_list[0][:margin])\n",
    "        for path in path_list:\n",
    "            if greed_value(path[:margin]) > min_val:\n",
    "                path_list.remove(path)\n",
    "        margin += 1\n",
    "    if len(path_list)>0:\n",
    "        min_path = path_list[0]\n",
    "        return min_path, path_distance(min_path)\n",
    "    return None        \n",
    "\n",
    "print('Brute Force : ' + str(brute_force()) )\n",
    "print('Greedy      : ' + str(greedy()) )\n"
   ]
  },
  {
   "cell_type": "markdown",
   "metadata": {},
   "source": [
    "# Assignment\n",
    "\n",
    "Suppose there is a puzzle:\n",
    "\n",
    "```\n",
    "1 3 6\n",
    "4 2 \n",
    "7 5 8\n",
    "```\n",
    "You can swap the empty part with it's neighbor\n",
    "\n",
    "How do you turn the puzzle into:\n",
    "```\n",
    "1 2 3\n",
    "4 5 6\n",
    "7 8 \n",
    "```\n",
    "\n",
    "Solve it by using `bruteforce` or `greedy`"
   ]
  },
  {
   "cell_type": "markdown",
   "metadata": {},
   "source": [
    "# Divide and Conquer:\n",
    "\n",
    "## Principle:\n",
    "* Divide problems into several sub-problems\n",
    "* Solve the sub problems\n",
    "* Combine the solutions of sub problems\n",
    "\n",
    "## Advantage:\n",
    "\n",
    "* Parallel computing advantage\n",
    "* Solve the enormously large problem which is impossible to be solved by using current resources.\n",
    "\n",
    "## Disadvantage:\n",
    "\n",
    "* Not  applicable if problem is atomic\n",
    "\n",
    "`Quick sort` is an implementation of `divide and conquer`"
   ]
  },
  {
   "cell_type": "code",
   "execution_count": 3,
   "metadata": {
    "collapsed": false
   },
   "outputs": [
    {
     "name": "stdout",
     "output_type": "stream",
     "text": [
      "[0, 1, 2, 3, 4, 5, 6, 7, 8, 9]\n",
      "[0, 1, 2, 3, 4, 5, 6, 7, 8, 9]\n"
     ]
    }
   ],
   "source": [
    "# Author  : Go Frendi Gunawan\n",
    "# Purpose : Comparing Bubble sort and quick sort\n",
    "\n",
    "DATA = [3,2,1,4,5,0,9,6,8,7]\n",
    "\n",
    "def bubble_sort(data):\n",
    "    data = list(data)\n",
    "    for batas in range(len(data)-1,-1,-1):\n",
    "        for i in range(batas):\n",
    "            if data[i] > data[i+1]:\n",
    "                data[i], data[i+1] = data[i+1], data[i]\n",
    "    return data\n",
    "\n",
    "def quick_sort(data):\n",
    "    data   = list(data)\n",
    "    if(len(data)>1):\n",
    "        pivot  = data[0]\n",
    "        before = [x for x in data if x<pivot]\n",
    "        after  = [x for x in data if x>pivot]\n",
    "        before = quick_sort(before)\n",
    "        after  = quick_sort(after)\n",
    "        before.append(pivot)\n",
    "        data = before + after\n",
    "    return data\n",
    "\n",
    "print bubble_sort(DATA)\n",
    "print quick_sort(DATA)"
   ]
  },
  {
   "cell_type": "markdown",
   "metadata": {},
   "source": [
    "# Decrease and Conquer:\n",
    "\n",
    "## Principle:\n",
    "* Decrease the problem\n",
    "* Solve The problem\n",
    "\n",
    "## Advantage:\n",
    "\n",
    "* Solve the enormously large problem which is impossible to be solved by using current resources.\n",
    "\n",
    "## Disadvantage:\n",
    "\n",
    "* Not  applicable if problem is atomic\n",
    "\n",
    "`Selection Sort` and `Binary Search` is an implementation of `decrease and conquer`\n",
    "\n",
    "## Example of Selection Sort"
   ]
  },
  {
   "cell_type": "code",
   "execution_count": 1,
   "metadata": {
    "collapsed": false
   },
   "outputs": [
    {
     "name": "stdout",
     "output_type": "stream",
     "text": [
      "[0, 1, 2, 3, 4, 5, 6, 7, 8, 9]\n"
     ]
    }
   ],
   "source": [
    "# Author  : Go Frendi Gunawan\n",
    "# Purpose : Show Selection Sort\n",
    "\n",
    "DATA = [3,2,1,4,5,0,9,6,8,7]\n",
    "loop = len(DATA)\n",
    "new_data = []\n",
    "for i in range(loop):\n",
    "    if len(DATA)>0:\n",
    "        min = DATA[0]\n",
    "        for data in DATA:\n",
    "            if data<min:\n",
    "                min = data\n",
    "        DATA.remove(min)\n",
    "        new_data.append(min)\n",
    "print new_data\n",
    "        "
   ]
  },
  {
   "cell_type": "markdown",
   "metadata": {},
   "source": [
    "# Assignment:\n",
    "\n",
    "Create a program for `binary search`"
   ]
  },
  {
   "cell_type": "markdown",
   "metadata": {},
   "source": [
    "# Backtracking\n",
    "\n",
    "## Principle\n",
    "\n",
    "* Whenever in doubt, choose one\n",
    "* Whenever take wrong choice, go back, and choose another\n",
    "\n",
    "## Notation\n",
    "\n",
    "* root(P): return the partial candidate at the root of the search tree.\n",
    "* reject(P,c): return true only if the partial candidate c is not worth completing.\n",
    "* accept(P,c): return true if c is a solution of P, and false otherwise.\n",
    "* first(P,c): generate the first extension of candidate c.\n",
    "* next(P,s): generate the next alternative extension of a candidate, after the extension s.\n",
    "* output(P,c): use the solution c of P, as appropriate to the application.\n",
    "\n",
    "The backtracking algorithm reduces then to the call bt(root(P)), where bt is the following recursive procedure:\n",
    "```\n",
    "def bt(c)\n",
    "  if reject(P,c): \n",
    "      return\n",
    "  elif accept(P,c):\n",
    "      output(P,c)\n",
    "  else:\n",
    "      s = first(P,c)\n",
    "      while s != TARGET do\n",
    "        bt(s)\n",
    "        s = next(P,s)\n",
    "```\n",
    "\n",
    "## Advantage\n",
    "\n",
    "* Better than bruteforce\n",
    "* Unknown path\n",
    "\n",
    "## Disadvantage\n",
    "\n",
    "* Like `DFS`\n",
    "\n",
    "__Note:__ DFS : Depth First Search, BFS = Breadth First Search\n",
    "\n",
    "# DFS\n",
    "\n",
    "![](files/resources/300px-Depth-first-tree.svg.png)\n",
    "\n",
    "# BFS\n",
    "\n",
    "![](files/resources/300px-Breadth-first-tree.svg.png)\n"
   ]
  },
  {
   "cell_type": "markdown",
   "metadata": {},
   "source": [
    "# Branch and Bound\n",
    "\n",
    "# Principle\n",
    "\n",
    "* Using a heuristic, find a solution xh to the optimization problem. Store its value, B = f(xh). (If no heuristic is available, set B to infinity.) B will denote the best solution found so far, and will be used as an upper bound on candidate solutions.\n",
    "* Initialize a queue to hold a partial solution with none of the variables of the problem assigned.\n",
    "* Loop until the queue is empty:\n",
    "    * Take a node N off the queue.\n",
    "    * If N represents a single candidate solution x and f(x) < B, then x is the best solution so far. Record it and set B ← f(x).\n",
    "    * Else, branch on N to produce new nodes Ni. For each of these:\n",
    "        * If g(Ni) > B, do nothing; since the lower bound on this node is greater than the upper bound of the problem, it will never lead to the optimal solution, and can be discarded.\n",
    "        * Else, store Ni on the queue.\n",
    "        \n",
    "# Example: Job Assignment\n",
    "\n",
    "| Person\\Job | Peeling Potato | Chop Fish | Cook Rice | Prepare Wasabi and soy-sauce |\n",
    "|------------|----------------|-----------|-----------|------------------------------|\n",
    "| Athrun     | 9              | 2         | 7         | 8                            |\n",
    "| Bliss      | 6              | 4         | 3         | 7                            |\n",
    "| Charlie    | 5              | 8         | 1         | 8                            |\n",
    "| Dearka     | 7              | 6         | 9         | 4                            |\n",
    "\n",
    "\n",
    "There is a cooking competition. Your team consists of Athrun, Bliss, Charlie, and Dearka.\n",
    "You need to prepare sashimi in less then 14 hour. Each member of your team can only do one job, and the job should do sequentially.\n",
    "\n",
    "Branch and Bound: \n",
    "\n",
    "* Athrun Chop Fish\n",
    "* Bliss Peel Potato\n",
    "* Charlie Cook Rice\n",
    "* Dearka Prepare Wasabi\n",
    "\n",
    "\n",
    "# Example: Sudoku\n",
    "\n",
    "![](files/resources/220px-Sudoku_solved_by_bactracking.gif)"
   ]
  },
  {
   "cell_type": "markdown",
   "metadata": {},
   "source": [
    "# Dynamic Programming\n",
    "\n",
    "## Principle\n",
    "\n",
    "* Don't repeat yourself\n",
    "* Memoization / Tail Recursion\n",
    "\n",
    "## Example\n",
    "\n",
    "* Fibonacci\n",
    "* Knapsack\n",
    "* Dijkstra"
   ]
  },
  {
   "cell_type": "code",
   "execution_count": 10,
   "metadata": {
    "collapsed": false
   },
   "outputs": [
    {
     "name": "stdout",
     "output_type": "stream",
     "text": [
      "1\n",
      "2\n",
      "3\n",
      "5\n",
      "987\n"
     ]
    }
   ],
   "source": [
    "def fibo(n):\n",
    "    if n == 1:\n",
    "        return 1\n",
    "    elif n == 2:\n",
    "        return 2\n",
    "    else:\n",
    "        return fibo(n-1) + fibo(n-2)\n",
    "\n",
    "print fibo(1) # 1\n",
    "print fibo(2) # 2\n",
    "print fibo(3) # fibo(2) + fibo(1)\n",
    "print fibo(4) # fibo(3) + fibo(2)\n",
    "\n",
    "print fibo(15) # fibo(14) + fibo(13)\n",
    "               # fibo(13) + fibo(12) + fibo(12) + fibo(11)\n",
    "               # fibo(12) + fibo(11) + fibo(12) + fibo(12) + fibo(11)\n"
   ]
  },
  {
   "cell_type": "code",
   "execution_count": 1,
   "metadata": {
    "collapsed": false
   },
   "outputs": [
    {
     "name": "stdout",
     "output_type": "stream",
     "text": [
      "20365011074\n",
      "987\n",
      "{1: 1, 2: 2, 3: 3, 4: 5, 5: 8, 6: 13, 7: 21, 8: 34, 9: 55, 10: 89, 11: 144, 12: 233, 13: 377, 14: 610, 15: 987, 16: 1597, 17: 2584, 18: 4181, 19: 6765, 20: 10946, 21: 17711, 22: 28657, 23: 46368, 24: 75025, 25: 121393, 26: 196418, 27: 317811, 28: 514229, 29: 832040, 30: 1346269, 31: 2178309, 32: 3524578, 33: 5702887, 34: 9227465, 35: 14930352, 36: 24157817, 37: 39088169, 38: 63245986, 39: 102334155, 40: 165580141, 41: 267914296, 42: 433494437, 43: 701408733, 44: 1134903170, 45: 1836311903, 46: 2971215073L, 47: 4807526976L, 48: 7778742049L, 49: 12586269025L, 50: 20365011074L}\n"
     ]
    }
   ],
   "source": [
    "memo = {1:1, 2:2}\n",
    "def fibo(n):\n",
    "    if n in memo:\n",
    "        return memo[n]\n",
    "    else:\n",
    "        result = fibo(n-1) + fibo(n-2)\n",
    "        memo[n] = result\n",
    "        return memo[n]\n",
    "    \n",
    "print fibo(50)\n",
    "print fibo(15)\n",
    "print memo"
   ]
  },
  {
   "cell_type": "markdown",
   "metadata": {},
   "source": [
    "##A bit of \"functional programming\""
   ]
  },
  {
   "cell_type": "code",
   "execution_count": 14,
   "metadata": {
    "collapsed": false
   },
   "outputs": [
    {
     "name": "stdout",
     "output_type": "stream",
     "text": [
      "10\n",
      "[1, 4, 9, 16]\n",
      "[2, 4]\n"
     ]
    }
   ],
   "source": [
    "print reduce(lambda x, y : x+y, [1,2,3,4])\n",
    "print map(lambda x : x**2, [1,2,3,4])\n",
    "print filter(lambda x : x%2 == 0, [1,2,3,4])"
   ]
  },
  {
   "cell_type": "code",
   "execution_count": 1,
   "metadata": {
    "collapsed": false
   },
   "outputs": [
    {
     "name": "stdout",
     "output_type": "stream",
     "text": [
      "43466557686937456435688527675040625802564660517371780402481729089536555417949051890403879840079255169295922593080322634775209689623239873322471161642996440906533187938298969649928516003704476137795166849228875\n"
     ]
    }
   ],
   "source": [
    "fib = lambda n:reduce(lambda x,n:[x[1],x[0]+x[1]], range(n),[0,1])[0]\n",
    "print fib(1000)"
   ]
  },
  {
   "cell_type": "markdown",
   "metadata": {},
   "source": [
    "# String Matching & Regular Expression\n",
    "\n",
    "This is regex\n",
    "\n",
    "| Metacharacter | Description                                                                                                                                                                                                                                                                                                                                                                                                                                                                                                                                                                                                                      |\n",
    "|---------------|----------------------------------------------------------------------------------------------------------------------------------------------------------------------------------------------------------------------------------------------------------------------------------------------------------------------------------------------------------------------------------------------------------------------------------------------------------------------------------------------------------------------------------------------------------------------------------------------------------------------------------|\n",
    "| .             | Matches any single character (many applications exclude newlines, and exactly which characters are considered newlines is flavor-, character-encoding-, and platform-specific, but it is safe to assume that the line feed character is included). Within POSIX bracket expressions, the dot character matches a literal dot. For example, a.c matches \"abc\", etc., but [a.c] matches only \"a\", \".\", or \"c\".                                                                                                                                                                                                                     |\n",
    "| [ ]           | A bracket expression. Matches a single character that is contained within the brackets. For example, [abc] matches \"a\", \"b\", or \"c\". [a-z] specifies a range which matches any lowercase letter from \"a\" to \"z\". These forms can be mixed: [abcx-z] matches \"a\", \"b\", \"c\", \"x\", \"y\", or \"z\", as does [a-cx-z].The - character is treated as a literal character if it is the last or the first (after the ^, if present) character within the brackets: [abc-], [-abc]. Note that backslash escapes are not allowed. The ] character can be included in a bracket expression if it is the first (after the ^) character: []abc]. |\n",
    "| [^ ]          | Matches a single character that is not contained within the brackets. For example, [^abc] matches any character other than \"a\", \"b\", or \"c\". [^a-z]matches any single character that is not a lowercase letter from \"a\" to \"z\". Likewise, literal characters and ranges can be mixed.                                                                                                                                                                                                                                                                                                                                            |\n",
    "| ^             | Matches the starting position within the string. In line-based tools, it matches the starting position of any line.                                                                                                                                                                                                                                                                                                                                                                                                                                                                                                              |\n",
    "| $             | Matches the ending position of the string or the position just before a string-ending newline. In line-based tools, it matches the ending position of any line.                                                                                                                                                                                                                                                                                                                                                                                                                                                                  |\n",
    "| ( )           | Defines a marked subexpression. The string matched within the parentheses can be recalled later (see the next entry, \\n). A marked subexpression is also called a block or capturing group. BRE mode requires \\( \\).                                                                                                                                                                                                                                                                                                                                                                                                             |\n",
    "| \\n            | Matches what the nth marked subexpression matched, where n is a digit from 1 to 9. This construct is vaguely defined in the POSIX.2 standard. Some tools allow referencing more than nine capturing groups.                                                                                                                                                                                                                                                                                                                                                                                                                      |\n",
    "| *             | Matches the preceding element zero or more times. For example, `ab*c` matches \"ac\", \"abc\", \"abbbc\", etc. `[xyz]*` matches \"\", \"x\", \"y\", \"z\", \"zx\", \"zyx\", \"xyzzy\", and so on. `(ab)*` matches \"\", \"ab\", \"abab\", \"ababab\", and so on.                                                                                                                                                                                                                                                                                                                                                                                                   |\n",
    "| {m, n}        | Matches the preceding element at least m and not more than n times. For example, a{3,5} matches only \"aaa\", \"aaaa\", and \"aaaaa\". This is not found in a few older instances of regular expressions. BRE mode requires \\{m,n\\}.                                                                                                                                                                                                                                                                                                                                                                                                   |\n",
    "| ?             | Matches the preceding element zero or one time. For example, ab?c matches only \"ac\" or \"abc\".                                                                                                                                                                                                                                                                                                                                                                                                                                                                                                                                    |\n",
    "| +             | Matches the preceding element one or more times. For example, ab+c matches \"abc\", \"abbc\", \"abbbc\", and so on, but not \"ac\".                                                                                                                                                                                                                                                                                                                                                                                                                                                                                                      |\n",
    "| &#124;        | The choice (also known as alternation or set union) operator matches either the expression before or the expression after the operator. For example,abc&#124;def matches \"abc\" or \"def\".                                                                                                                                                                                                                                                                                                                                                                                                                                        |\n",
    "\n",
    "(taken shamelessly from wikipedia: http://en.wikipedia.org/wiki/Regular_expression)"
   ]
  },
  {
   "cell_type": "code",
   "execution_count": 2,
   "metadata": {
    "collapsed": false
   },
   "outputs": [
    {
     "name": "stdout",
     "output_type": "stream",
     "text": [
      "matchObj.group() :  Cats are smarter than dogs\n",
      "matchObj.group(1) :  Cats\n",
      "matchObj.group(2) :  smarter\n"
     ]
    }
   ],
   "source": [
    "import re\n",
    "\n",
    "line = \"Cats are smarter than dogs\"\n",
    "\n",
    "matchObj = re.match( r'(.*) are (.*?) .*', line, re.M|re.I)\n",
    "\n",
    "if matchObj:\n",
    "   print \"matchObj.group() : \", matchObj.group()\n",
    "   print \"matchObj.group(1) : \", matchObj.group(1)\n",
    "   print \"matchObj.group(2) : \", matchObj.group(2)\n",
    "else:\n",
    "   print \"No match!!\"   "
   ]
  },
  {
   "cell_type": "code",
   "execution_count": 1,
   "metadata": {
    "collapsed": false
   },
   "outputs": [
    {
     "name": "stdout",
     "output_type": "stream",
     "text": [
      "081234567890\n"
     ]
    }
   ],
   "source": [
    "import re\n",
    "phone_number = '081 234-567-890'\n",
    "print re.sub(r'[^0-9]', '', phone_number)"
   ]
  },
  {
   "cell_type": "code",
   "execution_count": 5,
   "metadata": {
    "collapsed": false
   },
   "outputs": [
    {
     "name": "stdout",
     "output_type": "stream",
     "text": [
      "2\n"
     ]
    }
   ],
   "source": [
    "puzzle = [\n",
    "    ['C', 'D', 'A', 'A', 'A'],\n",
    "    ['A', 'B', 'C', 'K', 'U'],\n",
    "    ['B', 'A', 'K', 'U', 'C'],\n",
    "    ['U', 'K', 'D', 'B', 'C'],\n",
    "    ['B', 'A', 'C', 'A', 'A']\n",
    "]\n",
    "jumlah = 0\n",
    "for x in range(5):\n",
    "    for y in range(3):\n",
    "        if puzzle[x][y] == 'A' and puzzle[x][y+1] == 'K' and puzzle[x][y+2] == 'U':\n",
    "                jumlah += 1\n",
    "for x in range(3):\n",
    "    for y in range(5):\n",
    "        if puzzle[x][y] == 'A'and puzzle[x+1][y] == 'K' and puzzle[x+2][y] == 'U':\n",
    "                jumlah += 1\n",
    "            \n",
    "print jumlah"
   ]
  },
  {
   "cell_type": "markdown",
   "metadata": {},
   "source": [
    "# Final Test\n",
    "\n",
    "* Group, consist of 1-3 students\n",
    "* Project (Build program)\n",
    "* Present to the examiner\n",
    "* Answering questions (one by one)\n",
    "* Project is about:\n",
    "    - Game's `artificial intelligence` including but not limited to:\n",
    "        - Path finding (e.g: pacman, etc)\n",
    "        - Decision making (e.g: tic-tac-toe, chess, board games)\n",
    "        - Puzzle solver (e.g: sudoku, rubik, tangram)\n",
    "    - Problem solving:\n",
    "        - Optimization (e.g: good placement in werehouse)\n",
    "        - Money changer\n",
    "        - Traveling Salesman Problem\n",
    "        - Etc"
   ]
  },
  {
   "cell_type": "markdown",
   "metadata": {},
   "source": [
    "Class B\n",
    "\n",
    "* 131110662 Dani, 131110676 Richard, Tic tac toe (Greedy, Java)\n",
    "* 111110389 Yuniar , 111110474 Viona Ayunila, pencarian kata (backtracking, delphi/java) <-- OK, Lanjut implementasi\n",
    "* 121110554 Yosia Prabowo, 121110563 Harman , 121110536 Shinta Purnama Sari, Money Changer (Greedy, PHP) <-- OK, lanjut implementasi\n",
    "* 121110517 fitri dayanti, 121110526 ita kumala, 121110534 sendy kurniawati, Memory Game (Greedy) <-- Ok, input & output ok, perjelas algoritma\n",
    "* 131110699 Krisnata Panji, 131110703 Said, 141111053 aji andika Blackjack (greedy)\n",
    "* 131110619 burhanudin, 131110654 fajar rhamadhana 131110705 KRISNA PANJI,  Game bajak laut (A*, java) <-- OK, lanjut implementasi\n",
    "* 131110648 Nicko, 141112004 Rifat, 141112005 Bagus, Slider Game (Greedy, Java), <-- OK, lanjut implementasi\n",
    "* 111110466 Novrian P, 111110408 Ajib Trimanula, 101110241 Septian Riantama, SKAK MAT CATUR (Greedy), OK\n",
    "* 111110421 Lalu Ahmad Sufendi, 111110481 Andi Fiqih A, 111110485 Handyka putra Game Labirin (BFS-Backtracking);\n",
    "* 131110707 Kendy Lie, sudoku (backtracking, java) <-- Ok, lanjut implementasi\n",
    "* 131110631 Januarita , 131110647 Satria Agung, 121110508 Andyka Bima , dua-empat (greedy, python/java) <-- Ok, lanjut implementasi\n",
    "* 111110443 Gheghet Dwi, 111110379 Fatih Shidiq, 111110405 Wisnu Wardana, Minesweeper (greedy)\n",
    "* 111110411 Agung Prasetyo, 111110407 Pamilum, 111110385 rifki \n",
    "* 121110544 Kautsar Alif Wakid, 121110495 Gesafito, 121110514 Marshel Game Logika Pengambilan Koin (A*, java) <-- Ok, lanjut implementsi\n",
    "* 111110446 Nur Sofyan, spider greedy ( greedy, java ), <-- OK, implementasi dipertimbangkan lagi \n",
    "* 121110519 Ian Muhlisin, 121110597 Yosua Christian, 101110243 Fahrul Ekandy, Snake (greedy, java) <-- Ok, lanjut implementasi\n",
    "\n",
    "\n",
    "Class A\n",
    "\n",
    "* 131110646 Leo Armanda, 131110650 Slamet Nur Huda, 141112001 M. Yusuf Habibie, Dakon/Congklak(Greedy, Java) <-- Ok, lanjut implementasi\n",
    "* 121110493 Ahmad Azhar Kadim, 121110567 Dawang Mahendraa, 121110501 Johan Wahyudi, Money Changer (greedy, java) <-- Ok, lanjut implementasi \n",
    "* 121110611 Fajar Wahyu P, 121110570 Nova Dwi Prasetyo, 121110556 Rohmatan Romadoni, Battle Ship War (Back Tracking) <--Ok, later\n",
    "* 131110660 Romario, 131110667 Dion, 131110674 Juno, TTH (Greedy, Java) <-- Ok, lanjut implementasi\n",
    "* kevin Y 131110655, ali fahnur yavi 131110636, bulan dewi G 131110645, Find the way (Back track) <-- Ok, lanjut implementasi\n",
    "* Syntia W. P. L. 131110642, Benny Eka Atmojo 121110562, Maria Fransiska S.L. 131110651, Game Kancil mencari ketimun (Brute Force, Java) <-- Ok, lanjut implementasi\n",
    "* 131110623 endah laksmita putri, 131110666 ade sutiari, game cross words(bruteforce/greedy, Java) <-- Ok, lanjut implementasi\n",
    "* 091110134 HUzaem b, 121110496 Christopher YUdiono, (tic tac toe, greedy, java)\n",
    "* 121110549 Bonefaseus Taolin, 121110546 Aria Tabita F.M, 121110571 Sephira Elliandini, Knapsack, (Greedy, Java) <-- Ok, lanjut implementasi\n",
    "* 111110439 Dery A Valiant, 111110440 Gusti Dani, 111110477 Nur Avni Let's go Home (Back Tracking, PHP/Java) <-- Ok, Lanjut implementasi\n",
    "* 131110621 Sri Prapti Indar, 131110680 Yonathan A, 131110695 Rizka Asilia R Pengantar Surat Pos (Greedy, Java) <-- Ok, lanjut implementasi\n",
    "* 131110626 Adi Bayu P, 131110628 M. Fahmi Ayil I, 131110629 Firlian Widianto, Sudoku (BruteForce, Java) <-- Ok, lanjut implementasi\n",
    "* 131110616 David Herlianto, 131110617 Nicky Pratama S, 131110627 Pratama Sanjaya, (TSP, Greedy, Java)\n",
    "* 131110656 Abdul Kadir Zaelani 131110657 Atma 131110658 Ahmad Aniel Guess word game(Brute force) <-- Dipikirkan lagi\n",
    "* 1011110308 jefri teguh wijaya, 101110262 farul sukrin kanday, simple pacman (A*, Flash) <-- Ok, lanjut implementasi\n",
    "* 131110675 robi nugroho 131110686 rizky rachmadianto, (Das-dasan, greedy, java) <-- Ok, lanjut implementasi\n",
    "* 131110688 christian ari, 131110685 syaifudin yuda, 131110692 teguh agung prasetio, (TSP, greedy)\n",
    "* 121110596 Muhamad Bayu Kurnia, 121110579 Gilang Akbar Ramadhan (Elemental RPG / Greedy, java)\n",
    "\n",
    "Class C\n",
    "\n",
    "* 121110538 Lalu Haryadi Guni, (sudoku 2x2, greedy, ruby) <-- Ok, lanjut implementasi\n",
    "* 121110532 Erwin Eka Ardiansyah, (Pencarian struktur data graph untuk mencari jalur terpendek, greedy, java) <-- Ok, lanjut implementasi\n",
    "* 121110498 Ryan Santoso, 13190077 Enggar Frisa (Jalur terpendek, Dijkstra, java) <-- Ok, lanjut implementasi\n",
    "* 121110541 eko ardia pranata, 121110494 muhamad yugo, (pencarian jalur terpendek, greedy, java, input berupa titik koordinat) <-- Ok, lanjut implementasi\n",
    "* 121110499 mahartin hendra, 121110505 aji fitriono, 121110531 Muhammad Ashpihani (Cash Back, Greedy, java) <-- Ok, lanjut implementasi\n",
    "* 131110671 Marthen Pattikawa, 131110689 Antonius Lorensius, 131110649 Hamdan Baharudin (Tebak angka, Decrease & Conquer, java) <-- Ok, lanjut implementasi\n",
    "* 131110722 ilham mashudi, 131110734 steven nugroho, (pencarian jarak terpendek, A*, posisi awal & makanan acak) <-- Ok, lanjut implementasi \n",
    "* 131110718 Mokhammad ali imron, 131110721 candra mukti wijaya, (puzzle 3x3, java) <-- Ok, lanjut implementasi\n",
    "* 121110602 Farik Ariyanto, 121110603 Vincent Putra G (Tic Tac Toe ,brute force, php) <-- Ok, lanjut implementasi <-- 80\n",
    "* 121110601 Nisrina Zein, 121110604 Isa Suarti, 121110605 Devi Tri W, (Pencarian jalur terpendek, java) <-- Ok, perjelas algoritma\n",
    "* 121110589 Bijahika Maulana, 121110569 Candra Eka, 131110731 Susi Susilowati (Othelo 6x6, Greedy, java) <-- Ok, lanjut implementasi\n",
    "* 131110708 leonardo s 121110512 nelson h (Jalur terpendek, A*, Java) <-- Ok, lanjut implementasi\n",
    "* 121110594 Fuad Hasan PP, 111110492 Yogi Kristanto, 121110590 Novanda B. (Sudoku, backtracking, java) <-- Ok, lanjut implementasi + input\n",
    "* 121110506 Ferry sanjaya , 121110511 Arief yuwono, 121110500 Albert ferento (Pacman, A*, java, console) <-- Ok, lanjut implementasi, \n",
    "* 121110595 Muhammad zaidi Efendi , 121110598 Dimas Aditya , 121110599 Andriansyah Dwi. (Tic Tac Toe, Java, minimax+dfs) <-- ok, lanjut implementasi\n",
    "* 121110551 Fida wiji lestari, 121110572 rachmania indah p.s, 131110693 m henry setiawan. (Pacman, java, GUI) <-- Ok, lanjut implementasi\n",
    "* 121110559 Tri Mahardi 121110545 Rizka S 121110547 Julio Menahemi (Sudoku, backtracking, java, console) <-- Ok, lanjut implementasi\n",
    "* 131110717 Andik Siswanto, 131110733 Barru, 131110719 jamaal wira prasaja  (Tic tac toe, javascript, greedy) <-- Ok, lanjut implementasi\n",
    "* 131110702 Radik Cahyo, 131110716 Didin Oki, (Mummy maze, backtracking)\n"
   ]
  },
  {
   "cell_type": "code",
   "execution_count": 1,
   "metadata": {
    "collapsed": false
   },
   "outputs": [
    {
     "name": "stdout",
     "output_type": "stream",
     "text": [
      "Sutan\n"
     ]
    }
   ],
   "source": [
    "kata_kata = ['Indah', 'Rahma', 'Sutan', 'Adi', 'Ino Yamanaka']        \n",
    "        \n",
    "cari = 'Sutan'\n",
    "\n",
    "for jawaban in kata_kata:\n",
    "    if jawaban == cari:\n",
    "        print jawaban"
   ]
  },
  {
   "cell_type": "markdown",
   "metadata": {},
   "source": [
    "## Kuliah Pengganti\n",
    "\n",
    "* PD I (Monday, 09.00-11.00)\n",
    "* Strategi Algoritma Class B (Monday, 16.00-17.00)\n",
    "* Strategi Algoritma Class C (Tuesday, 16.00-17.00)\n",
    "* Strategi Algoritma Class A (Wednesday, 16.00-17.00)"
   ]
  },
  {
   "cell_type": "markdown",
   "metadata": {
    "collapsed": false
   },
   "source": [
    "## Semester Pendek (2016)\n",
    "\n",
    "* 121110560 Arga Stefian Dani, 131110733 Barru Yahya, 121110496 Christopher Yudiono, Sudoku, Backtracking\n",
    "* 121110421 Lalu Ahmad Sufendi, Sliding puzzle, Breadth First Search\n",
    "* 131110656 abdul kadir zailani,131110658 ahmad aniel ahsan,131110716 didin oki setiawan,tic tac toe_greedy\n",
    "* 111110411 agung, 111110405 wisnu wardana, 111110407 pamilum, game minesweeper, bfs \n",
    "* 101110255 moch arif sudaryanto, 101110262 farul sukrin kanday, 101110308 jefri teguh wijaya, Pencarian Minimum koin Dengan Metode Greedy"
   ]
  },
  {
   "cell_type": "markdown",
   "metadata": {
    "collapsed": true
   },
   "source": [
    "# Kelas Pengganti\n",
    "\n",
    "* Senin 13.00-15.00\n",
    "* Selasa 15.00-17.00"
   ]
  },
  {
   "cell_type": "code",
   "execution_count": null,
   "metadata": {
    "collapsed": true
   },
   "outputs": [],
   "source": []
  }
 ],
 "metadata": {
  "kernelspec": {
   "display_name": "Python 2",
   "language": "python",
   "name": "python2"
  },
  "language_info": {
   "codemirror_mode": {
    "name": "ipython",
    "version": 2
   },
   "file_extension": ".py",
   "mimetype": "text/x-python",
   "name": "python",
   "nbconvert_exporter": "python",
   "pygments_lexer": "ipython2",
   "version": "2.7.10"
  }
 },
 "nbformat": 4,
 "nbformat_minor": 0
}
