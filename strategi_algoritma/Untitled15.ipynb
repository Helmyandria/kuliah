{
 "cells": [
  {
   "cell_type": "code",
   "execution_count": 14,
   "metadata": {
    "collapsed": false
   },
   "outputs": [
    {
     "data": {
      "text/plain": [
       "17.0"
      ]
     },
     "execution_count": 14,
     "metadata": {},
     "output_type": "execute_result"
    }
   ],
   "source": [
    "import random\n",
    "round(32*random.random()+1)"
   ]
  },
  {
   "cell_type": "code",
   "execution_count": 10,
   "metadata": {
    "collapsed": false
   },
   "outputs": [
    {
     "name": "stdout",
     "output_type": "stream",
     "text": [
      "A ['B', 'C', 'D'] ['A']\n",
      "D ['B', 'C', 'G', 'H'] ['A', 'D']\n",
      "H ['B', 'C', 'G'] ['A', 'D', 'H']\n",
      "G ['B', 'C', 'K', 'L'] ['A', 'D', 'H', 'G']\n",
      "L ['B', 'C', 'K'] ['A', 'D', 'H', 'G', 'L']\n",
      "K ['B', 'C'] ['A', 'D', 'H', 'G', 'L', 'K']\n",
      "C ['B'] ['A', 'D', 'H', 'G', 'L', 'K', 'C']\n",
      "B ['E', 'F'] ['A', 'D', 'H', 'G', 'L', 'K', 'C', 'B']\n",
      "F ['E'] ['A', 'D', 'H', 'G', 'L', 'K', 'C', 'B', 'F']\n",
      "E ['I', 'J'] ['A', 'D', 'H', 'G', 'L', 'K', 'C', 'B', 'F', 'E']\n",
      "J ['I'] ['A', 'D', 'H', 'G', 'L', 'K', 'C', 'B', 'F', 'E', 'J']\n",
      "I [] ['A', 'D', 'H', 'G', 'L', 'K', 'C', 'B', 'F', 'E', 'J', 'I']\n",
      "Untuk ke  A  lewat  A\n",
      "Untuk ke  D  lewat  A\n",
      "Untuk ke  H  lewat  D\n",
      "Untuk ke  G  lewat  D\n",
      "Untuk ke  L  lewat  G\n",
      "Untuk ke  K  lewat  G\n",
      "Untuk ke  C  lewat  A\n",
      "Untuk ke  B  lewat  A\n",
      "Untuk ke  F  lewat  B\n",
      "Untuk ke  E  lewat  B\n",
      "Untuk ke  J  lewat  E\n",
      "Untuk ke  I  lewat  E\n"
     ]
    }
   ],
   "source": [
    "NODES = ('A','B','C','D','E','F','G','H', 'I', 'J', 'K', 'L')\n",
    "EDGES = {\n",
    "    'A' : ('B', 'C', 'D'),\n",
    "    'B' : ('E', 'F'),\n",
    "    'C' : (),\n",
    "    'D' : ('G', 'H'),\n",
    "    'E' : ('I', 'J'),\n",
    "    'F' : (),\n",
    "    'G' : ('K', 'L'),\n",
    "    'H' : (),\n",
    "    'I' : (),\n",
    "    'J' : (),\n",
    "    'K' : (),\n",
    "    'L' : ()\n",
    "}\n",
    "START = 'A'\n",
    "END = 'I'\n",
    "openned_list = []\n",
    "closed_list = []\n",
    "openned_from_list = []\n",
    "closed_from_list = []\n",
    "evaluated = ''\n",
    "# Masukkan start ke openned list\n",
    "openned_list.append(START)\n",
    "openned_from_list.append(START)\n",
    "# Selama isi openned list belum kosong, dan end belum \n",
    "# terevaluasi, maka lakukan hal-hal berikut ini:\n",
    "while len(openned_list) > 0 and evaluated != END:\n",
    "    # Pop dari openned list, masukkan ke evaluated\n",
    "    evaluated = openned_list.pop()\n",
    "    from_node = openned_from_list.pop()\n",
    "    # lihat dari evaluated bisa ke mana saja?\n",
    "    # Masukkan ke openned list\n",
    "    for node in EDGES[evaluated]:\n",
    "        openned_list.append(node)\n",
    "        openned_from_list.append(evaluated)\n",
    "    # Masukkan evaluated ke closed list\n",
    "    closed_list.append(evaluated)\n",
    "    closed_from_list.append(from_node)\n",
    "    print evaluated, openned_list, closed_list\n",
    "    \n",
    "# Tampilin...\n",
    "for i in range(len(closed_list)):\n",
    "    print \"Untuk ke \", closed_list[i], \" lewat \", closed_from_list[i]"
   ]
  },
  {
   "cell_type": "code",
   "execution_count": 18,
   "metadata": {
    "collapsed": false
   },
   "outputs": [
    {
     "name": "stdout",
     "output_type": "stream",
     "text": [
      "[1, 2, 3, 4, 5, 6]\n",
      "6\n",
      "[1, 2, 3, 4, 5]\n",
      "[1, 2, 3, 4, 5, 7]\n"
     ]
    }
   ],
   "source": [
    "a = [1,2,3,4,5,6]\n",
    "print a\n",
    "print a.pop()\n",
    "print a\n",
    "a.append(7)\n",
    "print a"
   ]
  }
 ],
 "metadata": {
  "kernelspec": {
   "display_name": "Python 2",
   "language": "python",
   "name": "python2"
  },
  "language_info": {
   "codemirror_mode": {
    "name": "ipython",
    "version": 2
   },
   "file_extension": ".py",
   "mimetype": "text/x-python",
   "name": "python",
   "nbconvert_exporter": "python",
   "pygments_lexer": "ipython2",
   "version": "2.7.10"
  }
 },
 "nbformat": 4,
 "nbformat_minor": 0
}
