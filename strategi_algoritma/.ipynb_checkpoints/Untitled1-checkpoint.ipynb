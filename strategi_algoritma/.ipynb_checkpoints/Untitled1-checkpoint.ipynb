{
 "cells": [
  {
   "cell_type": "code",
   "execution_count": 13,
   "metadata": {
    "collapsed": false
   },
   "outputs": [
    {
     "name": "stdout",
     "output_type": "stream",
     "text": [
      "['A', 'C', 'G', 'F', 'E', 'B']\n",
      "['A', 'C', 'F', 'E', 'B']\n",
      "['A', 'C', 'F', 'G']\n",
      "['A', 'B', 'E', 'F', 'C', 'G']\n",
      "['A', 'B', 'E', 'F', 'G', 'C']\n",
      "['A', 'E', 'B']\n",
      "['A', 'E', 'F', 'C', 'G']\n",
      "['A', 'E', 'F', 'G', 'C']\n"
     ]
    }
   ],
   "source": [
    "NODES = [\"A\",\"B\",\"C\",\"E\",\"F\",\"G\"]\n",
    "EDGES = {\n",
    "    \"A\" : {\"B\":5, \"C\":8, \"E\":7},\n",
    "    \"B\" : {\"A\":5, \"E\":2},\n",
    "    \"C\" : {\"A\":8, \"F\":8, \"G\":5},\n",
    "    \"E\" : {\"A\":7, \"B\":2, \"F\":3},\n",
    "    \"F\" : {\"E\":3, \"C\":8, \"G\":3},\n",
    "    \"G\" : {\"C\":5, \"F\":3}\n",
    "}\n",
    "START = \"A\"\n",
    "END = \"G\"\n",
    "\n",
    "def distance(path):\n",
    "    total = 0\n",
    "    for i in range(len(path)-1):\n",
    "        total += edges[path[i]][path[i+1]]\n",
    "    return total\n",
    "\n",
    "def bruteforce(previous_path_list, end):\n",
    "    new_path_list = []\n",
    "    for previous_path in previous_path_list:        \n",
    "        last_node = previous_path[-1]\n",
    "        find_the_way = False\n",
    "        for next_node in edges[last_node]:\n",
    "            if next_node not in previous_path:\n",
    "                find_the_way = True\n",
    "                new_path = list(previous_path)\n",
    "                new_path.append(next_node)\n",
    "                new_path_list.append(new_path)\n",
    "        if not find_the_way:\n",
    "            new_path_list.append(previous_path)\n",
    "    if new_path_list == previous_path_list:\n",
    "        return new_path_list\n",
    "    return bruteforce(new_path_list, end)\n",
    "\n",
    "for path in bruteforce([[START]], END):\n",
    "    print path"
   ]
  },
  {
   "cell_type": "code",
   "execution_count": null,
   "metadata": {
    "collapsed": true
   },
   "outputs": [],
   "source": []
  }
 ],
 "metadata": {
  "kernelspec": {
   "display_name": "Python 2",
   "language": "python",
   "name": "python2"
  },
  "language_info": {
   "codemirror_mode": {
    "name": "ipython",
    "version": 2
   },
   "file_extension": ".py",
   "mimetype": "text/x-python",
   "name": "python",
   "nbconvert_exporter": "python",
   "pygments_lexer": "ipython2",
   "version": "2.7.10"
  }
 },
 "nbformat": 4,
 "nbformat_minor": 0
}
