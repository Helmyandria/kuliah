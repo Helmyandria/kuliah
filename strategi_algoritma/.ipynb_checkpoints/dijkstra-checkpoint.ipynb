{
 "cells": [
  {
   "cell_type": "code",
   "execution_count": 4,
   "metadata": {
    "collapsed": false
   },
   "outputs": [
    {
     "name": "stdout",
     "output_type": "stream",
     "text": [
      "[2, 7, 3, 4, 1, 6, 11, 10, 8, 9, 5]\n"
     ]
    }
   ],
   "source": [
    "import random\n",
    "angka = range(1,12)\n",
    "for i in range(20):\n",
    "    rnd1 = int(random.random()*11)    \n",
    "    rnd2 = int(random.random()*11)\n",
    "    angka[rnd1], angka[rnd2] = angka[rnd2], angka[rnd1]\n",
    "\n",
    "print angka"
   ]
  },
  {
   "cell_type": "code",
   "execution_count": 14,
   "metadata": {
    "collapsed": false
   },
   "outputs": [
    {
     "name": "stdout",
     "output_type": "stream",
     "text": [
      "{'A': (0, 'A'), 'C': (10, 'C'), 'B': (13, 'B'), 'E': (2, 'E')}\n"
     ]
    }
   ],
   "source": [
    "NODES = ('A','B','C','D','E','F','G','H','I','J','K')\n",
    "EDGES = {\n",
    "    'A' : {'B':13, 'C':10, 'E':2},\n",
    "    'B' : {'A':13, 'C':3, 'D':18},\n",
    "    'C' : {'A':10, 'B':3, 'E':6},\n",
    "    'D' : {'B':18, 'G':10, 'H':13},\n",
    "    'E' : {'A':2, 'F':8},\n",
    "    'F' : {'E':8, 'G':2, 'J':8},\n",
    "    'G' : {'C':4, 'D':10, 'F':2, 'I':3},\n",
    "    'H' : {'D':13, 'I':10},\n",
    "    'I' : {'G':3, 'H':10, 'J':1},\n",
    "    'J' : {'F':8, 'I':1, 'K':3},\n",
    "    'K' : {'J':3},\n",
    "    'J' : {'K':3}\n",
    "}\n",
    "START = 'A'\n",
    "OPENNED = [x for x in NODES if x != START]\n",
    "EVALUATED = {START : (0,START)}\n",
    "CURRENT = START\n",
    "# add to evaluated\n",
    "for i in range(12):\n",
    "    for node in EDGES[CURRENT]:\n",
    "        if node in OPENNED:\n",
    "            distance = EDGES[CURRENT][node]\n",
    "            if (node not in EVALUATED) or (EVALUATED[node][0] > distance):\n",
    "                EVALUATED[node] = (EVALUATED[CURRENT][0]+distance, node)\n",
    "            \n",
    "    print EVALUATED"
   ]
  }
 ],
 "metadata": {
  "kernelspec": {
   "display_name": "Python 2",
   "language": "python",
   "name": "python2"
  },
  "language_info": {
   "codemirror_mode": {
    "name": "ipython",
    "version": 2
   },
   "file_extension": ".py",
   "mimetype": "text/x-python",
   "name": "python",
   "nbconvert_exporter": "python",
   "pygments_lexer": "ipython2",
   "version": "2.7.11+"
  }
 },
 "nbformat": 4,
 "nbformat_minor": 0
}
