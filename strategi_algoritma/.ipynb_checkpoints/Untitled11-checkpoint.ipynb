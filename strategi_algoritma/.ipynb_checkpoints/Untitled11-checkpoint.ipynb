{
 "cells": [
  {
   "cell_type": "code",
   "execution_count": 7,
   "metadata": {
    "collapsed": false
   },
   "outputs": [
    {
     "name": "stdout",
     "output_type": "stream",
     "text": [
      "Tidak ditemukan  0  dalam  10  langkah\n",
      "Ditemukan  1  dalam  1  langkah\n",
      "Ditemukan  2  dalam  2  langkah\n",
      "Ditemukan  3  dalam  3  langkah\n",
      "Tidak ditemukan  4  dalam  10  langkah\n",
      "Ditemukan  5  dalam  4  langkah\n",
      "Ditemukan  6  dalam  5  langkah\n",
      "Ditemukan  7  dalam  6  langkah\n",
      "Ditemukan  8  dalam  7  langkah\n",
      "Ditemukan  9  dalam  8  langkah\n",
      "Ditemukan  10  dalam  9  langkah\n",
      "Tidak ditemukan  11  dalam  10  langkah\n"
     ]
    }
   ],
   "source": [
    "a = [1,2,3,5,6,7,8,9,10]\n",
    "def search(angka, cari):\n",
    "    ketemu, langkah = False, 1\n",
    "    for i in range(len(angka)):\n",
    "        if a[i] == cari:\n",
    "            ketemu = True\n",
    "            break\n",
    "        langkah += 1\n",
    "    if ketemu:\n",
    "        print \"Ditemukan \", cari, \" dalam \", langkah, \" langkah\"\n",
    "    else:\n",
    "        print \"Tidak ditemukan \", cari, \" dalam \", langkah, \" langkah\"\n",
    "\n",
    "for i in range(12):\n",
    "    search(a, i)"
   ]
  },
  {
   "cell_type": "code",
   "execution_count": 17,
   "metadata": {
    "collapsed": false
   },
   "outputs": [
    {
     "name": "stdout",
     "output_type": "stream",
     "text": [
      "Tidak ditemukan  0  dalam  4  langkah\n",
      "Ditemukan  1  dalam  4  langkah\n",
      "Ditemukan  2  dalam  3  langkah\n",
      "Ditemukan  3  dalam  2  langkah\n",
      "Tidak ditemukan  4  dalam  3  langkah\n",
      "Ditemukan  5  dalam  3  langkah\n",
      "Ditemukan  6  dalam  1  langkah\n",
      "Ditemukan  7  dalam  4  langkah\n",
      "Ditemukan  8  dalam  3  langkah\n",
      "Ditemukan  9  dalam  2  langkah\n",
      "Ditemukan  10  dalam  3  langkah\n",
      "Tidak ditemukan  11  dalam  3  langkah\n"
     ]
    }
   ],
   "source": [
    "a = [1,2,3,5,6,7,8,9,10]\n",
    "def binary_search(a, cari, langkah = 1):\n",
    "    index = len(a)/2\n",
    "    pivot = a[index]\n",
    "    left = a[:index]\n",
    "    right = a[index+1:]\n",
    "    if cari == pivot:\n",
    "        print \"Ditemukan \",cari, \" dalam \", langkah, \" langkah\"\n",
    "    elif cari < pivot and len(left) > 0:\n",
    "        binary_search(left, cari, langkah+1)\n",
    "    elif cari > pivot and len(right) > 0:\n",
    "        binary_search(right, cari, langkah+1)\n",
    "    else:\n",
    "        print \"Tidak ditemukan \", cari, \" dalam \", langkah, \" langkah\"\n",
    "\n",
    "for i in range(12):\n",
    "    binary_search(a, i)"
   ]
  },
  {
   "cell_type": "code",
   "execution_count": 41,
   "metadata": {
    "collapsed": false
   },
   "outputs": [
    {
     "ename": "UnboundLocalError",
     "evalue": "local variable 'path' referenced before assignment",
     "output_type": "error",
     "traceback": [
      "\u001b[1;31m---------------------------------------------------------------------------\u001b[0m",
      "\u001b[1;31mUnboundLocalError\u001b[0m                         Traceback (most recent call last)",
      "\u001b[1;32m<ipython-input-41-3b9f70d1e5ab>\u001b[0m in \u001b[0;36m<module>\u001b[1;34m()\u001b[0m\n\u001b[0;32m     62\u001b[0m \u001b[1;33m\u001b[0m\u001b[0m\n\u001b[0;32m     63\u001b[0m \u001b[1;33m\u001b[0m\u001b[0m\n\u001b[1;32m---> 64\u001b[1;33m \u001b[0mSOLUTIONS\u001b[0m \u001b[1;33m=\u001b[0m \u001b[0mbrute_force\u001b[0m\u001b[1;33m(\u001b[0m\u001b[1;33m[\u001b[0m\u001b[1;33m[\u001b[0m\u001b[0mINITIAL_STATE\u001b[0m\u001b[1;33m]\u001b[0m\u001b[1;33m]\u001b[0m\u001b[1;33m,\u001b[0m \u001b[0mGOAL_STATE\u001b[0m\u001b[1;33m)\u001b[0m\u001b[1;33m\u001b[0m\u001b[0m\n\u001b[0m\u001b[0;32m     65\u001b[0m \u001b[1;32mfor\u001b[0m \u001b[0mpath\u001b[0m \u001b[1;32min\u001b[0m \u001b[0mSOLUTIONS\u001b[0m\u001b[1;33m:\u001b[0m\u001b[1;33m\u001b[0m\u001b[0m\n\u001b[0;32m     66\u001b[0m     \u001b[1;32mprint\u001b[0m \u001b[1;34m'SOLUTION FOUND '\u001b[0m\u001b[1;33m\u001b[0m\u001b[0m\n",
      "\u001b[1;32m<ipython-input-41-3b9f70d1e5ab>\u001b[0m in \u001b[0;36mbrute_force\u001b[1;34m(path_list, goal_state, steps)\u001b[0m\n\u001b[0;32m     59\u001b[0m     \u001b[1;32mif\u001b[0m \u001b[0mpath_list\u001b[0m \u001b[1;33m==\u001b[0m \u001b[0mnew_path_list\u001b[0m \u001b[1;32mor\u001b[0m \u001b[0msteps\u001b[0m \u001b[1;33m==\u001b[0m \u001b[1;36m0\u001b[0m\u001b[1;33m:\u001b[0m\u001b[1;33m\u001b[0m\u001b[0m\n\u001b[0;32m     60\u001b[0m         \u001b[1;32mreturn\u001b[0m \u001b[0mnew_path_list\u001b[0m\u001b[1;33m\u001b[0m\u001b[0m\n\u001b[1;32m---> 61\u001b[1;33m     \u001b[1;32mreturn\u001b[0m \u001b[0mbrute_force\u001b[0m\u001b[1;33m(\u001b[0m\u001b[0mnew_path_list\u001b[0m\u001b[1;33m,\u001b[0m \u001b[0mgoal_state\u001b[0m\u001b[1;33m,\u001b[0m \u001b[0msteps\u001b[0m\u001b[1;33m-\u001b[0m\u001b[1;36m1\u001b[0m\u001b[1;33m)\u001b[0m\u001b[1;33m\u001b[0m\u001b[0m\n\u001b[0m\u001b[0;32m     62\u001b[0m \u001b[1;33m\u001b[0m\u001b[0m\n\u001b[0;32m     63\u001b[0m \u001b[1;33m\u001b[0m\u001b[0m\n",
      "\u001b[1;32m<ipython-input-41-3b9f70d1e5ab>\u001b[0m in \u001b[0;36mbrute_force\u001b[1;34m(path_list, goal_state, steps)\u001b[0m\n\u001b[0;32m     59\u001b[0m     \u001b[1;32mif\u001b[0m \u001b[0mpath_list\u001b[0m \u001b[1;33m==\u001b[0m \u001b[0mnew_path_list\u001b[0m \u001b[1;32mor\u001b[0m \u001b[0msteps\u001b[0m \u001b[1;33m==\u001b[0m \u001b[1;36m0\u001b[0m\u001b[1;33m:\u001b[0m\u001b[1;33m\u001b[0m\u001b[0m\n\u001b[0;32m     60\u001b[0m         \u001b[1;32mreturn\u001b[0m \u001b[0mnew_path_list\u001b[0m\u001b[1;33m\u001b[0m\u001b[0m\n\u001b[1;32m---> 61\u001b[1;33m     \u001b[1;32mreturn\u001b[0m \u001b[0mbrute_force\u001b[0m\u001b[1;33m(\u001b[0m\u001b[0mnew_path_list\u001b[0m\u001b[1;33m,\u001b[0m \u001b[0mgoal_state\u001b[0m\u001b[1;33m,\u001b[0m \u001b[0msteps\u001b[0m\u001b[1;33m-\u001b[0m\u001b[1;36m1\u001b[0m\u001b[1;33m)\u001b[0m\u001b[1;33m\u001b[0m\u001b[0m\n\u001b[0m\u001b[0;32m     62\u001b[0m \u001b[1;33m\u001b[0m\u001b[0m\n\u001b[0;32m     63\u001b[0m \u001b[1;33m\u001b[0m\u001b[0m\n",
      "\u001b[1;32m<ipython-input-41-3b9f70d1e5ab>\u001b[0m in \u001b[0;36mbrute_force\u001b[1;34m(path_list, goal_state, steps)\u001b[0m\n\u001b[0;32m     59\u001b[0m     \u001b[1;32mif\u001b[0m \u001b[0mpath_list\u001b[0m \u001b[1;33m==\u001b[0m \u001b[0mnew_path_list\u001b[0m \u001b[1;32mor\u001b[0m \u001b[0msteps\u001b[0m \u001b[1;33m==\u001b[0m \u001b[1;36m0\u001b[0m\u001b[1;33m:\u001b[0m\u001b[1;33m\u001b[0m\u001b[0m\n\u001b[0;32m     60\u001b[0m         \u001b[1;32mreturn\u001b[0m \u001b[0mnew_path_list\u001b[0m\u001b[1;33m\u001b[0m\u001b[0m\n\u001b[1;32m---> 61\u001b[1;33m     \u001b[1;32mreturn\u001b[0m \u001b[0mbrute_force\u001b[0m\u001b[1;33m(\u001b[0m\u001b[0mnew_path_list\u001b[0m\u001b[1;33m,\u001b[0m \u001b[0mgoal_state\u001b[0m\u001b[1;33m,\u001b[0m \u001b[0msteps\u001b[0m\u001b[1;33m-\u001b[0m\u001b[1;36m1\u001b[0m\u001b[1;33m)\u001b[0m\u001b[1;33m\u001b[0m\u001b[0m\n\u001b[0m\u001b[0;32m     62\u001b[0m \u001b[1;33m\u001b[0m\u001b[0m\n\u001b[0;32m     63\u001b[0m \u001b[1;33m\u001b[0m\u001b[0m\n",
      "\u001b[1;32m<ipython-input-41-3b9f70d1e5ab>\u001b[0m in \u001b[0;36mbrute_force\u001b[1;34m(path_list, goal_state, steps)\u001b[0m\n\u001b[0;32m     59\u001b[0m     \u001b[1;32mif\u001b[0m \u001b[0mpath_list\u001b[0m \u001b[1;33m==\u001b[0m \u001b[0mnew_path_list\u001b[0m \u001b[1;32mor\u001b[0m \u001b[0msteps\u001b[0m \u001b[1;33m==\u001b[0m \u001b[1;36m0\u001b[0m\u001b[1;33m:\u001b[0m\u001b[1;33m\u001b[0m\u001b[0m\n\u001b[0;32m     60\u001b[0m         \u001b[1;32mreturn\u001b[0m \u001b[0mnew_path_list\u001b[0m\u001b[1;33m\u001b[0m\u001b[0m\n\u001b[1;32m---> 61\u001b[1;33m     \u001b[1;32mreturn\u001b[0m \u001b[0mbrute_force\u001b[0m\u001b[1;33m(\u001b[0m\u001b[0mnew_path_list\u001b[0m\u001b[1;33m,\u001b[0m \u001b[0mgoal_state\u001b[0m\u001b[1;33m,\u001b[0m \u001b[0msteps\u001b[0m\u001b[1;33m-\u001b[0m\u001b[1;36m1\u001b[0m\u001b[1;33m)\u001b[0m\u001b[1;33m\u001b[0m\u001b[0m\n\u001b[0m\u001b[0;32m     62\u001b[0m \u001b[1;33m\u001b[0m\u001b[0m\n\u001b[0;32m     63\u001b[0m \u001b[1;33m\u001b[0m\u001b[0m\n",
      "\u001b[1;32m<ipython-input-41-3b9f70d1e5ab>\u001b[0m in \u001b[0;36mbrute_force\u001b[1;34m(path_list, goal_state, steps)\u001b[0m\n\u001b[0;32m     59\u001b[0m     \u001b[1;32mif\u001b[0m \u001b[0mpath_list\u001b[0m \u001b[1;33m==\u001b[0m \u001b[0mnew_path_list\u001b[0m \u001b[1;32mor\u001b[0m \u001b[0msteps\u001b[0m \u001b[1;33m==\u001b[0m \u001b[1;36m0\u001b[0m\u001b[1;33m:\u001b[0m\u001b[1;33m\u001b[0m\u001b[0m\n\u001b[0;32m     60\u001b[0m         \u001b[1;32mreturn\u001b[0m \u001b[0mnew_path_list\u001b[0m\u001b[1;33m\u001b[0m\u001b[0m\n\u001b[1;32m---> 61\u001b[1;33m     \u001b[1;32mreturn\u001b[0m \u001b[0mbrute_force\u001b[0m\u001b[1;33m(\u001b[0m\u001b[0mnew_path_list\u001b[0m\u001b[1;33m,\u001b[0m \u001b[0mgoal_state\u001b[0m\u001b[1;33m,\u001b[0m \u001b[0msteps\u001b[0m\u001b[1;33m-\u001b[0m\u001b[1;36m1\u001b[0m\u001b[1;33m)\u001b[0m\u001b[1;33m\u001b[0m\u001b[0m\n\u001b[0m\u001b[0;32m     62\u001b[0m \u001b[1;33m\u001b[0m\u001b[0m\n\u001b[0;32m     63\u001b[0m \u001b[1;33m\u001b[0m\u001b[0m\n",
      "\u001b[1;32m<ipython-input-41-3b9f70d1e5ab>\u001b[0m in \u001b[0;36mbrute_force\u001b[1;34m(path_list, goal_state, steps)\u001b[0m\n\u001b[0;32m     59\u001b[0m     \u001b[1;32mif\u001b[0m \u001b[0mpath_list\u001b[0m \u001b[1;33m==\u001b[0m \u001b[0mnew_path_list\u001b[0m \u001b[1;32mor\u001b[0m \u001b[0msteps\u001b[0m \u001b[1;33m==\u001b[0m \u001b[1;36m0\u001b[0m\u001b[1;33m:\u001b[0m\u001b[1;33m\u001b[0m\u001b[0m\n\u001b[0;32m     60\u001b[0m         \u001b[1;32mreturn\u001b[0m \u001b[0mnew_path_list\u001b[0m\u001b[1;33m\u001b[0m\u001b[0m\n\u001b[1;32m---> 61\u001b[1;33m     \u001b[1;32mreturn\u001b[0m \u001b[0mbrute_force\u001b[0m\u001b[1;33m(\u001b[0m\u001b[0mnew_path_list\u001b[0m\u001b[1;33m,\u001b[0m \u001b[0mgoal_state\u001b[0m\u001b[1;33m,\u001b[0m \u001b[0msteps\u001b[0m\u001b[1;33m-\u001b[0m\u001b[1;36m1\u001b[0m\u001b[1;33m)\u001b[0m\u001b[1;33m\u001b[0m\u001b[0m\n\u001b[0m\u001b[0;32m     62\u001b[0m \u001b[1;33m\u001b[0m\u001b[0m\n\u001b[0;32m     63\u001b[0m \u001b[1;33m\u001b[0m\u001b[0m\n",
      "\u001b[1;32m<ipython-input-41-3b9f70d1e5ab>\u001b[0m in \u001b[0;36mbrute_force\u001b[1;34m(path_list, goal_state, steps)\u001b[0m\n\u001b[0;32m     59\u001b[0m     \u001b[1;32mif\u001b[0m \u001b[0mpath_list\u001b[0m \u001b[1;33m==\u001b[0m \u001b[0mnew_path_list\u001b[0m \u001b[1;32mor\u001b[0m \u001b[0msteps\u001b[0m \u001b[1;33m==\u001b[0m \u001b[1;36m0\u001b[0m\u001b[1;33m:\u001b[0m\u001b[1;33m\u001b[0m\u001b[0m\n\u001b[0;32m     60\u001b[0m         \u001b[1;32mreturn\u001b[0m \u001b[0mnew_path_list\u001b[0m\u001b[1;33m\u001b[0m\u001b[0m\n\u001b[1;32m---> 61\u001b[1;33m     \u001b[1;32mreturn\u001b[0m \u001b[0mbrute_force\u001b[0m\u001b[1;33m(\u001b[0m\u001b[0mnew_path_list\u001b[0m\u001b[1;33m,\u001b[0m \u001b[0mgoal_state\u001b[0m\u001b[1;33m,\u001b[0m \u001b[0msteps\u001b[0m\u001b[1;33m-\u001b[0m\u001b[1;36m1\u001b[0m\u001b[1;33m)\u001b[0m\u001b[1;33m\u001b[0m\u001b[0m\n\u001b[0m\u001b[0;32m     62\u001b[0m \u001b[1;33m\u001b[0m\u001b[0m\n\u001b[0;32m     63\u001b[0m \u001b[1;33m\u001b[0m\u001b[0m\n",
      "\u001b[1;32m<ipython-input-41-3b9f70d1e5ab>\u001b[0m in \u001b[0;36mbrute_force\u001b[1;34m(path_list, goal_state, steps)\u001b[0m\n\u001b[0;32m     59\u001b[0m     \u001b[1;32mif\u001b[0m \u001b[0mpath_list\u001b[0m \u001b[1;33m==\u001b[0m \u001b[0mnew_path_list\u001b[0m \u001b[1;32mor\u001b[0m \u001b[0msteps\u001b[0m \u001b[1;33m==\u001b[0m \u001b[1;36m0\u001b[0m\u001b[1;33m:\u001b[0m\u001b[1;33m\u001b[0m\u001b[0m\n\u001b[0;32m     60\u001b[0m         \u001b[1;32mreturn\u001b[0m \u001b[0mnew_path_list\u001b[0m\u001b[1;33m\u001b[0m\u001b[0m\n\u001b[1;32m---> 61\u001b[1;33m     \u001b[1;32mreturn\u001b[0m \u001b[0mbrute_force\u001b[0m\u001b[1;33m(\u001b[0m\u001b[0mnew_path_list\u001b[0m\u001b[1;33m,\u001b[0m \u001b[0mgoal_state\u001b[0m\u001b[1;33m,\u001b[0m \u001b[0msteps\u001b[0m\u001b[1;33m-\u001b[0m\u001b[1;36m1\u001b[0m\u001b[1;33m)\u001b[0m\u001b[1;33m\u001b[0m\u001b[0m\n\u001b[0m\u001b[0;32m     62\u001b[0m \u001b[1;33m\u001b[0m\u001b[0m\n\u001b[0;32m     63\u001b[0m \u001b[1;33m\u001b[0m\u001b[0m\n",
      "\u001b[1;32m<ipython-input-41-3b9f70d1e5ab>\u001b[0m in \u001b[0;36mbrute_force\u001b[1;34m(path_list, goal_state, steps)\u001b[0m\n\u001b[0;32m     59\u001b[0m     \u001b[1;32mif\u001b[0m \u001b[0mpath_list\u001b[0m \u001b[1;33m==\u001b[0m \u001b[0mnew_path_list\u001b[0m \u001b[1;32mor\u001b[0m \u001b[0msteps\u001b[0m \u001b[1;33m==\u001b[0m \u001b[1;36m0\u001b[0m\u001b[1;33m:\u001b[0m\u001b[1;33m\u001b[0m\u001b[0m\n\u001b[0;32m     60\u001b[0m         \u001b[1;32mreturn\u001b[0m \u001b[0mnew_path_list\u001b[0m\u001b[1;33m\u001b[0m\u001b[0m\n\u001b[1;32m---> 61\u001b[1;33m     \u001b[1;32mreturn\u001b[0m \u001b[0mbrute_force\u001b[0m\u001b[1;33m(\u001b[0m\u001b[0mnew_path_list\u001b[0m\u001b[1;33m,\u001b[0m \u001b[0mgoal_state\u001b[0m\u001b[1;33m,\u001b[0m \u001b[0msteps\u001b[0m\u001b[1;33m-\u001b[0m\u001b[1;36m1\u001b[0m\u001b[1;33m)\u001b[0m\u001b[1;33m\u001b[0m\u001b[0m\n\u001b[0m\u001b[0;32m     62\u001b[0m \u001b[1;33m\u001b[0m\u001b[0m\n\u001b[0;32m     63\u001b[0m \u001b[1;33m\u001b[0m\u001b[0m\n",
      "\u001b[1;32m<ipython-input-41-3b9f70d1e5ab>\u001b[0m in \u001b[0;36mbrute_force\u001b[1;34m(path_list, goal_state, steps)\u001b[0m\n\u001b[0;32m     59\u001b[0m     \u001b[1;32mif\u001b[0m \u001b[0mpath_list\u001b[0m \u001b[1;33m==\u001b[0m \u001b[0mnew_path_list\u001b[0m \u001b[1;32mor\u001b[0m \u001b[0msteps\u001b[0m \u001b[1;33m==\u001b[0m \u001b[1;36m0\u001b[0m\u001b[1;33m:\u001b[0m\u001b[1;33m\u001b[0m\u001b[0m\n\u001b[0;32m     60\u001b[0m         \u001b[1;32mreturn\u001b[0m \u001b[0mnew_path_list\u001b[0m\u001b[1;33m\u001b[0m\u001b[0m\n\u001b[1;32m---> 61\u001b[1;33m     \u001b[1;32mreturn\u001b[0m \u001b[0mbrute_force\u001b[0m\u001b[1;33m(\u001b[0m\u001b[0mnew_path_list\u001b[0m\u001b[1;33m,\u001b[0m \u001b[0mgoal_state\u001b[0m\u001b[1;33m,\u001b[0m \u001b[0msteps\u001b[0m\u001b[1;33m-\u001b[0m\u001b[1;36m1\u001b[0m\u001b[1;33m)\u001b[0m\u001b[1;33m\u001b[0m\u001b[0m\n\u001b[0m\u001b[0;32m     62\u001b[0m \u001b[1;33m\u001b[0m\u001b[0m\n\u001b[0;32m     63\u001b[0m \u001b[1;33m\u001b[0m\u001b[0m\n",
      "\u001b[1;32m<ipython-input-41-3b9f70d1e5ab>\u001b[0m in \u001b[0;36mbrute_force\u001b[1;34m(path_list, goal_state, steps)\u001b[0m\n\u001b[0;32m     56\u001b[0m                         \u001b[0mnew_path_found\u001b[0m \u001b[1;33m=\u001b[0m \u001b[0mTrue\u001b[0m\u001b[1;33m\u001b[0m\u001b[0m\n\u001b[0;32m     57\u001b[0m     \u001b[1;32mif\u001b[0m \u001b[1;32mnot\u001b[0m \u001b[0mnew_path_found\u001b[0m\u001b[1;33m:\u001b[0m\u001b[1;33m\u001b[0m\u001b[0m\n\u001b[1;32m---> 58\u001b[1;33m         \u001b[0mnew_path_list\u001b[0m\u001b[1;33m.\u001b[0m\u001b[0mappend\u001b[0m\u001b[1;33m(\u001b[0m\u001b[0mpath\u001b[0m\u001b[1;33m)\u001b[0m\u001b[1;33m\u001b[0m\u001b[0m\n\u001b[0m\u001b[0;32m     59\u001b[0m     \u001b[1;32mif\u001b[0m \u001b[0mpath_list\u001b[0m \u001b[1;33m==\u001b[0m \u001b[0mnew_path_list\u001b[0m \u001b[1;32mor\u001b[0m \u001b[0msteps\u001b[0m \u001b[1;33m==\u001b[0m \u001b[1;36m0\u001b[0m\u001b[1;33m:\u001b[0m\u001b[1;33m\u001b[0m\u001b[0m\n\u001b[0;32m     60\u001b[0m         \u001b[1;32mreturn\u001b[0m \u001b[0mnew_path_list\u001b[0m\u001b[1;33m\u001b[0m\u001b[0m\n",
      "\u001b[1;31mUnboundLocalError\u001b[0m: local variable 'path' referenced before assignment"
     ]
    }
   ],
   "source": [
    "import copy\n",
    "INITIAL_STATE = [\n",
    "    [1,3,6],\n",
    "    [4,2,0],\n",
    "    [7,5,8]\n",
    "]\n",
    "GOAL_STATE = [\n",
    "    [1,2,3],\n",
    "    [4,5,6],\n",
    "    [7,8,0]\n",
    "]\n",
    "\n",
    "def find_zero(state):\n",
    "    for row in range(len(state)):\n",
    "        for col in range(len(state[row])):\n",
    "            if state[row][col] == 0:\n",
    "                return row, col\n",
    "    return -1, -1\n",
    "\n",
    "def swap_zero(state, drow, dcol):\n",
    "    # make new state\n",
    "    state = copy.deepcopy(state)\n",
    "    # find row and col for \"zero\"\n",
    "    row, col = find_zero(state)\n",
    "    # find row and col to be swapped with zero\n",
    "    srow, scol = row + drow, col + dcol\n",
    "    if srow<0 or srow >= len(state) or scol<0 or scol >= len(state[0]):\n",
    "        return state\n",
    "    # swap it    \n",
    "    state[row][col], state[srow][scol] =\\\n",
    "        state[srow][scol], state[row][col]\n",
    "    return state\n",
    "\n",
    "def print_state(state):\n",
    "    for row in range(len(state)):     \n",
    "        output = ''\n",
    "        for col in range(len(state[row])):\n",
    "            output += str(state[row][col])+ ' '\n",
    "        print output\n",
    "    print\n",
    "\n",
    "def brute_force(path_list, goal_state, steps=10):\n",
    "    if steps == 0:\n",
    "        return path_list\n",
    "    delta_list = ((0,-1),(-1,0),(0,1),(1,0))\n",
    "    new_path_list = []\n",
    "    for path in path_list:\n",
    "        new_path_found = False\n",
    "        last_node = path[-1]\n",
    "        if last_node != goal_state:\n",
    "            for delta in delta_list:\n",
    "                new_node = swap_zero(last_node, delta[0], delta[1])\n",
    "                if new_node not in path:\n",
    "                    # copy path to new path\n",
    "                    new_path = copy.deepcopy(path)\n",
    "                    new_path.append(new_node)\n",
    "                    new_path_list.append(new_path)\n",
    "                    new_path_found = True\n",
    "    if not new_path_found:\n",
    "        new_path_list.append(path)\n",
    "    if path_list == new_path_list or steps == 0:\n",
    "        return new_path_list\n",
    "    return brute_force(new_path_list, goal_state, steps-1)\n",
    "            \n",
    "\n",
    "SOLUTIONS = brute_force([[INITIAL_STATE]], GOAL_STATE)\n",
    "for path in SOLUTIONS:\n",
    "    print 'SOLUTION FOUND '\n",
    "    for node in path:\n",
    "        print_state(node)"
   ]
  },
  {
   "cell_type": "code",
   "execution_count": null,
   "metadata": {
    "collapsed": true
   },
   "outputs": [],
   "source": []
  }
 ],
 "metadata": {
  "kernelspec": {
   "display_name": "Python 2",
   "language": "python",
   "name": "python2"
  },
  "language_info": {
   "codemirror_mode": {
    "name": "ipython",
    "version": 2
   },
   "file_extension": ".py",
   "mimetype": "text/x-python",
   "name": "python",
   "nbconvert_exporter": "python",
   "pygments_lexer": "ipython2",
   "version": "2.7.10"
  }
 },
 "nbformat": 4,
 "nbformat_minor": 0
}
