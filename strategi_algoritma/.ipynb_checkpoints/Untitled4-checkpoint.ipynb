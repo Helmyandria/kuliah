{
 "cells": [
  {
   "cell_type": "code",
   "execution_count": 9,
   "metadata": {
    "collapsed": false
   },
   "outputs": [
    {
     "name": "stdout",
     "output_type": "stream",
     "text": [
      "C\n",
      "B\n",
      "E\n"
     ]
    }
   ],
   "source": [
    "NODES = ['A','B','C','D','E','F']\n",
    "EDGES = {\n",
    "    'A' : {'B' : 4, 'C' : 3, 'E' : 9},\n",
    "    'B' : {'A' : 4, 'C' : 3, 'D' : 3},\n",
    "    'C' : {'A' : 3, 'B' : 3, 'D' : 3, 'E' : 4},\n",
    "    'D' : {'B' : 3, 'C' : 3, 'E' : 2},\n",
    "    'E' : {'A' : 9, 'C' : 4, 'D' : 2, 'F' : 2},\n",
    "}\n",
    "START = 'A'\n",
    "END = 'F'\n",
    "PATH = [[START]]\n",
    "\n",
    "def get_distance(path):\n",
    "    total = 0\n",
    "    for i in range(len(path)-1):\n",
    "        total += EDGES[path[i]][path[i+1]]\n",
    "    return total\n",
    "\n",
    "def get_path(path_list):\n",
    "    new_path_list = []\n",
    "    for path in path_list:\n",
    "        found = False\n",
    "        last_node = path[-1]\n",
    "        for next_node in EDGES[last_node]:\n",
    "            if next_node not in path:\n",
    "                new_path = list(path)\n",
    "                new_path.append(next_node)\n",
    "                \n",
    "\n",
    "get_path(PATH)\n",
    "\n",
    "    "
   ]
  },
  {
   "cell_type": "code",
   "execution_count": null,
   "metadata": {
    "collapsed": true
   },
   "outputs": [],
   "source": []
  }
 ],
 "metadata": {
  "kernelspec": {
   "display_name": "Python 2",
   "language": "python",
   "name": "python2"
  },
  "language_info": {
   "codemirror_mode": {
    "name": "ipython",
    "version": 2
   },
   "file_extension": ".py",
   "mimetype": "text/x-python",
   "name": "python",
   "nbconvert_exporter": "python",
   "pygments_lexer": "ipython2",
   "version": "2.7.10"
  }
 },
 "nbformat": 4,
 "nbformat_minor": 0
}
