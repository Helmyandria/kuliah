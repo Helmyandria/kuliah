{
 "cells": [
  {
   "cell_type": "code",
   "execution_count": 9,
   "metadata": {
    "collapsed": false
   },
   "outputs": [
    {
     "name": "stdout",
     "output_type": "stream",
     "text": [
      "Angka 0 tidak ditemukan\n",
      "Ditemukan 1 dibutuhkan 4 langkah\n",
      "Ditemukan 2 dibutuhkan 3 langkah\n",
      "Ditemukan 3 dibutuhkan 2 langkah\n",
      "Ditemukan 4 dibutuhkan 4 langkah\n",
      "Ditemukan 5 dibutuhkan 3 langkah\n",
      "Ditemukan 6 dibutuhkan 1 langkah\n",
      "Ditemukan 7 dibutuhkan 4 langkah\n",
      "Ditemukan 8 dibutuhkan 3 langkah\n",
      "Ditemukan 9 dibutuhkan 2 langkah\n",
      "Ditemukan 10 dibutuhkan 3 langkah\n",
      "Angka 11 tidak ditemukan\n"
     ]
    }
   ],
   "source": [
    "# Binary Search\n",
    "angka = [1,2,3,4,5,6,7,8,9,10]\n",
    "\n",
    "def binary_search(angka, cari, langkah=1):\n",
    "    index = len(angka)/2 # index pivot\n",
    "    pivot = angka[index]\n",
    "    left = angka[0:index]\n",
    "    right = angka[index+1:]\n",
    "    if cari == pivot:\n",
    "        print 'Ditemukan '+str(cari)+' dibutuhkan '+str(langkah) + ' langkah'\n",
    "        return True\n",
    "    elif cari < pivot and len(left) > 0:# cari di kiri\n",
    "        return binary_search(left, cari, langkah+1)\n",
    "    elif cari > pivot and len(right) > 0: # cari di kanan\n",
    "        return binary_search(right, cari, langkah+1)\n",
    "    else:\n",
    "        print 'Angka '+str(cari)+' tidak ditemukan'\n",
    "        return False\n",
    "\n",
    "for i in range(12):\n",
    "    binary_search(angka, i)\n"
   ]
  },
  {
   "cell_type": "code",
   "execution_count": 11,
   "metadata": {
    "collapsed": false
   },
   "outputs": [
    {
     "name": "stdout",
     "output_type": "stream",
     "text": [
      "FOUND PATH \n",
      "1 3 6 \n",
      "4 2 0 \n",
      "7 5 8 \n",
      "\n",
      "1 3 0 \n",
      "4 2 6 \n",
      "7 5 8 \n",
      "\n",
      "1 0 3 \n",
      "4 2 6 \n",
      "7 5 8 \n",
      "\n",
      "1 2 3 \n",
      "4 0 6 \n",
      "7 5 8 \n",
      "\n",
      "1 2 3 \n",
      "4 5 6 \n",
      "7 0 8 \n",
      "\n",
      "1 2 3 \n",
      "4 5 6 \n",
      "7 8 0 \n",
      "\n"
     ]
    }
   ],
   "source": [
    "import copy\n",
    "INITIAL = [\n",
    "    [1,3,6],\n",
    "    [4,2,0],\n",
    "    [7,5,8]\n",
    "]\n",
    "GOAL = [\n",
    "    [1,2,3],\n",
    "    [4,5,6],\n",
    "    [7,8,0]\n",
    "]\n",
    "def find_zero(state):\n",
    "    for row in range(len(state)):\n",
    "        for col in range(len(state[row])):\n",
    "            if state[row][col] == 0:\n",
    "                return row, col # ketemu\n",
    "    return -1,-1 # ga ketemu\n",
    "\n",
    "def swap_zero(state, delta_row, delta_col):\n",
    "    state = copy.deepcopy(state)\n",
    "    row, col = find_zero(state)\n",
    "    srow, scol = row + delta_row, col + delta_col\n",
    "    if srow < 0 or srow >= len(state): # tdk bs ditukar\n",
    "        return state\n",
    "    elif scol < 0 or scol >= len(state[0]): # tdk bs ditukar\n",
    "        return state\n",
    "    # tukar\n",
    "    state[row][col], state[srow][scol] =\\\n",
    "        state[srow][scol], state[row][col] \n",
    "    return state\n",
    "\n",
    "def print_state(state):\n",
    "    for row in range(len(state)):\n",
    "        output = ''\n",
    "        for col in range(len(state[row])):\n",
    "            output += str(state[row][col]) + ' '\n",
    "        print output\n",
    "    print\n",
    "\n",
    "'''\n",
    "print_state(INITIAL)\n",
    "# tukar kanan\n",
    "print_state(swap_zero(INITIAL, 0, 1))\n",
    "# tukar kiri\n",
    "print_state(swap_zero(INITIAL, 0, -1))\n",
    "# tukar atas\n",
    "print_state(swap_zero(INITIAL, -1, 0))\n",
    "# tukar bawah\n",
    "print_state(swap_zero(INITIAL, 1, 0))\n",
    "'''\n",
    "\n",
    "PATH_LIST = [[INITIAL]]\n",
    "\n",
    "def brute_force(path_list, goal, steps = 6):    \n",
    "    delta_list = ((0,1), (0,-1), (-1,0), (1,0))\n",
    "    # determine new path list\n",
    "    new_path_list = []    \n",
    "    for path in path_list:\n",
    "        new_path_found = False\n",
    "        last_node = path[-1]\n",
    "        if last_node != goal:\n",
    "            for delta in delta_list:\n",
    "                drow, dcol = delta[0], delta[1]\n",
    "                next_node = swap_zero(last_node, drow, dcol)\n",
    "                if next_node not in path:\n",
    "                    new_path = copy.deepcopy(path)\n",
    "                    new_path.append(next_node)\n",
    "                    new_path_list.append(new_path)\n",
    "                    new_path_found = True\n",
    "        if not new_path_found:\n",
    "            new_path_list.append(path)\n",
    "    if steps == 0 or not new_path_found or new_path_list == path_list:\n",
    "        return [x for x in new_path_list if x[-1] == goal]\n",
    "    return brute_force(new_path_list, goal, steps-1)\n",
    "    \n",
    "\n",
    "PATH_LIST = brute_force(PATH_LIST, GOAL)\n",
    "for path in PATH_LIST:\n",
    "        print 'FOUND PATH '\n",
    "        for node in path:\n",
    "            print_state(node)\n",
    "    "
   ]
  },
  {
   "cell_type": "code",
   "execution_count": null,
   "metadata": {
    "collapsed": true
   },
   "outputs": [],
   "source": []
  }
 ],
 "metadata": {
  "kernelspec": {
   "display_name": "Python 2",
   "language": "python",
   "name": "python2"
  },
  "language_info": {
   "codemirror_mode": {
    "name": "ipython",
    "version": 2
   },
   "file_extension": ".py",
   "mimetype": "text/x-python",
   "name": "python",
   "nbconvert_exporter": "python",
   "pygments_lexer": "ipython2",
   "version": "2.7.10"
  }
 },
 "nbformat": 4,
 "nbformat_minor": 0
}
