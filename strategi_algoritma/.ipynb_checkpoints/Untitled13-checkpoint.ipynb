{
 "cells": [
  {
   "cell_type": "code",
   "execution_count": 18,
   "metadata": {
    "collapsed": false
   },
   "outputs": [
    {
     "data": {
      "text/plain": [
       "13.0"
      ]
     },
     "execution_count": 18,
     "metadata": {},
     "output_type": "execute_result"
    }
   ],
   "source": [
    "import random, math\n",
    "round(random.random() * 26)\n"
   ]
  },
  {
   "cell_type": "code",
   "execution_count": 22,
   "metadata": {
    "collapsed": false
   },
   "outputs": [
    {
     "data": {
      "text/plain": [
       "[1, 2, 3, 4, 5, 6, 9]"
      ]
     },
     "execution_count": 22,
     "metadata": {},
     "output_type": "execute_result"
    }
   ],
   "source": [
    "a = [1,2,3,4,5,6,7]\n",
    "a.pop()\n",
    "a\n",
    "a.append(9)\n",
    "a"
   ]
  },
  {
   "cell_type": "code",
   "execution_count": 27,
   "metadata": {
    "collapsed": false
   },
   "outputs": [
    {
     "name": "stdout",
     "output_type": "stream",
     "text": [
      "B ['A', 'C', 'D'] ['B']\n",
      "D ['A', 'C', 'E', 'G'] ['B', 'D']\n",
      "G ['A', 'C', 'E', 'E', 'F'] ['B', 'D', 'G']\n",
      "F ['A', 'C', 'E', 'E', 'C'] ['B', 'D', 'G', 'F']\n"
     ]
    }
   ],
   "source": [
    "NODES = ('A', 'B', 'C', 'D', 'E', 'F', 'G')\n",
    "EDGES = {\n",
    "    'A' : {'B' : 2, 'E' : 3},\n",
    "    'B' : {'A' : 2, 'C' : 5, 'D' : 4},\n",
    "    'C' : {'F' : 6, 'B' : 5},\n",
    "    'D' : {'B' : 4, 'E' : 1, 'G' : 8},\n",
    "    'E' : {'A' : 3, 'D' : 1, 'G' : 3},\n",
    "    'F' : {'C' : 6, 'G' : 7},\n",
    "    'G' : {'E' : 3, 'D' : 8, 'F' : 7}\n",
    "}\n",
    "\n",
    "START = 'B'\n",
    "END = 'F'\n",
    "\n",
    "evaluated = \"\"\n",
    "openned_list = [START]\n",
    "closed_list = []\n",
    "\n",
    "# ulangi proses ini selama evaluated != end \n",
    "# dan openned_list ada isinya\n",
    "while evaluated != END and len(openned_list) > 0:\n",
    "    # ambil 1 node dari openned_list, jadikan evaluated\n",
    "    evaluated = openned_list.pop()\n",
    "    # tambahkan evaluated ke closed_list\n",
    "    closed_list.append(evaluated)\n",
    "    # lihat semua node yang bisa dicapai dari evaluated\n",
    "    # tambahkan ke openned list (jika belum ada di closed list)\n",
    "    for node in EDGES[evaluated]:\n",
    "        if node not in closed_list:\n",
    "            openned_list.append(node)\n",
    "    print evaluated, openned_list, closed_list\n"
   ]
  }
 ],
 "metadata": {
  "kernelspec": {
   "display_name": "Python 2",
   "language": "python",
   "name": "python2"
  },
  "language_info": {
   "codemirror_mode": {
    "name": "ipython",
    "version": 2
   },
   "file_extension": ".py",
   "mimetype": "text/x-python",
   "name": "python",
   "nbconvert_exporter": "python",
   "pygments_lexer": "ipython2",
   "version": "2.7.10"
  }
 },
 "nbformat": 4,
 "nbformat_minor": 0
}
