{
 "cells": [
  {
   "cell_type": "code",
   "execution_count": 47,
   "metadata": {
    "collapsed": false
   },
   "outputs": [
    {
     "data": {
      "text/plain": [
       "10.0"
      ]
     },
     "execution_count": 47,
     "metadata": {},
     "output_type": "execute_result"
    }
   ],
   "source": [
    "import random\n",
    "round(random.random()*2+9)"
   ]
  },
  {
   "cell_type": "code",
   "execution_count": 57,
   "metadata": {
    "collapsed": false
   },
   "outputs": [
    {
     "name": "stdout",
     "output_type": "stream",
     "text": [
      "A deque(['B', 'C', 'D']) ['A']\n",
      "B deque(['C', 'D', 'E', 'F']) ['A', 'B']\n",
      "C deque(['D', 'E', 'F']) ['A', 'B', 'C']\n",
      "D deque(['E', 'F', 'G', 'H']) ['A', 'B', 'C', 'D']\n",
      "E deque(['F', 'G', 'H', 'I', 'J']) ['A', 'B', 'C', 'D', 'E']\n",
      "F deque(['G', 'H', 'I', 'J']) ['A', 'B', 'C', 'D', 'E', 'F']\n",
      "G deque(['H', 'I', 'J', 'K', 'L']) ['A', 'B', 'C', 'D', 'E', 'F', 'G']\n",
      "H deque(['I', 'J', 'K', 'L']) ['A', 'B', 'C', 'D', 'E', 'F', 'G', 'H']\n",
      "I deque(['J', 'K', 'L']) ['A', 'B', 'C', 'D', 'E', 'F', 'G', 'H', 'I']\n"
     ]
    }
   ],
   "source": [
    "from collections import deque\n",
    "NODES = ('A','B','C','D','E','F','G','H','i','J','K','L')\n",
    "EDGES = {\n",
    "    'A' : ('B','C','D'),\n",
    "    'B' : ('E','F'),\n",
    "    'C' : (),\n",
    "    'D' : ('G','H'),\n",
    "    'E' : ('I','J'),\n",
    "    'F' : (),\n",
    "    'G' : ('K','L'),\n",
    "    'H' : (),\n",
    "    'I' : (),\n",
    "    'J' : (),\n",
    "    'K' : (),\n",
    "    'L' : ()\n",
    "}\n",
    "\n",
    "START = 'A'\n",
    "END = 'I'\n",
    "OPENNED_LIST = deque([])\n",
    "CLOSED_LIST = []\n",
    "EVALUATED = ''\n",
    "\n",
    "# Masukkan START ke OPENNED_LIST\n",
    "OPENNED_LIST.append(START)\n",
    "\n",
    "# selama OPENNED_LIST masih ada isinya dan belum menemukan END\n",
    "# maka, lakukan hal-hal berikut:\n",
    "while len(OPENNED_LIST) > 0 and EVALUATED != END:\n",
    "    # pop dari OPENNED_LIST, masukkan ke evaluated\n",
    "    EVALUATED = OPENNED_LIST.popleft()\n",
    "    # lihat dari evaluated bisa ke mana saja?\n",
    "    # Masukkan ke OPENNED_LIST\n",
    "    for node in EDGES[EVALUATED]:\n",
    "        OPENNED_LIST.append(node)\n",
    "    # Tambahkan evaluated ke CLOSED_LIST\n",
    "    CLOSED_LIST.append(EVALUATED)\n",
    "    print EVALUATED, OPENNED_LIST, CLOSED_LIST\n"
   ]
  },
  {
   "cell_type": "code",
   "execution_count": 51,
   "metadata": {
    "collapsed": false
   },
   "outputs": [
    {
     "name": "stdout",
     "output_type": "stream",
     "text": [
      "[1, 2, 3, 4]\n",
      "4\n",
      "[1, 2, 3]\n",
      "[1, 2, 3, 8]\n"
     ]
    }
   ],
   "source": [
    "A = [1,2,3,4]\n",
    "print A\n",
    "print A.pop()\n",
    "print A\n",
    "A.append(8)\n",
    "print A"
   ]
  }
 ],
 "metadata": {
  "kernelspec": {
   "display_name": "Python 2",
   "language": "python",
   "name": "python2"
  },
  "language_info": {
   "codemirror_mode": {
    "name": "ipython",
    "version": 2
   },
   "file_extension": ".py",
   "mimetype": "text/x-python",
   "name": "python",
   "nbconvert_exporter": "python",
   "pygments_lexer": "ipython2",
   "version": "2.7.10"
  }
 },
 "nbformat": 4,
 "nbformat_minor": 0
}
