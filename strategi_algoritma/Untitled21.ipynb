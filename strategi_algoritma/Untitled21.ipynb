{
 "cells": [
  {
   "cell_type": "code",
   "execution_count": 4,
   "metadata": {
    "collapsed": false
   },
   "outputs": [
    {
     "name": "stdout",
     "output_type": "stream",
     "text": [
      "354224848179261915075\n"
     ]
    }
   ],
   "source": [
    "memo = {}\n",
    "def fibo(n):\n",
    "    # jika fibo(n) sudah pernah dihitung, maka ambil dari memo\n",
    "    if n in memo:\n",
    "        return memo[n]\n",
    "    # jika fibo(n) belum pernah dihitung, maka lakukan perhitungan spt biasanya\n",
    "    if n == 1 or n == 2:\n",
    "        hasil = 1\n",
    "    else:\n",
    "        hasil = fibo(n-1) + fibo(n-2)\n",
    "    # setelah melakukan perhitungan, masukkan n dan hasil ke dalam memo\n",
    "    memo[n] = hasil\n",
    "    return hasil\n",
    "\n",
    "print fibo(100)"
   ]
  },
  {
   "cell_type": "code",
   "execution_count": 9,
   "metadata": {
    "collapsed": false
   },
   "outputs": [
    {
     "name": "stdout",
     "output_type": "stream",
     "text": [
      "ant man ['c', 'e', 'f']\n",
      "aurora ['c', 'e', 'f']\n",
      "a ['a', 'c', 'b', 'e', 'd']\n",
      "asia ['c', 'e']\n",
      "0341-123456 ['c', 'e', 'h']\n"
     ]
    }
   ],
   "source": [
    "import re\n",
    "kata_kata = ('ant man', 'aurora', 'a', 'asia', '0341-123456')\n",
    "daftar_pola = {\n",
    "    'a' : r'^a$',\n",
    "    'b' : r'^.$',\n",
    "    'c' : r'^.*$',\n",
    "    'd' : r'^.?$',\n",
    "    'e' : r'^.+$',\n",
    "    'f' : r'^a....a.*$',\n",
    "    'g' : r'[0123456789-]$',\n",
    "    'h' : r'[0123456789-]+$'\n",
    "}\n",
    "for kata in kata_kata:\n",
    "    daftar_jawaban = []\n",
    "    for jawaban in daftar_pola:\n",
    "        if re.match(daftar_pola[jawaban], kata, re.M|re.I):\n",
    "            daftar_jawaban.append(jawaban)\n",
    "    print kata, daftar_jawaban"
   ]
  },
  {
   "cell_type": "code",
   "execution_count": null,
   "metadata": {
    "collapsed": true
   },
   "outputs": [],
   "source": []
  }
 ],
 "metadata": {
  "kernelspec": {
   "display_name": "Python 2",
   "language": "python",
   "name": "python2"
  },
  "language_info": {
   "codemirror_mode": {
    "name": "ipython",
    "version": 2
   },
   "file_extension": ".py",
   "mimetype": "text/x-python",
   "name": "python",
   "nbconvert_exporter": "python",
   "pygments_lexer": "ipython2",
   "version": "2.7.11+"
  }
 },
 "nbformat": 4,
 "nbformat_minor": 0
}
