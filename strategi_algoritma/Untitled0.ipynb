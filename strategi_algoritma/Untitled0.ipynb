{
 "metadata": {
  "name": "",
  "signature": "sha256:7ec49c93411d4a2ad2c657eb8a03a19aaa810738aea06d2b5e69177cf4858c31"
 },
 "nbformat": 3,
 "nbformat_minor": 0,
 "worksheets": [
  {
   "cells": [
    {
     "cell_type": "code",
     "collapsed": false,
     "input": [
      "kata = 'gofrendi@github.com'\n",
      "if kata[0] == '@':\n",
      "    print 'valid twitter account'\n",
      "else:\n",
      "    print 'invalid twitter account'"
     ],
     "language": "python",
     "metadata": {},
     "outputs": [
      {
       "output_type": "stream",
       "stream": "stdout",
       "text": [
        "invalid twitter account\n"
       ]
      }
     ],
     "prompt_number": 3
    },
    {
     "cell_type": "code",
     "collapsed": false,
     "input": [
      "address = 'clark@.com'\n",
      "at_found = False\n",
      "valid_email = False\n",
      "if address[0] != '@' and address[0] != '.':\n",
      "    for char in address:\n",
      "        if char == '@':\n",
      "            at_found = True\n",
      "        elif at_found and char == '.':\n",
      "            valid_email = True\n",
      "if valid_email:\n",
      "    print 'valid email'\n",
      "else:\n",
      "    print 'invalid email'"
     ],
     "language": "python",
     "metadata": {},
     "outputs": [
      {
       "output_type": "stream",
       "stream": "stdout",
       "text": [
        "valid email\n"
       ]
      }
     ],
     "prompt_number": 9
    },
    {
     "cell_type": "code",
     "collapsed": false,
     "input": [
      "import re\n",
      "kata = 'if      (a==5) {b=7;}'\n",
      "match = re.match(r'if[ *\\(].*\\)\\{.*\\}', kata)\n",
      "if match:\n",
      "    print 'cocok ' + match.group()\n",
      "else:\n",
      "    print 'tidak cocok'"
     ],
     "language": "python",
     "metadata": {},
     "outputs": [
      {
       "output_type": "stream",
       "stream": "stdout",
       "text": [
        "tidak cocok\n"
       ]
      }
     ],
     "prompt_number": 46
    },
    {
     "cell_type": "code",
     "collapsed": false,
     "input": [
      "import re\n",
      "email = 'dono@gmail.com'\n",
      "match = re.match(r'.+@.+\\..+', email)\n",
      "if match:\n",
      "    print 'alamat email'\n",
      "else:\n",
      "    print 'bukan alamat email'"
     ],
     "language": "python",
     "metadata": {},
     "outputs": [
      {
       "output_type": "stream",
       "stream": "stdout",
       "text": [
        "alamat email\n"
       ]
      }
     ],
     "prompt_number": 4
    },
    {
     "cell_type": "code",
     "collapsed": false,
     "input": [
      "import re\n",
      "kata = 'lovwvwvwvwe'\n",
      "pattern = r'^lo[vw]?e$'\n",
      "match = re.match(pattern, kata)\n",
      "if match:\n",
      "    print 'cocok'\n",
      "else:\n",
      "    print 'tidak cocok'"
     ],
     "language": "python",
     "metadata": {},
     "outputs": [
      {
       "output_type": "stream",
       "stream": "stdout",
       "text": [
        "tidak cocok\n"
       ]
      }
     ],
     "prompt_number": 22
    },
    {
     "cell_type": "code",
     "collapsed": false,
     "input": [
      "puzzle = [\n",
      "   ['C', 'D', 'A', 'A', 'A'],\n",
      "   ['A', 'B', 'C', 'K', 'U'],\n",
      "   ['B', 'A', 'K', 'U', 'C'],\n",
      "   ['U', 'K', 'D', 'B', 'D'],\n",
      "   ['B', 'A', 'C', 'A', 'A']\n",
      "]\n",
      "# vertical\n",
      "jumlah = 0\n",
      "langkah = 0\n",
      "for row in range(3):\n",
      "    for col in range(5):\n",
      "        langkah += 1\n",
      "        if puzzle[row][col] == 'A' and puzzle[row+1][col] == 'K' and puzzle[row+2][col] == 'U':\n",
      "            print 'ketemu', row, col, 'vertical'\n",
      "            jumlah += 1\n",
      "        if puzzle[col][row] == 'A' and puzzle[col][row+1] == 'K' and puzzle[col][row+2] == 'U':\n",
      "            print 'ketemu', col, row, 'horizontal'\n",
      "            jumlah += 1\n",
      "print 'langkah ' + str(langkah)\n",
      "print 'jumlah ' + str(jumlah)"
     ],
     "language": "python",
     "metadata": {},
     "outputs": [
      {
       "output_type": "stream",
       "stream": "stdout",
       "text": [
        "ketemu 0 3 vertical\n",
        "ketemu 2 1 horizontal\n",
        "langkah 15\n",
        "jumlah 2\n"
       ]
      }
     ],
     "prompt_number": 4
    },
    {
     "cell_type": "code",
     "collapsed": false,
     "input": [],
     "language": "python",
     "metadata": {},
     "outputs": []
    }
   ],
   "metadata": {}
  }
 ]
}