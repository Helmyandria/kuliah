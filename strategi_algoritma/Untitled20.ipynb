{
 "cells": [
  {
   "cell_type": "code",
   "execution_count": 6,
   "metadata": {
    "collapsed": false
   },
   "outputs": [
    {
     "name": "stdout",
     "output_type": "stream",
     "text": [
      " fibonaci ke  100  adalah  354224848179261915075\n"
     ]
    }
   ],
   "source": [
    "memo = {}\n",
    "def fibo(n):\n",
    "    # jika sudah pernah dihitung, ambil dari memo\n",
    "    if n in memo:\n",
    "        return memo[n]\n",
    "    # hitung\n",
    "    if n == 1 or n == 2:\n",
    "        hasil = 1\n",
    "    else:\n",
    "        hasil = fibo(n-1) + fibo(n-2)\n",
    "    # ingat\n",
    "    memo[n] = hasil\n",
    "    return hasil\n",
    "\n",
    "print \"fibonaci ke \",100, \" adalah \", fibo(100)"
   ]
  },
  {
   "cell_type": "code",
   "execution_count": 10,
   "metadata": {
    "collapsed": false
   },
   "outputs": [
    {
     "name": "stdout",
     "output_type": "stream",
     "text": [
      "anton ['e']\n",
      "andi ['e']\n",
      "antman ['c', 'e', 'd']\n",
      "anotasi ['e', 'd']\n",
      "i miss u ['e', 'f']\n",
      "ai mis yu ['e']\n",
      "012-345 ['b', 'e']\n",
      "0012341786 ['b', 'e', 'h']\n"
     ]
    }
   ],
   "source": [
    "import re\n",
    "patterns = {\n",
    "    'a' : r'^[0123456789]$', \n",
    "    'b' : r'^0.*$',\n",
    "    'c' : r'^an.m.*$',\n",
    "    'd' : r'^a.*a.*$',\n",
    "    'e' : r'^.*$',\n",
    "    'f' : r'^.+miss.+$',\n",
    "    'g' : r'^an$',\n",
    "    'h' : r'^[0123456789]+$'\n",
    "}\n",
    "words = ('anton', 'andi', 'antman', 'anotasi', 'i miss u', 'ai mis yu', '012-345','0012341786')\n",
    "\n",
    "for word in words:\n",
    "    matches = []\n",
    "    for key in patterns:\n",
    "        pattern = patterns[key]\n",
    "        if re.match(pattern, word, re.M|re.I):\n",
    "            matches.append(key)\n",
    "    print word, matches"
   ]
  },
  {
   "cell_type": "code",
   "execution_count": null,
   "metadata": {
    "collapsed": true
   },
   "outputs": [],
   "source": []
  }
 ],
 "metadata": {
  "kernelspec": {
   "display_name": "Python 2",
   "language": "python",
   "name": "python2"
  },
  "language_info": {
   "codemirror_mode": {
    "name": "ipython",
    "version": 2
   },
   "file_extension": ".py",
   "mimetype": "text/x-python",
   "name": "python",
   "nbconvert_exporter": "python",
   "pygments_lexer": "ipython2",
   "version": "2.7.11+"
  }
 },
 "nbformat": 4,
 "nbformat_minor": 0
}
