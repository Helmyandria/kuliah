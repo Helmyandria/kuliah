{
 "cells": [
  {
   "cell_type": "code",
   "execution_count": 5,
   "metadata": {
    "collapsed": false
   },
   "outputs": [
    {
     "name": "stdout",
     "output_type": "stream",
     "text": [
      "354224848179261915075\n"
     ]
    }
   ],
   "source": [
    "memo = {} # variabel untuk menampung apa yang sudah pernah dikerjakan\n",
    "def fibonacci(n):\n",
    "     # jika fibonacci(n) sudah dikerjakan, maka ambil dari memo\n",
    "    if n in memo:\n",
    "        return memo[n]\n",
    "    # jika fibonacci(n) belum pernah dikerjakan maka hitung spt biasa\n",
    "    if n == 1 or n == 2:\n",
    "        hasil = 1\n",
    "    else:\n",
    "        hasil = fibonacci(n-1) + fibonacci(n-2)\n",
    "    # hasil perhitungannya disimpan ke memo\n",
    "    memo[n] = hasil\n",
    "    return hasil\n",
    "\n",
    "print fibonacci(100)"
   ]
  },
  {
   "cell_type": "code",
   "execution_count": 6,
   "metadata": {
    "collapsed": false
   },
   "outputs": [
    {
     "name": "stdout",
     "output_type": "stream",
     "text": [
      "a \t: a, c, b, e, d\n",
      "aurora \t: e, f\n",
      "aurora borealis \t: e, f\n",
      "au \t: e\n",
      "aa \t: b, e, d\n",
      "aaa \t: b, e, d, g, f\n",
      "ama \t: e, g, f\n",
      "amira \t: e, f\n",
      "anak nakal \t: e, g, f\n",
      "axe \t: e, f\n"
     ]
    }
   ],
   "source": [
    "import re\n",
    "regexes = {\n",
    "    'a' : '^a$',\n",
    "    'b' : '^a+$',\n",
    "    'c' : '^a?$',\n",
    "    'd' : '^a*$',\n",
    "    'e' : '^a.*$',\n",
    "    'f' : '^a...*$',\n",
    "    'g' : '^a.a.*$'\n",
    "}\n",
    "kata_kata = ('a', 'aurora', 'aurora borealis', 'au', 'aa', 'aaa', 'ama', 'amira', 'anak nakal', 'axe')\n",
    "\n",
    "for kata in kata_kata:\n",
    "    jawaban = []\n",
    "    for key in regexes:\n",
    "        if re.match(regexes[key], kata, re.M|re.I):\n",
    "            jawaban.append(key)\n",
    "    print kata, '\\t:', ', '.join(jawaban)"
   ]
  },
  {
   "cell_type": "code",
   "execution_count": null,
   "metadata": {
    "collapsed": true
   },
   "outputs": [],
   "source": []
  }
 ],
 "metadata": {
  "kernelspec": {
   "display_name": "Python 2",
   "language": "python",
   "name": "python2"
  },
  "language_info": {
   "codemirror_mode": {
    "name": "ipython",
    "version": 2
   },
   "file_extension": ".py",
   "mimetype": "text/x-python",
   "name": "python",
   "nbconvert_exporter": "python",
   "pygments_lexer": "ipython2",
   "version": "2.7.11+"
  }
 },
 "nbformat": 4,
 "nbformat_minor": 0
}
