{
 "cells": [
  {
   "cell_type": "code",
   "execution_count": 10,
   "metadata": {
    "collapsed": false
   },
   "outputs": [
    {
     "data": {
      "text/plain": [
       "2.0"
      ]
     },
     "execution_count": 10,
     "metadata": {},
     "output_type": "execute_result"
    }
   ],
   "source": [
    "import random\n",
    "round(21*random.random())"
   ]
  },
  {
   "cell_type": "code",
   "execution_count": 16,
   "metadata": {
    "collapsed": false
   },
   "outputs": [
    {
     "name": "stdout",
     "output_type": "stream",
     "text": [
      "[1, 3, 5, 4, 7, 9]\n",
      "[1, 3, 5, 4, 7, 9, 2]\n",
      "2\n",
      "[1, 3, 5, 4, 7, 9]\n"
     ]
    }
   ],
   "source": [
    "a = [1,3,5,4,7,9]\n",
    "print a\n",
    "a.append(2) # untuk push kita pakai perintah append\n",
    "print a\n",
    "print a.pop()\n",
    "print a"
   ]
  },
  {
   "cell_type": "code",
   "execution_count": 26,
   "metadata": {
    "collapsed": false
   },
   "outputs": [
    {
     "ename": "ImportError",
     "evalue": "No module named deque",
     "output_type": "error",
     "traceback": [
      "\u001b[1;31m---------------------------------------------------------------------------\u001b[0m",
      "\u001b[1;31mImportError\u001b[0m                               Traceback (most recent call last)",
      "\u001b[1;32m<ipython-input-26-3f8b6afbba20>\u001b[0m in \u001b[0;36m<module>\u001b[1;34m()\u001b[0m\n\u001b[1;32m----> 1\u001b[1;33m \u001b[1;32mimport\u001b[0m \u001b[0mdeque\u001b[0m\u001b[1;33m\u001b[0m\u001b[0m\n\u001b[0m\u001b[0;32m      2\u001b[0m \u001b[0mNODES\u001b[0m \u001b[1;33m=\u001b[0m \u001b[1;33m(\u001b[0m\u001b[1;34m'A'\u001b[0m\u001b[1;33m,\u001b[0m \u001b[1;34m'B'\u001b[0m\u001b[1;33m,\u001b[0m \u001b[1;34m'C'\u001b[0m\u001b[1;33m,\u001b[0m \u001b[1;34m'D'\u001b[0m\u001b[1;33m,\u001b[0m \u001b[1;34m'E'\u001b[0m\u001b[1;33m,\u001b[0m \u001b[1;34m'F'\u001b[0m\u001b[1;33m,\u001b[0m \u001b[1;34m'G'\u001b[0m\u001b[1;33m,\u001b[0m \u001b[1;34m'H'\u001b[0m\u001b[1;33m,\u001b[0m \u001b[1;34m'I'\u001b[0m\u001b[1;33m,\u001b[0m \u001b[1;34m'J'\u001b[0m\u001b[1;33m,\u001b[0m \u001b[1;34m'K'\u001b[0m\u001b[1;33m)\u001b[0m\u001b[1;33m\u001b[0m\u001b[0m\n\u001b[0;32m      3\u001b[0m EDGES = {\n\u001b[0;32m      4\u001b[0m     \u001b[1;34m'A'\u001b[0m \u001b[1;33m:\u001b[0m \u001b[1;33m(\u001b[0m\u001b[1;34m'B'\u001b[0m\u001b[1;33m,\u001b[0m \u001b[1;34m'E'\u001b[0m\u001b[1;33m,\u001b[0m \u001b[1;34m'G'\u001b[0m\u001b[1;33m,\u001b[0m \u001b[1;34m'H'\u001b[0m\u001b[1;33m)\u001b[0m\u001b[1;33m,\u001b[0m\u001b[1;33m\u001b[0m\u001b[0m\n\u001b[0;32m      5\u001b[0m     \u001b[1;34m'B'\u001b[0m \u001b[1;33m:\u001b[0m \u001b[1;33m(\u001b[0m\u001b[1;34m'A'\u001b[0m\u001b[1;33m,\u001b[0m \u001b[1;34m'C'\u001b[0m\u001b[1;33m,\u001b[0m \u001b[1;34m'D'\u001b[0m\u001b[1;33m)\u001b[0m\u001b[1;33m,\u001b[0m\u001b[1;33m\u001b[0m\u001b[0m\n",
      "\u001b[1;31mImportError\u001b[0m: No module named deque"
     ]
    }
   ],
   "source": [
    "import deque\n",
    "NODES = ('A', 'B', 'C', 'D', 'E', 'F', 'G', 'H', 'I', 'J', 'K')\n",
    "EDGES = {\n",
    "    'A' : ('B', 'E', 'G', 'H'),\n",
    "    'B' : ('A', 'C', 'D'),\n",
    "    'C' : (),\n",
    "    'D' : (),\n",
    "    'E' : ('A', 'F'),\n",
    "    'F' : (),\n",
    "    'G' : (),\n",
    "    'H' : ('I','J'),\n",
    "    'I' : ('K'),\n",
    "    'J' : (),\n",
    "    'K' : ()\n",
    "}\n",
    "START = 'A'\n",
    "END = 'C'\n",
    "\n",
    "# isi openned list dengan node awal\n",
    "openned_list = deque([START])\n",
    "closed_list = []\n",
    "\n",
    "# Selama openned_list tidak kosong dan evaluated belum sama dengan end\n",
    "while len(openned_list)>0 and evaluated != END:\n",
    "    # Pop dari openned_list, masukkan ke evaluated\n",
    "    evaluated = openned_list.popleft()\n",
    "    # Evaluasi evaluated bisa ke node mana saja\n",
    "    # Push hasil tadi ke opennned list, jika node tadi belum ter close\n",
    "    for node in EDGES[evaluated]:\n",
    "        if node not in closed_list:\n",
    "            openned_list.append(node)\n",
    "    # Masukkan evaluated ke closed list\n",
    "    closed_list.append(evaluated)\n",
    "    print evaluated, openned_list, closed_list"
   ]
  },
  {
   "cell_type": "code",
   "execution_count": null,
   "metadata": {
    "collapsed": true
   },
   "outputs": [],
   "source": []
  }
 ],
 "metadata": {
  "kernelspec": {
   "display_name": "Python 2",
   "language": "python",
   "name": "python2"
  },
  "language_info": {
   "codemirror_mode": {
    "name": "ipython",
    "version": 2
   },
   "file_extension": ".py",
   "mimetype": "text/x-python",
   "name": "python",
   "nbconvert_exporter": "python",
   "pygments_lexer": "ipython2",
   "version": "2.7.10"
  }
 },
 "nbformat": 4,
 "nbformat_minor": 0
}
