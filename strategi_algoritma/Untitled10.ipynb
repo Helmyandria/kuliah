{
 "cells": [
  {
   "cell_type": "code",
   "execution_count": 8,
   "metadata": {
    "collapsed": false
   },
   "outputs": [
    {
     "name": "stdout",
     "output_type": "stream",
     "text": [
      "[1, 2, 3, 4, 5, 7, 8, 9, 10]\n",
      "Tidak ada angka  0  dilakukan  10  langkah\n",
      "Ada angka  1  ditemukan dalam  1  langkah\n",
      "Ada angka  2  ditemukan dalam  2  langkah\n",
      "Ada angka  3  ditemukan dalam  3  langkah\n",
      "Ada angka  4  ditemukan dalam  4  langkah\n",
      "Ada angka  5  ditemukan dalam  5  langkah\n",
      "Tidak ada angka  6  dilakukan  10  langkah\n",
      "Ada angka  7  ditemukan dalam  6  langkah\n",
      "Ada angka  8  ditemukan dalam  7  langkah\n",
      "Ada angka  9  ditemukan dalam  8  langkah\n",
      "Ada angka  10  ditemukan dalam  9  langkah\n",
      "Tidak ada angka  11  dilakukan  10  langkah\n"
     ]
    }
   ],
   "source": [
    "a = [1, 2, 3, 4, 5, 7, 8, 9, 10]\n",
    "\n",
    "def cari(angka, cari):\n",
    "    langkah = 1\n",
    "    ketemu = False\n",
    "    for i in range(len(angka)):\n",
    "        if angka[i] == cari:\n",
    "            ketemu = True\n",
    "            break\n",
    "        langkah += 1\n",
    "    if ketemu:\n",
    "        print \"Ada angka \", cari, \" ditemukan dalam \", langkah, \" langkah\"\n",
    "    else:\n",
    "        print \"Tidak ada angka \", cari, \" dilakukan \", langkah, \" langkah\"\n",
    "\n",
    "print a\n",
    "for i in range(12):\n",
    "    cari(a, i)"
   ]
  },
  {
   "cell_type": "code",
   "execution_count": 21,
   "metadata": {
    "collapsed": false
   },
   "outputs": [
    {
     "name": "stdout",
     "output_type": "stream",
     "text": [
      "Tidak ditemukan  0  dalam  4  langkah\n",
      "Ditemukan  1  dalam  4  langkah\n",
      "Ditemukan  2  dalam  3  langkah\n",
      "Ditemukan  3  dalam  2  langkah\n",
      "Ditemukan  4  dalam  3  langkah\n",
      "Ditemukan  5  dalam  1  langkah\n",
      "Tidak ditemukan  6  dalam  4  langkah\n",
      "Ditemukan  7  dalam  4  langkah\n",
      "Ditemukan  8  dalam  3  langkah\n",
      "Ditemukan  9  dalam  2  langkah\n",
      "Ditemukan  10  dalam  3  langkah\n",
      "Tidak ditemukan  11  dalam  3  langkah\n"
     ]
    }
   ],
   "source": [
    "a = [1, 2, 3, 4, 5, 7, 8, 9, 10]\n",
    "def binary_search(angka, cari, langkah = 1):\n",
    "    index = len(angka)/2\n",
    "    pivot = angka[index]\n",
    "    left = angka[0:index]\n",
    "    right = angka[index+1:]\n",
    "    if pivot == cari:\n",
    "        print \"Ditemukan \", cari, \" dalam \", langkah, \" langkah\"\n",
    "    elif cari < pivot and len(left) > 0:\n",
    "        binary_search(left, cari, langkah+1)\n",
    "    elif cari > pivot and len(right) > 0:\n",
    "        binary_search(right, cari, langkah+1)\n",
    "    else:\n",
    "        print \"Tidak ditemukan \", cari, \" dalam \", langkah, \" langkah\"\n",
    "\n",
    "for i in range(12):\n",
    "    binary_search(a, i)"
   ]
  },
  {
   "cell_type": "code",
   "execution_count": 1,
   "metadata": {
    "collapsed": false
   },
   "outputs": [
    {
     "name": "stdout",
     "output_type": "stream",
     "text": [
      "383\n",
      "1\n",
      "PATH\n",
      "1 3 6 \n",
      "4 2 0 \n",
      "7 5 8 \n",
      "\n",
      "1 3 0 \n",
      "4 2 6 \n",
      "7 5 8 \n",
      "\n",
      "1 0 3 \n",
      "4 2 6 \n",
      "7 5 8 \n",
      "\n",
      "1 2 3 \n",
      "4 0 6 \n",
      "7 5 8 \n",
      "\n",
      "1 2 3 \n",
      "4 5 6 \n",
      "7 0 8 \n",
      "\n",
      "1 2 3 \n",
      "4 5 6 \n",
      "7 8 0 \n",
      "\n"
     ]
    }
   ],
   "source": [
    "import copy\n",
    "INITIAL_STATE = [\n",
    "    [1,3,6],\n",
    "    [4,2,0],\n",
    "    [7,5,8]\n",
    "]\n",
    "GOAL_STATE = [\n",
    "    [1,2,3],\n",
    "    [4,5,6],\n",
    "    [7,8,0]\n",
    "]\n",
    "\n",
    "def find_zero(state):\n",
    "    for row in range(len(state)):\n",
    "        for col in range(len(state[row])):\n",
    "            if state[row][col] == 0:\n",
    "                return row, col\n",
    "    return -1, -1\n",
    "\n",
    "def swap_zero(state, drow, dcol):\n",
    "    state = copy.deepcopy(state)\n",
    "    # cari row dan col untuk angka nol\n",
    "    row, col = find_zero(state)\n",
    "    # cari row dan col dari cell yang akan ditukar\n",
    "    srow, scol = row + drow, col + dcol\n",
    "    # jika melanggar batas, maka ga boleh ditukar\n",
    "    if srow < 0 or srow >= len(state) or scol < 0 or scol >= len(state[0]):\n",
    "        return state\n",
    "    # tukar\n",
    "    state[row][col], state[srow][scol] =\\\n",
    "        state[srow][scol], state[row][col]\n",
    "    return state\n",
    "\n",
    "def print_state(state):\n",
    "    for row in range(len(state)):\n",
    "        out = ''\n",
    "        for col in range(len(state[row])):\n",
    "            out += str(state[row][col]) + ' '\n",
    "        print out\n",
    "    print ''\n",
    "\n",
    "def brute_force(path_list, goal_state, step = 10):\n",
    "    delta_list = ((-1,0),(1,0),(0,-1),(0,1))    \n",
    "    if step == 0:\n",
    "        new_path_list = path_list\n",
    "    else:\n",
    "        new_path_list = []\n",
    "        for path in path_list:\n",
    "            # last_node\n",
    "            last_node = path[-1]\n",
    "            new_path_found = False\n",
    "            if last_node != goal_state:\n",
    "                # new_node untuk atas-bawah-kanan-kiri\n",
    "                for delta in delta_list:\n",
    "                    drow, dcol = delta[0], delta[1]\n",
    "                    new_node = swap_zero(last_node, drow, dcol)\n",
    "                    if new_node not in path:\n",
    "                        new_path = copy.deepcopy(path)\n",
    "                        new_path.append(new_node)\n",
    "                        new_path_found = True\n",
    "                        new_path_list.append(new_path)\n",
    "            if not new_path_found:\n",
    "                new_path_list.append(path)\n",
    "    if new_path_list == path_list or step == 0:\n",
    "        print len(new_path_list)\n",
    "        new_path_list = [x for x in new_path_list if x[-1] == goal_state]\n",
    "        print len(new_path_list)\n",
    "        return new_path_list\n",
    "    return brute_force(new_path_list, goal_state, step-1)\n",
    "    \n",
    "    \n",
    "\n",
    "SOLUTIONS = brute_force([[INITIAL_STATE]], GOAL_STATE)\n",
    "# coba print hasilnya\n",
    "for path in SOLUTIONS:\n",
    "    print 'PATH'\n",
    "    for node in path:\n",
    "        print_state(node)"
   ]
  },
  {
   "cell_type": "code",
   "execution_count": null,
   "metadata": {
    "collapsed": true
   },
   "outputs": [],
   "source": []
  }
 ],
 "metadata": {
  "kernelspec": {
   "display_name": "Python 2",
   "language": "python",
   "name": "python2"
  },
  "language_info": {
   "codemirror_mode": {
    "name": "ipython",
    "version": 2
   },
   "file_extension": ".py",
   "mimetype": "text/x-python",
   "name": "python",
   "nbconvert_exporter": "python",
   "pygments_lexer": "ipython2",
   "version": "2.7.10"
  }
 },
 "nbformat": 4,
 "nbformat_minor": 0
}
