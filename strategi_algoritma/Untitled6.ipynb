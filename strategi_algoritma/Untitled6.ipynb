{
 "cells": [
  {
   "cell_type": "code",
   "execution_count": 1,
   "metadata": {
    "collapsed": false
   },
   "outputs": [
    {
     "name": "stdout",
     "output_type": "stream",
     "text": [
      "2 3 4\n"
     ]
    }
   ],
   "source": [
    "a = 4\n",
    "b = 2\n",
    "c = 3\n",
    "\n",
    "if a<b and a<c: # a yang paling kecil\n",
    "    if b<c:\n",
    "        print a, b, c\n",
    "    else:\n",
    "        print a, c, b\n",
    "elif b<a and b<c: # b yang paling kecil\n",
    "    if a<c:\n",
    "        print b, a, c\n",
    "    else:\n",
    "        print b, c, a\n",
    "else:\n",
    "    if a<b:\n",
    "        print c, a, b\n",
    "    else:\n",
    "        print c, b, a"
   ]
  },
  {
   "cell_type": "code",
   "execution_count": 13,
   "metadata": {
    "collapsed": false,
    "scrolled": true
   },
   "outputs": [
    {
     "name": "stdout",
     "output_type": "stream",
     "text": [
      "[5, 10, 8, 9, 3, 7, 6, 3, 4, 1, 2]\n",
      "[5, 8, 10, 9, 3, 7, 6, 3, 4, 1, 2]\n",
      "[5, 8, 9, 10, 3, 7, 6, 3, 4, 1, 2]\n",
      "[5, 8, 9, 3, 10, 7, 6, 3, 4, 1, 2]\n",
      "[5, 8, 9, 3, 7, 10, 6, 3, 4, 1, 2]\n",
      "[5, 8, 9, 3, 7, 6, 10, 3, 4, 1, 2]\n",
      "[5, 8, 9, 3, 7, 6, 3, 10, 4, 1, 2]\n",
      "[5, 8, 9, 3, 7, 6, 3, 4, 10, 1, 2]\n",
      "[5, 8, 9, 3, 7, 6, 3, 4, 1, 10, 2]\n",
      "[5, 8, 9, 3, 7, 6, 3, 4, 1, 2, 10]\n",
      "\n",
      "[5, 8, 9, 3, 7, 6, 3, 4, 1, 2, 10]\n",
      "[5, 8, 9, 3, 7, 6, 3, 4, 1, 2, 10]\n",
      "[5, 8, 3, 9, 7, 6, 3, 4, 1, 2, 10]\n",
      "[5, 8, 3, 7, 9, 6, 3, 4, 1, 2, 10]\n",
      "[5, 8, 3, 7, 6, 9, 3, 4, 1, 2, 10]\n",
      "[5, 8, 3, 7, 6, 3, 9, 4, 1, 2, 10]\n",
      "[5, 8, 3, 7, 6, 3, 4, 9, 1, 2, 10]\n",
      "[5, 8, 3, 7, 6, 3, 4, 1, 9, 2, 10]\n",
      "[5, 8, 3, 7, 6, 3, 4, 1, 2, 9, 10]\n",
      "\n",
      "[5, 8, 3, 7, 6, 3, 4, 1, 2, 9, 10]\n",
      "[5, 3, 8, 7, 6, 3, 4, 1, 2, 9, 10]\n",
      "[5, 3, 7, 8, 6, 3, 4, 1, 2, 9, 10]\n",
      "[5, 3, 7, 6, 8, 3, 4, 1, 2, 9, 10]\n",
      "[5, 3, 7, 6, 3, 8, 4, 1, 2, 9, 10]\n",
      "[5, 3, 7, 6, 3, 4, 8, 1, 2, 9, 10]\n",
      "[5, 3, 7, 6, 3, 4, 1, 8, 2, 9, 10]\n",
      "[5, 3, 7, 6, 3, 4, 1, 2, 8, 9, 10]\n",
      "\n",
      "[3, 5, 7, 6, 3, 4, 1, 2, 8, 9, 10]\n",
      "[3, 5, 7, 6, 3, 4, 1, 2, 8, 9, 10]\n",
      "[3, 5, 6, 7, 3, 4, 1, 2, 8, 9, 10]\n",
      "[3, 5, 6, 3, 7, 4, 1, 2, 8, 9, 10]\n",
      "[3, 5, 6, 3, 4, 7, 1, 2, 8, 9, 10]\n",
      "[3, 5, 6, 3, 4, 1, 7, 2, 8, 9, 10]\n",
      "[3, 5, 6, 3, 4, 1, 2, 7, 8, 9, 10]\n",
      "\n",
      "[3, 5, 6, 3, 4, 1, 2, 7, 8, 9, 10]\n",
      "[3, 5, 6, 3, 4, 1, 2, 7, 8, 9, 10]\n",
      "[3, 5, 3, 6, 4, 1, 2, 7, 8, 9, 10]\n",
      "[3, 5, 3, 4, 6, 1, 2, 7, 8, 9, 10]\n",
      "[3, 5, 3, 4, 1, 6, 2, 7, 8, 9, 10]\n",
      "[3, 5, 3, 4, 1, 2, 6, 7, 8, 9, 10]\n",
      "\n",
      "[3, 5, 3, 4, 1, 2, 6, 7, 8, 9, 10]\n",
      "[3, 3, 5, 4, 1, 2, 6, 7, 8, 9, 10]\n",
      "[3, 3, 4, 5, 1, 2, 6, 7, 8, 9, 10]\n",
      "[3, 3, 4, 1, 5, 2, 6, 7, 8, 9, 10]\n",
      "[3, 3, 4, 1, 2, 5, 6, 7, 8, 9, 10]\n",
      "\n",
      "[3, 3, 4, 1, 2, 5, 6, 7, 8, 9, 10]\n",
      "[3, 3, 4, 1, 2, 5, 6, 7, 8, 9, 10]\n",
      "[3, 3, 1, 4, 2, 5, 6, 7, 8, 9, 10]\n",
      "[3, 3, 1, 2, 4, 5, 6, 7, 8, 9, 10]\n",
      "\n",
      "[3, 3, 1, 2, 4, 5, 6, 7, 8, 9, 10]\n",
      "[3, 1, 3, 2, 4, 5, 6, 7, 8, 9, 10]\n",
      "[3, 1, 2, 3, 4, 5, 6, 7, 8, 9, 10]\n",
      "\n",
      "[1, 3, 2, 3, 4, 5, 6, 7, 8, 9, 10]\n",
      "[1, 2, 3, 3, 4, 5, 6, 7, 8, 9, 10]\n",
      "\n",
      "[1, 2, 3, 3, 4, 5, 6, 7, 8, 9, 10]\n",
      "\n",
      "[1, 2, 3, 3, 4, 5, 6, 7, 8, 9, 10]\n"
     ]
    }
   ],
   "source": [
    "a =[5,10,8,9,3,7,6,3,4,1,2]\n",
    "for i in range(len(a)-1,0,-1):\n",
    "    for j in range(i):\n",
    "        if a[j] > a[j+1]:\n",
    "            a[j],a[j+1] = a[j+1],a[j]\n",
    "        print a\n",
    "    print ''\n",
    "print a"
   ]
  },
  {
   "cell_type": "code",
   "execution_count": 12,
   "metadata": {
    "collapsed": false
   },
   "outputs": [
    {
     "name": "stdout",
     "output_type": "stream",
     "text": [
      "45\n"
     ]
    }
   ],
   "source": [
    "total = 0\n",
    "for i in range(10):\n",
    "    total += i\n",
    "print total"
   ]
  },
  {
   "cell_type": "code",
   "execution_count": 18,
   "metadata": {
    "collapsed": false
   },
   "outputs": [
    {
     "name": "stdout",
     "output_type": "stream",
     "text": [
      "[1, 2, 3, 3, 4, 5, 6, 7, 8, 9, 10]\n"
     ]
    }
   ],
   "source": [
    "a = [5,10,8,9,3,7,6,3,4,1,2]\n",
    "\n",
    "def quicksort(angka):\n",
    "    pivot = angka[0]\n",
    "    left, right = [], []\n",
    "    for i in range(1,len(angka)):\n",
    "        if angka[i] < pivot:\n",
    "            left.append(angka[i])\n",
    "        else:\n",
    "            right.append(angka[i])\n",
    "    if len(left) > 1:\n",
    "        left = quicksort(left)\n",
    "    if len(right) > 1:\n",
    "        right = quicksort(right)\n",
    "    return left + [pivot] + right\n",
    "\n",
    "print quicksort(a)\n",
    "        \n"
   ]
  }
 ],
 "metadata": {
  "kernelspec": {
   "display_name": "Python 2",
   "language": "python",
   "name": "python2"
  },
  "language_info": {
   "codemirror_mode": {
    "name": "ipython",
    "version": 2
   },
   "file_extension": ".py",
   "mimetype": "text/x-python",
   "name": "python",
   "nbconvert_exporter": "python",
   "pygments_lexer": "ipython2",
   "version": "2.7.10"
  }
 },
 "nbformat": 4,
 "nbformat_minor": 0
}
