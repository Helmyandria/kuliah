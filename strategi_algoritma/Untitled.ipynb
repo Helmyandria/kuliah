{
 "cells": [
  {
   "cell_type": "code",
   "execution_count": 12,
   "metadata": {
    "collapsed": false
   },
   "outputs": [
    {
     "name": "stdout",
     "output_type": "stream",
     "text": [
      "[1000]\n",
      "[1000, 1000]\n",
      "[1000, 1000, 500]\n",
      "[1000, 1000, 500]\n"
     ]
    }
   ],
   "source": [
    "target = 2500\n",
    "pecahan = [1000, 500, 100]\n",
    "\n",
    "solusi = []\n",
    "\n",
    "def jumlahkan(data):\n",
    "    jumlah = 0\n",
    "    for angka in data:\n",
    "        jumlah = jumlah + angka\n",
    "    return jumlah\n",
    "\n",
    "for i in range(10):\n",
    "    jumlah = jumlahkan(solusi)\n",
    "    angka_terbesar = 0\n",
    "    for angka in pecahan:\n",
    "        if (jumlah+angka <= target) and (angka>angka_terbesar):\n",
    "            angka_terbesar = angka\n",
    "    solusi.append(angka_terbesar)\n",
    "    print solusi\n",
    "    if jumlahkan(solusi)==target:\n",
    "        break\n",
    "\n",
    "print solusi\n"
   ]
  },
  {
   "cell_type": "code",
   "execution_count": null,
   "metadata": {
    "collapsed": true
   },
   "outputs": [],
   "source": []
  }
 ],
 "metadata": {
  "kernelspec": {
   "display_name": "Python 2",
   "language": "python",
   "name": "python2"
  },
  "language_info": {
   "codemirror_mode": {
    "name": "ipython",
    "version": 2
   },
   "file_extension": ".py",
   "mimetype": "text/x-python",
   "name": "python",
   "nbconvert_exporter": "python",
   "pygments_lexer": "ipython2",
   "version": "2.7.10"
  }
 },
 "nbformat": 4,
 "nbformat_minor": 0
}
