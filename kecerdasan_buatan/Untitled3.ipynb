{
 "cells": [
  {
   "cell_type": "code",
   "execution_count": 19,
   "metadata": {
    "collapsed": false
   },
   "outputs": [
    {
     "name": "stdout",
     "output_type": "stream",
     "text": [
      "19  derajat keanggotaan untuk dingin:  1\n",
      "19  derajat keanggotaan untuk panas:  0\n",
      "19  derajat keanggotaan untuk hangat:  0\n",
      "\n",
      "32  derajat keanggotaan untuk dingin:  0\n",
      "32  derajat keanggotaan untuk panas:  0\n",
      "32  derajat keanggotaan untuk hangat:  1\n",
      "\n",
      "26  derajat keanggotaan untuk dingin:  0.4\n",
      "26  derajat keanggotaan untuk panas:  0\n",
      "26  derajat keanggotaan untuk hangat:  0.6\n",
      "\n",
      "37  derajat keanggotaan untuk dingin:  0\n",
      "37  derajat keanggotaan untuk panas:  0.4\n",
      "37  derajat keanggotaan untuk hangat:  0.6\n",
      "\n",
      "38  derajat keanggotaan untuk dingin:  0\n",
      "38  derajat keanggotaan untuk panas:  0.6\n",
      "38  derajat keanggotaan untuk hangat:  0.4\n",
      "\n"
     ]
    }
   ],
   "source": [
    "def slope_membership(t, min_t, max_t, min_membership, max_membership):\n",
    "    return (((t-min_t)*(max_membership-min_membership)) / (max_t - min_t)) + min_membership\n",
    "\n",
    "def dingin(t):\n",
    "    if t < 20:\n",
    "        return 1\n",
    "    elif t > 30:\n",
    "        return 0\n",
    "    else:\n",
    "        return slope_membership(t, 20.0, 30.0, 1.0, 0.0)\n",
    "def panas(t):\n",
    "    if t < 35:\n",
    "        return 0\n",
    "    elif t > 40:\n",
    "        return 1\n",
    "    else:\n",
    "        return slope_membership(t, 35.0, 40.0, 0, 1.0)\n",
    "def hangat(t):\n",
    "    if t<20 or t>40:\n",
    "        return 0\n",
    "    elif t>30 and t<35:\n",
    "        return 1\n",
    "    elif t>=20 and t<=30 : # slope kiri\n",
    "        return slope_membership(t, 20.0, 30.0, 0, 1.0)\n",
    "    elif t>=35 and t<=40: # slope kanan\n",
    "        return slope_membership(t, 35.0, 40.0, 1.0, 0)\n",
    "\n",
    "t_list = [19, 32, 26, 37, 38]\n",
    "for t in t_list:\n",
    "    print t, \" derajat keanggotaan untuk dingin: \", dingin(t)\n",
    "    print t, \" derajat keanggotaan untuk panas: \", panas(t)\n",
    "    print t, \" derajat keanggotaan untuk hangat: \", hangat(t)\n",
    "    print ''"
   ]
  },
  {
   "cell_type": "code",
   "execution_count": null,
   "metadata": {
    "collapsed": true
   },
   "outputs": [],
   "source": []
  },
  {
   "cell_type": "code",
   "execution_count": null,
   "metadata": {
    "collapsed": true
   },
   "outputs": [],
   "source": []
  }
 ],
 "metadata": {
  "kernelspec": {
   "display_name": "Python 2",
   "language": "python",
   "name": "python2"
  },
  "language_info": {
   "codemirror_mode": {
    "name": "ipython",
    "version": 2
   },
   "file_extension": ".py",
   "mimetype": "text/x-python",
   "name": "python",
   "nbconvert_exporter": "python",
   "pygments_lexer": "ipython2",
   "version": "2.7.11+"
  }
 },
 "nbformat": 4,
 "nbformat_minor": 0
}
