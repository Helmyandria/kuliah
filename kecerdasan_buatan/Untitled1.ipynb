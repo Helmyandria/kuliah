{
 "cells": [
  {
   "cell_type": "code",
   "execution_count": 1,
   "metadata": {
    "collapsed": false
   },
   "outputs": [
    {
     "name": "stdout",
     "output_type": "stream",
     "text": [
      "Jika suhu  26  derajat, maka rpm =  300.0\n",
      "Jika suhu  25.75  derajat, maka rpm =  225.0\n",
      "Jika suhu  29  derajat, maka rpm =  1200.0\n",
      "Jika suhu  28  derajat, maka rpm =  900.0\n",
      "Jika suhu  28.5  derajat, maka rpm =  1050.0\n",
      "Jika suhu  31.75  derajat, maka rpm =  1500\n"
     ]
    }
   ],
   "source": [
    "def rpm(suhu):\n",
    "    if suhu < 25:\n",
    "        return 0\n",
    "    elif suhu > 30:\n",
    "        return 1500\n",
    "    else:\n",
    "        return (suhu-25)/5.0 * 1500\n",
    "\n",
    "suhu_list = (26, 25.75, 29, 28, 28.5, 31.75)\n",
    "for suhu in suhu_list:\n",
    "    print 'Jika suhu ', suhu, ' derajat, maka rpm = ', rpm(suhu)"
   ]
  },
  {
   "cell_type": "code",
   "execution_count": null,
   "metadata": {
    "collapsed": true
   },
   "outputs": [],
   "source": []
  }
 ],
 "metadata": {
  "kernelspec": {
   "display_name": "Python 2",
   "language": "python",
   "name": "python2"
  },
  "language_info": {
   "codemirror_mode": {
    "name": "ipython",
    "version": 2
   },
   "file_extension": ".py",
   "mimetype": "text/x-python",
   "name": "python",
   "nbconvert_exporter": "python",
   "pygments_lexer": "ipython2",
   "version": "2.7.10"
  }
 },
 "nbformat": 4,
 "nbformat_minor": 0
}
