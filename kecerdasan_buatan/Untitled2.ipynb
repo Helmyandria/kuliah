{
 "cells": [
  {
   "cell_type": "code",
   "execution_count": 20,
   "metadata": {
    "collapsed": false
   },
   "outputs": [
    {
     "name": "stdout",
     "output_type": "stream",
     "text": [
      "DFS ========================\n",
      "CANADA ['USA', 'ALGERIA'] ['CANADA'] \n",
      "{'ALGERIA': 'CANADA', 'USA': 'CANADA'} \n",
      "\n",
      "ALGERIA ['USA', 'UK'] ['CANADA', 'ALGERIA'] \n",
      "{'UK': 'ALGERIA', 'ALGERIA': 'CANADA', 'USA': 'CANADA'} \n",
      "\n",
      "UK ['USA', 'USA'] ['CANADA', 'ALGERIA', 'UK'] \n",
      "{'UK': 'ALGERIA', 'ALGERIA': 'CANADA', 'USA': 'UK'} \n",
      "\n",
      "USA ['USA', 'MEXICO'] ['CANADA', 'ALGERIA', 'UK', 'USA'] \n",
      "{'UK': 'ALGERIA', 'ALGERIA': 'CANADA', 'USA': 'UK', 'MEXICO': 'USA'} \n",
      "\n",
      "MEXICO ['USA'] ['CANADA', 'ALGERIA', 'UK', 'USA', 'MEXICO'] \n",
      "{'UK': 'ALGERIA', 'ALGERIA': 'CANADA', 'USA': 'UK', 'MEXICO': 'USA'} \n",
      "\n",
      "PATH :  ['CANADA', 'ALGERIA', 'UK', 'USA', 'MEXICO']\n",
      "DISTANCE :  16\n",
      "\n",
      "BFS ========================\n",
      "CANADA ['ALGERIA', 'USA'] ['CANADA'] \n",
      "{'ALGERIA': 'CANADA', 'USA': 'CANADA'} \n",
      "\n",
      "USA ['MEXICO', 'UK', 'ALGERIA'] ['CANADA', 'USA'] \n",
      "{'UK': 'USA', 'ALGERIA': 'CANADA', 'USA': 'CANADA', 'MEXICO': 'USA'} \n",
      "\n",
      "ALGERIA ['UK', 'MEXICO', 'UK'] ['CANADA', 'USA', 'ALGERIA'] \n",
      "{'UK': 'ALGERIA', 'ALGERIA': 'CANADA', 'USA': 'CANADA', 'MEXICO': 'USA'} \n",
      "\n",
      "UK ['UK', 'MEXICO'] ['CANADA', 'USA', 'ALGERIA', 'UK'] \n",
      "{'UK': 'ALGERIA', 'ALGERIA': 'CANADA', 'USA': 'CANADA', 'MEXICO': 'USA'} \n",
      "\n",
      "MEXICO ['UK'] ['CANADA', 'USA', 'ALGERIA', 'UK', 'MEXICO'] \n",
      "{'UK': 'ALGERIA', 'ALGERIA': 'CANADA', 'USA': 'CANADA', 'MEXICO': 'USA'} \n",
      "\n",
      "PATH :  ['CANADA', 'USA', 'MEXICO']\n",
      "DISTANCE :  63\n",
      "\n"
     ]
    }
   ],
   "source": [
    "NODES = {'USA', 'UK', 'CANADA', 'ALGERIA', 'MEXICO'}\n",
    "EDGES = {\n",
    "    'USA' : {'UK' : 10, 'CANADA' : 60, 'MEXICO' : 3},\n",
    "    'UK' : {'USA' : 10, 'ALGERIA' : 1},\n",
    "    'CANADA' : {'ALGERIA' : 2, 'USA' : 60},\n",
    "    'ALGERIA' : {'UK' : 1, 'CANADA' : 2},\n",
    "    'MEXICO' : {'USA' : 3}\n",
    "}\n",
    "START = 'CANADA'\n",
    "END = 'MEXICO'\n",
    "\n",
    "def cari_jalur(EDGES, START, END, MODE='DFS'):\n",
    "    openned_list = [START]\n",
    "    closed_list = []\n",
    "    from_dict = {}\n",
    "    evaluated = ''\n",
    "    # Lakukan selama openned_list belum kosong, dan evaluated != END\n",
    "    while len(openned_list) > 0 and evaluated != END:\n",
    "        # Pop dari openned_list, masukkan ke evaluated\n",
    "        evaluated = openned_list.pop()\n",
    "        # Push tetangga evaluated ke openned list\n",
    "        for child in EDGES[evaluated]:\n",
    "            if(child not in closed_list):\n",
    "                if MODE == 'DFS':\n",
    "                    openned_list.append(child)\n",
    "                else:\n",
    "                    openned_list.insert(0, child)\n",
    "                from_dict[child] = evaluated\n",
    "        # Masukkan evaluated ke closed list\n",
    "        closed_list.append(evaluated)\n",
    "        print evaluated, openned_list, closed_list, '\\n', from_dict, '\\n'\n",
    "    # Tampilkan jalur\n",
    "    x = evaluated\n",
    "    if x == END:\n",
    "        path = [] # jalur dari start sampai end\n",
    "        while x != START:\n",
    "            path.insert(0, x)\n",
    "            x = from_dict[x]\n",
    "        path.insert(0, START)\n",
    "        print 'PATH : ', path\n",
    "        distance = 0 # jarak\n",
    "        for i in range(len(path)-1):\n",
    "            distance += EDGES[path[i]][path[i+1]]\n",
    "        print 'DISTANCE : ', distance\n",
    "    print ''\n",
    "\n",
    "# DFS\n",
    "print 'DFS ========================'\n",
    "cari_jalur(EDGES, START, END, 'DFS')\n",
    "\n",
    "# BFS\n",
    "print 'BFS ========================'\n",
    "cari_jalur(EDGES, START, END, 'BFS')"
   ]
  },
  {
   "cell_type": "code",
   "execution_count": 34,
   "metadata": {
    "collapsed": false
   },
   "outputs": [
    {
     "name": "stdout",
     "output_type": "stream",
     "text": [
      "1.0\n"
     ]
    }
   ],
   "source": [
    "import random\n",
    "print round(1+random.random()*10)"
   ]
  },
  {
   "cell_type": "code",
   "execution_count": 33,
   "metadata": {
    "collapsed": false
   },
   "outputs": [
    {
     "name": "stdout",
     "output_type": "stream",
     "text": [
      "CANADA \n",
      "{'CANADA': [0, '', True], 'ALGERIA': [2, 'CANADA', False], 'UK': [-1, '', False], 'USA': [60, 'CANADA', False], 'MEXICO': [-1, '', False]} \n",
      "\n",
      "ALGERIA \n",
      "{'CANADA': [0, '', True], 'ALGERIA': [2, 'CANADA', True], 'UK': [3, 'ALGERIA', False], 'USA': [60, 'CANADA', False], 'MEXICO': [-1, '', False]} \n",
      "\n",
      "UK \n",
      "{'CANADA': [0, '', True], 'ALGERIA': [2, 'CANADA', True], 'UK': [3, 'ALGERIA', True], 'USA': [13, 'UK', False], 'MEXICO': [-1, '', False]} \n",
      "\n",
      "USA \n",
      "{'CANADA': [0, '', True], 'ALGERIA': [2, 'CANADA', True], 'UK': [3, 'ALGERIA', True], 'USA': [13, 'UK', True], 'MEXICO': [16, 'USA', False]} \n",
      "\n",
      "MEXICO \n",
      "{'CANADA': [0, '', True], 'ALGERIA': [2, 'CANADA', True], 'UK': [3, 'ALGERIA', True], 'USA': [13, 'UK', True], 'MEXICO': [16, 'USA', True]} \n",
      "\n",
      "DISTANCE :  16\n",
      "PATH :  ['CANADA', 'ALGERIA', 'UK', 'USA', 'MEXICO']\n"
     ]
    }
   ],
   "source": [
    "NODES = {'USA', 'UK', 'CANADA', 'ALGERIA', 'MEXICO'}\n",
    "EDGES = {\n",
    "    'USA' : {'UK' : 10, 'CANADA' : 60, 'MEXICO' : 3},\n",
    "    'UK' : {'USA' : 10, 'ALGERIA' : 1},\n",
    "    'CANADA' : {'USA' : 60, 'ALGERIA' : 2},\n",
    "    'ALGERIA' : {'UK' : 1, 'CANADA' : 2},\n",
    "    'MEXICO' : {'USA' : 3}\n",
    "}\n",
    "START = 'CANADA'\n",
    "END = 'MEXICO'\n",
    "\n",
    "evaluated = START\n",
    "table = {}\n",
    "for node in NODES:\n",
    "    shortest_distance = -1 if node!= START else 0\n",
    "    table[node] = [shortest_distance,'', False] # shortest distance, from, closed\n",
    "finished = False\n",
    "\n",
    "# lakukan selama syarat dan ketentuan berlaku\n",
    "while not finished:\n",
    "    # tutup evaluated\n",
    "    table[evaluated][2] = True\n",
    "    distance_so_far = table[evaluated][0]\n",
    "    # lihat evaluated bisa ke mana aja\n",
    "    for child in EDGES[evaluated]:\n",
    "        new_distance = EDGES[evaluated][child]\n",
    "        # masukkan anak-anak evaluated ke table jika jaraknya kurang dari jarak di table\n",
    "        #    atau belum jarak di table = -1 dan belum closed\n",
    "        distance, origin, closed = table[child]\n",
    "        if not closed and (distance == -1 or distance>new_distance):\n",
    "            table[child] = [new_distance+distance_so_far, evaluated, False]\n",
    "    # pilih dari table yang jaraknya terkecil dan masih openned, masukkan ke evaluated\n",
    "    min_distance = -1\n",
    "    next_evaluated = ''\n",
    "    for node in table:\n",
    "        distance, origin, closed = table[node]\n",
    "        if not closed and (distance < min_distance or min_distance == -1) and distance != -1:\n",
    "            next_evaluated = node\n",
    "            min_distance = distance\n",
    "    print evaluated, '\\n',table, '\\n'\n",
    "    # tentukan finish atau tidak\n",
    "    if next_evaluated == '':\n",
    "        finished = True\n",
    "    else:\n",
    "        evaluated = next_evaluated\n",
    "        \n",
    "\n",
    "if table[END][2]: # jika ada jalan ke END\n",
    "    distance = table[END][0]\n",
    "    path = [END]\n",
    "    x = END\n",
    "    while x != START:\n",
    "        x = table[x][1]\n",
    "        path.insert(0,x)\n",
    "    print 'DISTANCE : ', distance\n",
    "    print 'PATH : ', path"
   ]
  }
 ],
 "metadata": {
  "kernelspec": {
   "display_name": "Python 2",
   "language": "python",
   "name": "python2"
  },
  "language_info": {
   "codemirror_mode": {
    "name": "ipython",
    "version": 2
   },
   "file_extension": ".py",
   "mimetype": "text/x-python",
   "name": "python",
   "nbconvert_exporter": "python",
   "pygments_lexer": "ipython2",
   "version": "2.7.11+"
  }
 },
 "nbformat": 4,
 "nbformat_minor": 0
}
