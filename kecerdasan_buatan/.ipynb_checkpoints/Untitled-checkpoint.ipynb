{
 "cells": [
  {
   "cell_type": "code",
   "execution_count": 17,
   "metadata": {
    "collapsed": false
   },
   "outputs": [
    {
     "name": "stdout",
     "output_type": "stream",
     "text": [
      "2.5 3.99618036026\n",
      "2.6 3.88875342955\n",
      "2.4 4.08865795138\n"
     ]
    },
    {
     "data": {
      "image/png": "[encoded data removed]",
      "text/plain": [
       "<matplotlib.figure.Figure at 0x7f4bc3805410>"
      ]
     },
     "metadata": {},
     "output_type": "display_data"
    }
   ],
   "source": [
    "%matplotlib inline\n",
    "import numpy as np\n",
    "import matplotlib.pyplot as plt\n",
    "\n",
    "x = np.arange(0,10,0.1)\n",
    "y = np.sin(x) + 3*np.sin(x)/2 + x\n",
    "plt.ylabel('keuntungan')\n",
    "plt.xlabel('modal')\n",
    "plt.plot(x,y)\n",
    "\n",
    "def keuntungan(modal):\n",
    "    return np.sin(modal) + 3*np.sin(modal)/2 + modal\n",
    "\n",
    "def hill_climbing(modal_awal, step):\n",
    "    untung_awal = keuntungan(modal_awal)\n",
    "    modal_kiri = modal_awal - step\n",
    "    modal_kanan = modal_awal + step\n",
    "    untung_kiri = keuntungan(modal_kiri)\n",
    "    untung_kanan = keuntungan(modal_kanan)\n",
    "    if untung_awal >= untung_kiri and untung_awal >= untung_kanan:\n",
    "        return modal_awal\n",
    "    elif untung_kiri > untung_awal and untung_kiri > untung_kanan:\n",
    "        return hill_climbing(modal_kiri)\n",
    "    elif untung_kanan < untung_awal and untung_kanan > untung_kiri:\n",
    "        return hill_climbing(modal_kanan)\n",
    "\n",
    "hill_climbing(2.5, 0.1)"
   ]
  },
  {
   "cell_type": "code",
   "execution_count": null,
   "metadata": {
    "collapsed": true
   },
   "outputs": [],
   "source": []
  }
 ],
 "metadata": {
  "kernelspec": {
   "display_name": "Python 2",
   "language": "python",
   "name": "python2"
  },
  "language_info": {
   "codemirror_mode": {
    "name": "ipython",
    "version": 2
   },
   "file_extension": ".py",
   "mimetype": "text/x-python",
   "name": "python",
   "nbconvert_exporter": "python",
   "pygments_lexer": "ipython2",
   "version": "2.7.10"
  }
 },
 "nbformat": 4,
 "nbformat_minor": 0
}
