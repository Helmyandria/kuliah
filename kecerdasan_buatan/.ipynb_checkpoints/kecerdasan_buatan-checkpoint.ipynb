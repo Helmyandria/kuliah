{
 "metadata": {
  "name": "",
  "signature": "sha256:039080ee03d101e709a0f5d2eb883b46c5a83f73f18e13a02ee2f4b6b9cdfa72"
 },
 "nbformat": 3,
 "nbformat_minor": 0,
 "worksheets": [
  {
   "cells": [
    {
     "cell_type": "heading",
     "level": 1,
     "metadata": {},
     "source": [
      "Introduction"
     ]
    },
    {
     "cell_type": "markdown",
     "metadata": {
      "slideshow": {
       "slide_type": "-"
      }
     },
     "source": [
      "Outline\n",
      "=======\n",
      "\n",
      "* Artificial Intelligence\n",
      "    * What?\n",
      "    * Where?\n",
      "* Intelligent Agents\n",
      "* Searching\n",
      "    * Blind Search\n",
      "    * Heuristic Search\n",
      "* Reasoning\n",
      "    * Proportional Logic\n",
      "    * First Order Logic\n",
      "    * Fuzzy Logic\n",
      "* Learning\n",
      "    * Neural Network\n",
      "    * SVM\n",
      "* Optimization\n",
      "    * Genetics Algorithm\n",
      "    * Ant Colony"
     ]
    },
    {
     "cell_type": "markdown",
     "metadata": {
      "slideshow": {
       "slide_type": "-"
      }
     },
     "source": [
      "What is AI?\n",
      "===========\n",
      "\n",
      "Something that:\n",
      "\n",
      "* Think humanly\n",
      "* Think rationally\n",
      "* Act humanly\n",
      "* Act rationally"
     ]
    },
    {
     "cell_type": "markdown",
     "metadata": {
      "slideshow": {
       "slide_type": "-"
      }
     },
     "source": [
      "Where and when?\n",
      "===============\n",
      "\n",
      "* Air conditioner's automatic adjustment (Fuzzy Logic)\n",
      "* GPS's route searching (Searching)\n",
      "* Auto-pilot (Machine Learning, sort of)\n",
      "* Diagnostic Expert System (Forward chaining, backward chaining, case based reasoning)\n",
      "* Face Recognition in your smart cammera\n",
      "* Effect & Weather Prediction\n",
      "* Robot"
     ]
    },
    {
     "cell_type": "heading",
     "level": 1,
     "metadata": {
      "slideshow": {
       "slide_type": "-"
      }
     },
     "source": [
      "Intelligence Agent"
     ]
    },
    {
     "cell_type": "markdown",
     "metadata": {
      "slideshow": {
       "slide_type": "-"
      }
     },
     "source": [
      "Agent\n",
      "=====\n",
      "\n",
      "Something that perceiving its environment through *sensors* and *acting* upon that environment through *actuators*\n",
      "\n",
      "* Human\n",
      "* Software\n",
      "* Robot\n",
      "\n",
      "Agent Type:\n",
      "-----------\n",
      "\n",
      "* Simple reflex agents\n",
      "* Model-based reflex agents\n",
      "* Goal-based agents\n",
      "* Utility-based agents\n",
      "* Learning agents"
     ]
    },
    {
     "cell_type": "markdown",
     "metadata": {
      "slideshow": {
       "slide_type": "-"
      }
     },
     "source": [
      "Simple Reflex\n",
      "=============\n",
      "\n",
      "![Simple Reflex](files/resources/IntelligentAgent-SimpleReflex.png)\n",
      "\n"
     ]
    },
    {
     "cell_type": "markdown",
     "metadata": {
      "slideshow": {
       "slide_type": "-"
      }
     },
     "source": [
      "Model Based Reflex\n",
      "==================\n",
      "\n",
      "![Simple Reflex](files/resources/Model_based_reflex_agent.png)\n",
      "\n"
     ]
    },
    {
     "cell_type": "markdown",
     "metadata": {
      "slideshow": {
       "slide_type": "-"
      }
     },
     "source": [
      "Goal Based\n",
      "=============\n",
      "\n",
      "![Simple Reflex](files/resources/Model_based_goal_based_agent.png)\n",
      "\n"
     ]
    },
    {
     "cell_type": "markdown",
     "metadata": {
      "slideshow": {
       "slide_type": "-"
      }
     },
     "source": [
      "Utility Based\n",
      "=============\n",
      "\n",
      "![Simple Reflex](files/resources/Model_based_utility_based.png)\n",
      "\n"
     ]
    },
    {
     "cell_type": "markdown",
     "metadata": {
      "slideshow": {
       "slide_type": "-"
      }
     },
     "source": [
      "Learning\n",
      "=============\n",
      "\n",
      "![Simple Reflex](files/resources/IntelligentAgent-Learning.png)\n",
      "\n"
     ]
    },
    {
     "cell_type": "markdown",
     "metadata": {
      "slideshow": {
       "slide_type": "-"
      }
     },
     "source": [
      "Environment\n",
      "===========\n",
      "\n",
      "* Observability\n",
      "    * Fully observable\n",
      "    * Partialy observable\n",
      "* Determinism\n",
      "    * Deterministic\n",
      "    * Not Deterministic\n",
      "* Change\n",
      "    * Static \n",
      "    * Dynamic\n",
      "* Discrete/Continue\n",
      "    * Discrete\n",
      "    * Continue"
     ]
    },
    {
     "cell_type": "markdown",
     "metadata": {
      "slideshow": {
       "slide_type": "-"
      }
     },
     "source": [
      "Vacuum Cleaner World\n",
      "====================\n",
      "\n",
      "![Vacuum Cleaner](files/resources/vacum-cleaner-world.png)\n",
      "\n",
      "* Environment : Location, State (Clear or Dirty)\n",
      "* Action : Move left, Move right, Clean up"
     ]
    },
    {
     "cell_type": "code",
     "collapsed": false,
     "input": [
      "posisi_robot = 'a'\n",
      "kondisi = {'a' : 1, 'b': 0}\n",
      "\n",
      "def ke_kiri():\n",
      "    global posisi_robot\n",
      "    if posisi_robot == 'b':\n",
      "        posisi_robot = 'a'\n",
      "        print(\"ke kiri\")\n",
      "\n",
      "def ke_kanan():\n",
      "    global posisi_robot\n",
      "    if posisi_robot == 'a':\n",
      "        posisi_robot = 'b'\n",
      "        print(\"ke kanan\")\n",
      "\n",
      "def bersihkan():\n",
      "    global kondisi\n",
      "    if kondisi[posisi_robot] == 1:\n",
      "        kondisi[posisi_robot] = 0\n",
      "        print(\"bersihkan\")\n",
      "\n",
      "def aksi():\n",
      "    if kondisi[posisi_robot] == 1:\n",
      "        bersihkan()\n",
      "    elif posisi_robot == 'a':\n",
      "        ke_kanan()\n",
      "    elif posisi_robot == 'b':\n",
      "        ke_kiri()\n",
      "\n",
      "for x in xrange(3):\n",
      "    aksi()"
     ],
     "language": "python",
     "metadata": {},
     "outputs": [
      {
       "output_type": "stream",
       "stream": "stdout",
       "text": [
        "bersihkan\n",
        "ke kanan\n",
        "ke kiri\n"
       ]
      }
     ],
     "prompt_number": 5
    },
    {
     "cell_type": "markdown",
     "metadata": {
      "slideshow": {
       "slide_type": "-"
      }
     },
     "source": [
      "Arduino based Sonar Robot\n",
      "=========================\n",
      "\n",
      "![](files/resources/sonar-robot.jpg)"
     ]
    },
    {
     "cell_type": "heading",
     "level": 1,
     "metadata": {
      "slideshow": {
       "slide_type": "-"
      }
     },
     "source": [
      "Searching"
     ]
    },
    {
     "cell_type": "markdown",
     "metadata": {
      "slideshow": {
       "slide_type": "-"
      }
     },
     "source": [
      "Searching\n",
      "---------\n",
      "\n",
      "* Blind Search (Without approximation)\n",
      "    * DFS (Depth First Search)\n",
      "    * BFS (Breadth First Search)\n",
      "    * Dijkstra\n",
      "* Heuristic Search (With approximation\n",
      "    * A*\n",
      "    * Hill Climbing\n",
      "    * Simulated Annealing"
     ]
    },
    {
     "cell_type": "markdown",
     "metadata": {
      "slideshow": {
       "slide_type": "-"
      }
     },
     "source": [
      "DFS\n",
      "===\n",
      "![](files/resources/300px-Depth-first-tree.svg.png)\n"
     ]
    },
    {
     "cell_type": "markdown",
     "metadata": {
      "slideshow": {
       "slide_type": "-"
      }
     },
     "source": [
      "BFS\n",
      "---\n",
      "![](files/resources/300px-Breadth-first-tree.svg.png)"
     ]
    },
    {
     "cell_type": "markdown",
     "metadata": {
      "slideshow": {
       "slide_type": "-"
      }
     },
     "source": [
      "Dijkstra\n",
      "--------\n",
      "\n",
      "![](files/resources/Dijkstra_Animation.gif)\n",
      "\n",
      "![](files/resources/Dijkstras_progress_animation.gif)\n"
     ]
    },
    {
     "cell_type": "markdown",
     "metadata": {
      "slideshow": {
       "slide_type": "-"
      }
     },
     "source": [
      "A*\n",
      "--\n",
      "\n",
      "Dijkstra + Heuristic\n",
      "\n",
      "![](files/resources/Astar_progress_animation.gif)"
     ]
    },
    {
     "cell_type": "markdown",
     "metadata": {
      "slideshow": {
       "slide_type": "-"
      }
     },
     "source": [
      "Hill Climbing & Simulated Annealing\n",
      "-----------------------------------\n",
      "![](files/resources/Hill_Climbing_with_Simulated_Annealing.gif)"
     ]
    },
    {
     "cell_type": "heading",
     "level": 1,
     "metadata": {},
     "source": [
      "Fuzzy Logic"
     ]
    },
    {
     "cell_type": "markdown",
     "metadata": {},
     "source": [
      "* Fuzzy Set\n",
      "* Fuzzification\n",
      "* Inference\n",
      "* Defuzzification"
     ]
    },
    {
     "cell_type": "markdown",
     "metadata": {},
     "source": [
      "Fuzzy Set vs Crisp Set\n",
      "======================\n",
      "\n",
      "Crisp Set: hot, not cold\n",
      "\n",
      "Fuzzy Set: 80% hot, 20% cold\n",
      "\n",
      "Poisoned water"
     ]
    },
    {
     "cell_type": "markdown",
     "metadata": {},
     "source": [
      "Membership Function\n",
      "===================\n",
      "* Sigmoid\n",
      "* Trapesium\n",
      "* Triangle\n",
      "\n",
      "Example:\n",
      "![Fuzzy Example](resources/fuzzy-example.png)\n",
      "\n",
      "$20^0 ke bawah$ = 100% cold\n",
      "\n",
      "$30^0 ke atas$ = 0% cold\n",
      "\n",
      "$20^0 ke bawah$ = 0% warm\n",
      "\n",
      "$30^0 sampai 35^0$ = 100% warm\n",
      "\n",
      "$40^0 ke atas$ = 0% warm"
     ]
    },
    {
     "cell_type": "code",
     "collapsed": false,
     "input": [
      "temperature = 24\n",
      "# derajat keanggotaan cold\n",
      "if temperature <= 20:\n",
      "    cold = 1\n",
      "elif temperature >= 30:\n",
      "    cold = 0\n",
      "else:\n",
      "    cold = (temperature - 20.0)/(30.0 - 20.0)\n",
      "# derajat keanggotaan warm\n",
      "if temperature >= 30 and temperature <= 35:\n",
      "    warm = 1\n",
      "elif temperature <= 20 or temperature >= 40:\n",
      "    warm = 0\n",
      "elif temperature >= 20 and temperature <= 30:\n",
      "    warm = 1 - ((temperature - 20.0)/(30-20))\n",
      "else:\n",
      "    warm = (temperature-30.0)/(30-30)\n",
      "    \n",
      "print 'cold: ' + str(cold)\n",
      "print 'warm: ' + str(warm)"
     ],
     "language": "python",
     "metadata": {},
     "outputs": [
      {
       "output_type": "stream",
       "stream": "stdout",
       "text": [
        "cold: 0.4\n",
        "warm: 0.6\n"
       ]
      }
     ],
     "prompt_number": 3
    },
    {
     "cell_type": "markdown",
     "metadata": {},
     "source": [
      "Inference\n",
      "=========\n",
      "\n",
      "NOT x = (1 - truth(x))\n",
      "\n",
      "x AND y = minimum(truth(x), truth(y))\n",
      "\n",
      "x OR y = maximum(truth(x), truth(y))\n",
      "\n",
      "\n",
      "Inference (multiply)\n",
      "====================\n",
      "\n",
      "x AND y = x*y\n",
      "\n",
      "x OR y = 1-(1-x)*(1-y)\n",
      "\n",
      "Inference (sigmoid)\n",
      "===================\n",
      "\n",
      "sigmoid(x)=1/(1+e^-x)\n",
      "\n",
      "sigmoid(x)+sigmoid(-x) = 1\n",
      "\n",
      "(sigmoid(x)+sigmoid(-x))*(sigmoid(y)+sigmoid(-y))*(sigmoid(z)+sigmoid(-z)) = 1"
     ]
    },
    {
     "cell_type": "code",
     "collapsed": false,
     "input": [
      "dingin = 0.3\n",
      "hangat = 0.7\n",
      "panas = 0\n",
      "\n",
      "terang = 0\n",
      "normal = 0.4\n",
      "gelap = 0.3\n",
      "\n",
      "def fuzzy_not(nilai):\n",
      "    return 1.0 - nilai\n",
      "\n",
      "def fuzzy_and(nilai_1, nilai_2):\n",
      "    return min([nilai_1, nilai_2])\n",
      "\n",
      "def fuzzy_or(nilai_1, nilai_2):\n",
      "    return max([nilai_1, nilai_2])\n",
      "\n",
      "'''\n",
      "Jika dingin AND gelap maka tidur\n",
      "Jika panas OR terang maka bekerja\n",
      "jika NOT gelap maka belajar\n",
      "'''\n",
      "    \n",
      "belajar = fuzzy_not(gelap)\n",
      "tidur = fuzzy_and(dingin, gelap)\n",
      "bekerja = fuzzy_or(panas, terang)\n",
      "print 'belajar : ' + str(belajar)\n",
      "print 'tidur   : ' + str(tidur)\n",
      "print 'bekerja : ' + str(bekerja)"
     ],
     "language": "python",
     "metadata": {},
     "outputs": [
      {
       "output_type": "stream",
       "stream": "stdout",
       "text": [
        "belajar : 0.7\n",
        "tidur   : 0.3\n",
        "bekerja : 0\n"
       ]
      }
     ],
     "prompt_number": 6
    },
    {
     "cell_type": "markdown",
     "metadata": {},
     "source": [
      "Defuzzification\n",
      "===============\n",
      "\n",
      "* Maximum\n",
      "* Center of Gravity\n"
     ]
    },
    {
     "cell_type": "heading",
     "level": 1,
     "metadata": {},
     "source": [
      "Neural Network"
     ]
    },
    {
     "cell_type": "code",
     "collapsed": false,
     "input": [
      "import numpy as np\n",
      "\n",
      "def sigmoid(x):\n",
      "    return 1.0/(1.0 + np.exp(-x))\n",
      "\n",
      "def sigmoid_prime(x):\n",
      "    return sigmoid(x)*(1.0-sigmoid(x))\n",
      "\n",
      "def tanh(x):\n",
      "    return np.tanh(x)\n",
      "\n",
      "def tanh_prime(x):\n",
      "    return 1.0 - x**2\n",
      "\n",
      "\n",
      "class NeuralNetwork:\n",
      "\n",
      "    def __init__(self, layers, activation='tanh'):\n",
      "        if activation == 'sigmoid':\n",
      "            self.activation = sigmoid\n",
      "            self.activation_prime = sigmoid_prime\n",
      "        elif activation == 'tanh':\n",
      "            self.activation = tanh\n",
      "            self.activation_prime = tanh_prime\n",
      "\n",
      "        # Set weights\n",
      "        self.weights = []\n",
      "        # layers = [2,2,1]\n",
      "        # range of weight values (-1,1)\n",
      "        # input and hidden layers - random((2+1, 2+1)) : 3 x 3\n",
      "        for i in range(1, len(layers) - 1):\n",
      "            r = 2*np.random.random((layers[i-1] + 1, layers[i] + 1)) -1\n",
      "            self.weights.append(r)\n",
      "        # output layer - random((2+1, 1)) : 3 x 1\n",
      "        r = 2*np.random.random( (layers[i] + 1, layers[i+1])) - 1\n",
      "        self.weights.append(r)\n",
      "\n",
      "    def fit(self, X, y, learning_rate=0.2, epochs=100000):\n",
      "        # Add column of ones to X\n",
      "        # This is to add the bias unit to the input layer\n",
      "        ones = np.atleast_2d(np.ones(X.shape[0]))\n",
      "        X = np.concatenate((ones.T, X), axis=1)\n",
      "         \n",
      "        for k in range(epochs):\n",
      "            i = np.random.randint(X.shape[0])\n",
      "            a = [X[i]]\n",
      "\n",
      "            for l in range(len(self.weights)):\n",
      "                    dot_value = np.dot(a[l], self.weights[l])\n",
      "                    activation = self.activation(dot_value)\n",
      "                    a.append(activation)\n",
      "            # output layer\n",
      "            error = y[i] - a[-1]\n",
      "            deltas = [error * self.activation_prime(a[-1])]\n",
      "\n",
      "            # we need to begin at the second to last layer \n",
      "            # (a layer before the output layer)\n",
      "            for l in range(len(a) - 2, 0, -1): \n",
      "                deltas.append(deltas[-1].dot(self.weights[l].T)*self.activation_prime(a[l]))\n",
      "\n",
      "            # reverse\n",
      "            # [level3(output)->level2(hidden)]  => [level2(hidden)->level3(output)]\n",
      "            deltas.reverse()\n",
      "\n",
      "            # backpropagation\n",
      "            # 1. Multiply its output delta and input activation \n",
      "            #    to get the gradient of the weight.\n",
      "            # 2. Subtract a ratio (percentage) of the gradient from the weight.\n",
      "            for i in range(len(self.weights)):\n",
      "                layer = np.atleast_2d(a[i])\n",
      "                delta = np.atleast_2d(deltas[i])\n",
      "                self.weights[i] += learning_rate * layer.T.dot(delta)\n",
      "\n",
      "            if k % 10000 == 0: print 'epochs:', k\n",
      "\n",
      "    def predict(self, x): \n",
      "        a = np.concatenate((np.ones(1).T, np.array(x)), axis=1)      \n",
      "        for l in range(0, len(self.weights)):\n",
      "            a = self.activation(np.dot(a, self.weights[l]))\n",
      "        return a\n",
      "\n",
      "if __name__ == '__main__':\n",
      "\n",
      "    nn = NeuralNetwork([2,2,1])\n",
      "    X = np.array([[0, 0],\n",
      "                  [0, 1],\n",
      "                  [1, 0],\n",
      "                  [1, 1]])\n",
      "    y = np.array([0, 1, 1, 0])\n",
      "    nn.fit(X, y)\n",
      "    for e in X:\n",
      "        print(e,nn.predict(e))"
     ],
     "language": "python",
     "metadata": {},
     "outputs": [
      {
       "output_type": "stream",
       "stream": "stdout",
       "text": [
        "epochs: 0\n",
        "epochs:"
       ]
      },
      {
       "output_type": "stream",
       "stream": "stdout",
       "text": [
        " 10000\n",
        "epochs:"
       ]
      },
      {
       "output_type": "stream",
       "stream": "stdout",
       "text": [
        " 20000\n",
        "epochs:"
       ]
      },
      {
       "output_type": "stream",
       "stream": "stdout",
       "text": [
        " 30000\n",
        "epochs:"
       ]
      },
      {
       "output_type": "stream",
       "stream": "stdout",
       "text": [
        " 40000\n",
        "epochs:"
       ]
      },
      {
       "output_type": "stream",
       "stream": "stdout",
       "text": [
        " 50000\n",
        "epochs:"
       ]
      },
      {
       "output_type": "stream",
       "stream": "stdout",
       "text": [
        " 60000\n",
        "epochs:"
       ]
      },
      {
       "output_type": "stream",
       "stream": "stdout",
       "text": [
        " 70000\n",
        "epochs:"
       ]
      },
      {
       "output_type": "stream",
       "stream": "stdout",
       "text": [
        " 80000\n",
        "epochs:"
       ]
      },
      {
       "output_type": "stream",
       "stream": "stdout",
       "text": [
        " 90000\n",
        "(array([0, 0]), array([  2.07040848e-05]))"
       ]
      },
      {
       "output_type": "stream",
       "stream": "stdout",
       "text": [
        "\n",
        "(array([0, 1]), array([ 0.99724808]))\n",
        "(array([1, 0]), array([ 0.99601258]))\n",
        "(array([1, 1]), array([ 0.00135546]))\n",
        "[-0.76500276]\n"
       ]
      }
     ],
     "prompt_number": 4
    },
    {
     "cell_type": "markdown",
     "metadata": {},
     "source": [
      "Genetics Algorithm\n",
      "==================\n",
      "\n",
      "https://github.com/goFrendiAsgard/gogenpy"
     ]
    }
   ],
   "metadata": {}
  }
 ]
}