{
 "cells": [
  {
   "cell_type": "code",
   "execution_count": 20,
   "metadata": {
    "collapsed": false
   },
   "outputs": [
    {
     "name": "stdout",
     "output_type": "stream",
     "text": [
      "DFS ========================\n",
      "CANADA ['USA', 'ALGERIA'] ['CANADA'] \n",
      "{'ALGERIA': 'CANADA', 'USA': 'CANADA'} \n",
      "\n",
      "ALGERIA ['USA', 'UK'] ['CANADA', 'ALGERIA'] \n",
      "{'UK': 'ALGERIA', 'ALGERIA': 'CANADA', 'USA': 'CANADA'} \n",
      "\n",
      "UK ['USA', 'USA'] ['CANADA', 'ALGERIA', 'UK'] \n",
      "{'UK': 'ALGERIA', 'ALGERIA': 'CANADA', 'USA': 'UK'} \n",
      "\n",
      "USA ['USA', 'MEXICO'] ['CANADA', 'ALGERIA', 'UK', 'USA'] \n",
      "{'UK': 'ALGERIA', 'ALGERIA': 'CANADA', 'USA': 'UK', 'MEXICO': 'USA'} \n",
      "\n",
      "MEXICO ['USA'] ['CANADA', 'ALGERIA', 'UK', 'USA', 'MEXICO'] \n",
      "{'UK': 'ALGERIA', 'ALGERIA': 'CANADA', 'USA': 'UK', 'MEXICO': 'USA'} \n",
      "\n",
      "PATH :  ['CANADA', 'ALGERIA', 'UK', 'USA', 'MEXICO']\n",
      "DISTANCE :  16\n",
      "\n",
      "BFS ========================\n",
      "CANADA ['ALGERIA', 'USA'] ['CANADA'] \n",
      "{'ALGERIA': 'CANADA', 'USA': 'CANADA'} \n",
      "\n",
      "USA ['MEXICO', 'UK', 'ALGERIA'] ['CANADA', 'USA'] \n",
      "{'UK': 'USA', 'ALGERIA': 'CANADA', 'USA': 'CANADA', 'MEXICO': 'USA'} \n",
      "\n",
      "ALGERIA ['UK', 'MEXICO', 'UK'] ['CANADA', 'USA', 'ALGERIA'] \n",
      "{'UK': 'ALGERIA', 'ALGERIA': 'CANADA', 'USA': 'CANADA', 'MEXICO': 'USA'} \n",
      "\n",
      "UK ['UK', 'MEXICO'] ['CANADA', 'USA', 'ALGERIA', 'UK'] \n",
      "{'UK': 'ALGERIA', 'ALGERIA': 'CANADA', 'USA': 'CANADA', 'MEXICO': 'USA'} \n",
      "\n",
      "MEXICO ['UK'] ['CANADA', 'USA', 'ALGERIA', 'UK', 'MEXICO'] \n",
      "{'UK': 'ALGERIA', 'ALGERIA': 'CANADA', 'USA': 'CANADA', 'MEXICO': 'USA'} \n",
      "\n",
      "PATH :  ['CANADA', 'USA', 'MEXICO']\n",
      "DISTANCE :  63\n",
      "\n"
     ]
    }
   ],
   "source": [
    "NODES = {'USA', 'UK', 'CANADA', 'ALGERIA', 'MEXICO'}\n",
    "EDGES = {\n",
    "    'USA' : {'UK' : 10, 'CANADA' : 60, 'MEXICO' : 3},\n",
    "    'UK' : {'USA' : 10, 'ALGERIA' : 1},\n",
    "    'CANADA' : {'ALGERIA' : 2, 'USA' : 60},\n",
    "    'ALGERIA' : {'UK' : 1, 'CANADA' : 2},\n",
    "    'MEXICO' : {'USA' : 3}\n",
    "}\n",
    "START = 'CANADA'\n",
    "END = 'MEXICO'\n",
    "\n",
    "def cari_jalur(EDGES, START, END, MODE='DFS'):\n",
    "    openned_list = [START]\n",
    "    closed_list = []\n",
    "    from_dict = {}\n",
    "    evaluated = ''\n",
    "    # Lakukan selama openned_list belum kosong, dan evaluated != END\n",
    "    while len(openned_list) > 0 and evaluated != END:\n",
    "        # Pop dari openned_list, masukkan ke evaluated\n",
    "        evaluated = openned_list.pop()\n",
    "        # Push tetangga evaluated ke openned list\n",
    "        for child in EDGES[evaluated]:\n",
    "            if(child not in closed_list):\n",
    "                if MODE == 'DFS':\n",
    "                    openned_list.append(child)\n",
    "                else:\n",
    "                    openned_list.insert(0, child)\n",
    "                from_dict[child] = evaluated\n",
    "        # Masukkan evaluated ke closed list\n",
    "        closed_list.append(evaluated)\n",
    "        print evaluated, openned_list, closed_list, '\\n', from_dict, '\\n'\n",
    "    # Tampilkan jalur\n",
    "    x = evaluated\n",
    "    if x == END:\n",
    "        path = [] # jalur dari start sampai end\n",
    "        while x != START:\n",
    "            path.insert(0, x)\n",
    "            x = from_dict[x]\n",
    "        path.insert(0, START)\n",
    "        print 'PATH : ', path\n",
    "        distance = 0 # jarak\n",
    "        for i in range(len(path)-1):\n",
    "            distance += EDGES[path[i]][path[i+1]]\n",
    "        print 'DISTANCE : ', distance\n",
    "    print ''\n",
    "\n",
    "# DFS\n",
    "print 'DFS ========================'\n",
    "cari_jalur(EDGES, START, END, 'DFS')\n",
    "\n",
    "# BFS\n",
    "print 'BFS ========================'\n",
    "cari_jalur(EDGES, START, END, 'BFS')"
   ]
  },
  {
   "cell_type": "code",
   "execution_count": 18,
   "metadata": {
    "collapsed": false
   },
   "outputs": [
    {
     "name": "stdout",
     "output_type": "stream",
     "text": [
      "10.0\n"
     ]
    }
   ],
   "source": [
    "import random\n",
    "print round(1+random.random()*10)"
   ]
  },
  {
   "cell_type": "code",
   "execution_count": 22,
   "metadata": {
    "collapsed": false
   },
   "outputs": [
    {
     "ename": "NameError",
     "evalue": "name 'tables' is not defined",
     "output_type": "error",
     "traceback": [
      "\u001b[1;31m---------------------------------------------------------------------------\u001b[0m",
      "\u001b[1;31mNameError\u001b[0m                                 Traceback (most recent call last)",
      "\u001b[1;32m<ipython-input-22-3193de2e5846>\u001b[0m in \u001b[0;36m<module>\u001b[1;34m()\u001b[0m\n\u001b[0;32m     27\u001b[0m         \u001b[0mdistance\u001b[0m\u001b[1;33m,\u001b[0m \u001b[0morigin\u001b[0m\u001b[1;33m,\u001b[0m \u001b[0mclosed\u001b[0m \u001b[1;33m=\u001b[0m \u001b[0mtable\u001b[0m\u001b[1;33m[\u001b[0m\u001b[0mchild\u001b[0m\u001b[1;33m]\u001b[0m\u001b[1;33m\u001b[0m\u001b[0m\n\u001b[0;32m     28\u001b[0m         \u001b[1;32mif\u001b[0m \u001b[1;32mnot\u001b[0m \u001b[0mclosed\u001b[0m \u001b[1;32mand\u001b[0m \u001b[1;33m(\u001b[0m\u001b[0mdistance\u001b[0m \u001b[1;33m==\u001b[0m \u001b[1;33m-\u001b[0m\u001b[1;36m1\u001b[0m \u001b[1;32mor\u001b[0m \u001b[0mdistance\u001b[0m\u001b[1;33m>\u001b[0m\u001b[0mnew_distance\u001b[0m\u001b[1;33m)\u001b[0m\u001b[1;33m:\u001b[0m\u001b[1;33m\u001b[0m\u001b[0m\n\u001b[1;32m---> 29\u001b[1;33m             \u001b[0mtables\u001b[0m\u001b[1;33m[\u001b[0m\u001b[0mchild\u001b[0m\u001b[1;33m]\u001b[0m \u001b[1;33m=\u001b[0m \u001b[1;33m[\u001b[0m\u001b[0mnew_distance\u001b[0m\u001b[1;33m,\u001b[0m \u001b[0mevaluated\u001b[0m\u001b[1;33m,\u001b[0m \u001b[0mFalse\u001b[0m\u001b[1;33m]\u001b[0m\u001b[1;33m\u001b[0m\u001b[0m\n\u001b[0m\u001b[0;32m     30\u001b[0m     \u001b[1;31m# pilih dari table yang jaraknya terkecil dan masih openned, masukkan ke evaluated\u001b[0m\u001b[1;33m\u001b[0m\u001b[1;33m\u001b[0m\u001b[0m\n\u001b[0;32m     31\u001b[0m     \u001b[0mmin_distance\u001b[0m \u001b[1;33m=\u001b[0m \u001b[1;33m-\u001b[0m\u001b[1;36m1\u001b[0m\u001b[1;33m\u001b[0m\u001b[0m\n",
      "\u001b[1;31mNameError\u001b[0m: name 'tables' is not defined"
     ]
    }
   ],
   "source": [
    "NODES = {'USA', 'UK', 'CANADA', 'ALGERIA', 'MEXICO'}\n",
    "EDGES = {\n",
    "    'USA' : {'UK' : 10, 'CANADA' : 60, 'MEXICO' : 3},\n",
    "    'UK' : {'USA' : 10, 'ALGERIA' : 1},\n",
    "    'CANADA' : {'USA' : 60, 'ALGERIA' : 2},\n",
    "    'ALGERIA' : {'UK' : 1, 'CANADA' : 2},\n",
    "    'MEXICO' : {'USA' : 3}\n",
    "}\n",
    "START = 'CANADA'\n",
    "END = 'MEXICO'\n",
    "\n",
    "evaluated = START\n",
    "table = {}\n",
    "for node in NODES:\n",
    "    table[node] = [-1,'', False] # shortest distance, from, closed\n",
    "finished = False\n",
    "\n",
    "# lakukan selama syarat dan ketentuan berlaku\n",
    "while not finished:\n",
    "    # tutup evaluated\n",
    "    table[evaluated][2] = True\n",
    "    # lihat evaluated bisa ke mana aja\n",
    "    for child in EDGES[evaluated]:\n",
    "        new_distance = EDGES[evaluated][child]\n",
    "        # masukkan anak-anak evaluated ke table jika jaraknya kurang dari jarak di table\n",
    "        #    atau belum jarak di table = -1 dan belum closed\n",
    "        distance, origin, closed = table[child]\n",
    "        if not closed and (distance == -1 or distance>new_distance):\n",
    "            table[child] = [new_distance, evaluated, False]\n",
    "    # pilih dari table yang jaraknya terkecil dan masih openned, masukkan ke evaluated\n",
    "    min_distance = -1\n",
    "    next_evaluated = ''\n",
    "    for node in tables:\n",
    "        distance, origin, closed = table[node]\n",
    "        if not closed and (min_distance == -1 or distance < min_distance):\n",
    "            next_evaluated = node\n",
    "            min_distance = distance\n",
    "    print table\n",
    "    # tentukan finish atau tidak\n",
    "    if next_evaluated == '':\n",
    "        finished = True\n",
    "    else:\n",
    "        evaluated = next_evaluated"
   ]
  }
 ],
 "metadata": {
  "kernelspec": {
   "display_name": "Python 2",
   "language": "python",
   "name": "python2"
  },
  "language_info": {
   "codemirror_mode": {
    "name": "ipython",
    "version": 2
   },
   "file_extension": ".py",
   "mimetype": "text/x-python",
   "name": "python",
   "nbconvert_exporter": "python",
   "pygments_lexer": "ipython2",
   "version": "2.7.11+"
  }
 },
 "nbformat": 4,
 "nbformat_minor": 0
}
